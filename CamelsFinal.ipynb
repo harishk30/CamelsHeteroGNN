{
 "cells": [
  {
   "cell_type": "markdown",
   "metadata": {
    "id": "Ep2eK29S_5qq"
   },
   "source": [
    "\n",
    "# Loading Data"
   ]
  },
  {
   "cell_type": "code",
   "execution_count": null,
   "metadata": {
    "colab": {
     "base_uri": "https://localhost:8080/"
    },
    "id": "90wz8D6UuSs9",
    "outputId": "dd983309-3b41-4363-eec7-483d11cfc237"
   },
   "outputs": [
    {
     "name": "stdout",
     "output_type": "stream",
     "text": [
      "Collecting torch_geometric\n",
      "  Downloading torch_geometric-2.5.3-py3-none-any.whl.metadata (64 kB)\n",
      "\u001b[?25l     \u001b[90m━━━━━━━━━━━━━━━━━━━━━━━━━━━━━━━━━━━━━━━━\u001b[0m \u001b[32m0.0/64.2 kB\u001b[0m \u001b[31m?\u001b[0m eta \u001b[36m-:--:--\u001b[0m\r",
      "\u001b[2K     \u001b[90m━━━━━━━━━━━━━━━━━━━━━━━━━━━━━━━━━━━━━━━━\u001b[0m \u001b[32m64.2/64.2 kB\u001b[0m \u001b[31m2.3 MB/s\u001b[0m eta \u001b[36m0:00:00\u001b[0m\n",
      "\u001b[?25hRequirement already satisfied: tqdm in /usr/local/lib/python3.10/dist-packages (from torch_geometric) (4.66.5)\n",
      "Requirement already satisfied: numpy in /usr/local/lib/python3.10/dist-packages (from torch_geometric) (1.26.4)\n",
      "Requirement already satisfied: scipy in /usr/local/lib/python3.10/dist-packages (from torch_geometric) (1.13.1)\n",
      "Requirement already satisfied: fsspec in /usr/local/lib/python3.10/dist-packages (from torch_geometric) (2024.6.1)\n",
      "Requirement already satisfied: jinja2 in /usr/local/lib/python3.10/dist-packages (from torch_geometric) (3.1.4)\n",
      "Requirement already satisfied: aiohttp in /usr/local/lib/python3.10/dist-packages (from torch_geometric) (3.10.2)\n",
      "Requirement already satisfied: requests in /usr/local/lib/python3.10/dist-packages (from torch_geometric) (2.32.3)\n",
      "Requirement already satisfied: pyparsing in /usr/local/lib/python3.10/dist-packages (from torch_geometric) (3.1.2)\n",
      "Requirement already satisfied: scikit-learn in /usr/local/lib/python3.10/dist-packages (from torch_geometric) (1.3.2)\n",
      "Requirement already satisfied: psutil>=5.8.0 in /usr/local/lib/python3.10/dist-packages (from torch_geometric) (5.9.5)\n",
      "Requirement already satisfied: aiohappyeyeballs>=2.3.0 in /usr/local/lib/python3.10/dist-packages (from aiohttp->torch_geometric) (2.3.5)\n",
      "Requirement already satisfied: aiosignal>=1.1.2 in /usr/local/lib/python3.10/dist-packages (from aiohttp->torch_geometric) (1.3.1)\n",
      "Requirement already satisfied: attrs>=17.3.0 in /usr/local/lib/python3.10/dist-packages (from aiohttp->torch_geometric) (24.2.0)\n",
      "Requirement already satisfied: frozenlist>=1.1.1 in /usr/local/lib/python3.10/dist-packages (from aiohttp->torch_geometric) (1.4.1)\n",
      "Requirement already satisfied: multidict<7.0,>=4.5 in /usr/local/lib/python3.10/dist-packages (from aiohttp->torch_geometric) (6.0.5)\n",
      "Requirement already satisfied: yarl<2.0,>=1.0 in /usr/local/lib/python3.10/dist-packages (from aiohttp->torch_geometric) (1.9.4)\n",
      "Requirement already satisfied: async-timeout<5.0,>=4.0 in /usr/local/lib/python3.10/dist-packages (from aiohttp->torch_geometric) (4.0.3)\n",
      "Requirement already satisfied: MarkupSafe>=2.0 in /usr/local/lib/python3.10/dist-packages (from jinja2->torch_geometric) (2.1.5)\n",
      "Requirement already satisfied: charset-normalizer<4,>=2 in /usr/local/lib/python3.10/dist-packages (from requests->torch_geometric) (3.3.2)\n",
      "Requirement already satisfied: idna<4,>=2.5 in /usr/local/lib/python3.10/dist-packages (from requests->torch_geometric) (3.7)\n",
      "Requirement already satisfied: urllib3<3,>=1.21.1 in /usr/local/lib/python3.10/dist-packages (from requests->torch_geometric) (2.0.7)\n",
      "Requirement already satisfied: certifi>=2017.4.17 in /usr/local/lib/python3.10/dist-packages (from requests->torch_geometric) (2024.7.4)\n",
      "Requirement already satisfied: joblib>=1.1.1 in /usr/local/lib/python3.10/dist-packages (from scikit-learn->torch_geometric) (1.4.2)\n",
      "Requirement already satisfied: threadpoolctl>=2.0.0 in /usr/local/lib/python3.10/dist-packages (from scikit-learn->torch_geometric) (3.5.0)\n",
      "Downloading torch_geometric-2.5.3-py3-none-any.whl (1.1 MB)\n",
      "\u001b[2K   \u001b[90m━━━━━━━━━━━━━━━━━━━━━━━━━━━━━━━━━━━━━━━━\u001b[0m \u001b[32m1.1/1.1 MB\u001b[0m \u001b[31m19.9 MB/s\u001b[0m eta \u001b[36m0:00:00\u001b[0m\n",
      "\u001b[?25hInstalling collected packages: torch_geometric\n",
      "Successfully installed torch_geometric-2.5.3\n"
     ]
    }
   ],
   "source": [
    "pip install torch_geometric"
   ]
  },
  {
   "cell_type": "code",
   "execution_count": 1,
   "metadata": {
    "id": "JlLkEWbmiyYj"
   },
   "outputs": [],
   "source": [
    "import numpy as np\n",
    "import h5py"
   ]
  },
  {
   "cell_type": "code",
   "execution_count": null,
   "metadata": {
    "id": "THXTiqZQmCO0"
   },
   "outputs": [],
   "source": [
    "M_star = f['Subhalo/SubhaloMassType'][:,4]*1e10\n",
    "pos  = f['Subhalo/SubhaloPos'][:]/1e3\n",
    "vel = f['Subhalo/SubhaloVel'][:]\n",
    "met = f['Subhalo/SubhaloStarMetallicity'][:]"
   ]
  },
  {
   "cell_type": "code",
   "execution_count": 2,
   "metadata": {
    "id": "dgJ7wxu6sLUM"
   },
   "outputs": [],
   "source": [
    "def load_and_filter_data(file, mass_threshold=2e8):\n",
    "    with h5py.File(file, 'r') as f:\n",
    "        positions = f['Subhalo/SubhaloPos'][:]/1e3  # Convert to Mpc/h\n",
    "        vel = f['Subhalo/SubhaloVel'][:]\n",
    "        metallicities = f['Subhalo/SubhaloStarMetallicity'][:]\n",
    "        masses = f['Subhalo/SubhaloMassType'][:,4]*1e10  # Stellar mass\n",
    "        omega_m = f['Header'].attrs['Omega0']\n",
    "\n",
    "    # Filter galaxies based on the stellar mass threshold\n",
    "    mask = masses > mass_threshold\n",
    "    positions = positions[mask]\n",
    "    vel = vel[mask]\n",
    "    metallicities = metallicities[mask]\n",
    "    masses = masses[mask]\n",
    "\n",
    "    return positions, vel, metallicities, masses, omega_m"
   ]
  },
  {
   "cell_type": "code",
   "execution_count": 3,
   "metadata": {
    "id": "--oaAn3kDLtU"
   },
   "outputs": [],
   "source": [
    "def apply_periodic_boundary_conditions(positions, box_size):\n",
    "    # Wrap positions to the box size\n",
    "    positions = positions % box_size\n",
    "    return positions"
   ]
  },
  {
   "cell_type": "code",
   "execution_count": 4,
   "metadata": {
    "id": "B7VnGquYDPRe"
   },
   "outputs": [],
   "source": [
    "def minimum_image_distance(pos1, pos2, box_size):\n",
    "    # Calculate the minimum image distance between two points\n",
    "    delta = np.abs(pos1 - pos2)\n",
    "    delta = np.where(delta > 0.5 * box_size, box_size - delta, delta)\n",
    "    return np.sqrt((delta ** 2).sum(axis=-1))"
   ]
  },
  {
   "cell_type": "code",
   "execution_count": 5,
   "metadata": {
    "id": "lKOyScsvstrg"
   },
   "outputs": [],
   "source": [
    "from scipy.spatial import KDTree\n",
    "\n",
    "def distance(point1, point2):\n",
    "    return np.linalg.norm(point1 - point2)\n",
    "\n",
    "def create_edges_knn(points, k=6):\n",
    "    edges = []\n",
    "    edge_value = []\n",
    "\n",
    "    # Create a KDTree for efficient nearest neighbor search\n",
    "    point_tree = KDTree(points)\n",
    "\n",
    "    for i in range(len(points)):\n",
    "        # Query the k nearest neighbors for each point\n",
    "        _, neighbors = point_tree.query(points[i], k=k+1)\n",
    "\n",
    "        for j in neighbors[1:]:  # Skip the first neighbor because it's the point itself\n",
    "            # Add an edge between the point and its neighbor\n",
    "            edges.append([i, j])\n",
    "\n",
    "            # Compute the distance between the points as the edge value\n",
    "            edge_value.append(distance(points[i], points[j]))\n",
    "\n",
    "    return [edges, edge_value]"
   ]
  },
  {
   "cell_type": "code",
   "execution_count": 6,
   "metadata": {
    "id": "ztRfbIqROn7N"
   },
   "outputs": [],
   "source": [
    "from tqdm import tqdm\n",
    "def min_distance(positions, box_size = 25):\n",
    "    min_distance = np.inf\n",
    "    max_distance = 0\n",
    "\n",
    "    # Iterate over all pairs of galaxies\n",
    "    for i in range(len(positions)):\n",
    "        for j in range(i + 1, len(positions)):\n",
    "            dist = minimum_image_distance(positions[i], positions[j], box_size)\n",
    "            if dist < min_distance:\n",
    "                min_distance = dist\n",
    "            if dist > max_distance:\n",
    "                max_distance = dist\n",
    "\n",
    "    # Print the results\n",
    "    print(f\"Minimum distance: {min_distance} Mpc/h\")\n",
    "    print(f\"Maximum distance: {max_distance} Mpc/h\")"
   ]
  },
  {
   "cell_type": "code",
   "execution_count": 7,
   "metadata": {
    "id": "l40oy2_KRiWJ"
   },
   "outputs": [],
   "source": [
    "def minimum_image_distance_vectorized(positions, box_size = 25):\n",
    "    num_galaxies = positions.shape[0]\n",
    "\n",
    "    # Compute pairwise differences in each dimension\n",
    "    diff = positions[:, np.newaxis, :] - positions[np.newaxis, :, :]\n",
    "\n",
    "    # Apply periodic boundary conditions\n",
    "    diff = np.abs(diff)\n",
    "    diff = np.where(diff > 0.5 * box_size, box_size - diff, diff)\n",
    "\n",
    "    # Compute the Euclidean distance\n",
    "    dist = np.sqrt(np.sum(diff ** 2, axis=-1))\n",
    "\n",
    "    return dist"
   ]
  },
  {
   "cell_type": "code",
   "execution_count": 8,
   "metadata": {
    "id": "zPQB3MDzDcid"
   },
   "outputs": [],
   "source": [
    "from tqdm import tqdm\n",
    "from scipy.spatial import cKDTree\n",
    "def create_edges_knn_pbc(points, box_size = 25, k=6):\n",
    "    tree = KDTree(points, boxsize=box_size)\n",
    "\n",
    "    edges = []\n",
    "    edge_values = []\n",
    "    '''\n",
    "    distances = minimum_image_distance_vectorized(points, box_size)\n",
    "    # Mask the diagonal (self-distances which are zero)\n",
    "    np.fill_diagonal(distances, np.inf)\n",
    "    # Get the minimum and maximum distances\n",
    "    min_distance = np.min(distances)\n",
    "    max_distance = np.max(np.triu(distances, k=1))\n",
    "    print(min_distance, max_distance)\n",
    "    '''\n",
    "\n",
    "    min_distance = np.inf\n",
    "    max_distance = 0\n",
    "    large_distance_count = 0\n",
    "\n",
    "    for i in range(len(points)):\n",
    "        distances, neighbors = tree.query(points[i], k=k+1)\n",
    "        for j, tree_dist in zip(neighbors[1:], distances[1:]):\n",
    "            if j != i and j < len(points):\n",
    "                actual_distance = minimum_image_distance(points[i], points[j], box_size)\n",
    "                edges.append([i, j])\n",
    "                edge_values.append(actual_distance)\n",
    "                min_distance = min(min_distance, actual_distance)\n",
    "                max_distance = max(max_distance, actual_distance)\n",
    "    return np.array(edges), np.array(edge_values)\n"
   ]
  },
  {
   "cell_type": "code",
   "execution_count": 9,
   "metadata": {
    "id": "m5XiGu3wtkRA"
   },
   "outputs": [],
   "source": [
    "def create_points(positions, masses, vel, met):\n",
    "    point_features = []\n",
    "    for i, pos in enumerate(positions):\n",
    "        #point_features.append(list(pos) + list(vel[i]) + [masses[i]] + [met[i]])\n",
    "        point_features.append(list(pos) + [masses[i]] + [met[i]])\n",
    "    return point_features"
   ]
  },
  {
   "cell_type": "code",
   "execution_count": 10,
   "metadata": {
    "id": "3CE9AtwhuAKs"
   },
   "outputs": [],
   "source": [
    "from torch_geometric.data import Data\n",
    "import torch\n",
    "def create_graph(file_path, k_val=6):\n",
    "    positions, velocity, metallicities, masses, omega_m = load_and_filter_data(file_path)\n",
    "    edges, edge_values = create_edges_knn_pbc(positions, 25, k_val)\n",
    "    point_values = create_points(positions, masses, velocity, metallicities)\n",
    "\n",
    "    edge_index = torch.tensor(edges, dtype=torch.long).t().contiguous()\n",
    "    point_values = torch.tensor(point_values, dtype=torch.float)\n",
    "    edge_value = torch.tensor(edge_values, dtype=torch.float)\n",
    "\n",
    "    return [point_values, edge_index, edge_value, omega_m]"
   ]
  },
  {
   "cell_type": "code",
   "execution_count": 11,
   "metadata": {
    "id": "mhxwN1mIub7M"
   },
   "outputs": [],
   "source": [
    "def turn_data(graph):\n",
    "    graph_data = Data(x=graph[0], edge_index=graph[1], edge_attr=graph[2], y = graph[3])\n",
    "    return graph_data"
   ]
  },
  {
   "cell_type": "code",
   "execution_count": 12,
   "metadata": {},
   "outputs": [
    {
     "data": {
      "text/plain": [
       "True"
      ]
     },
     "execution_count": 12,
     "metadata": {},
     "output_type": "execute_result"
    }
   ],
   "source": [
    "import torch\n",
    "torch.cuda.is_available()"
   ]
  },
  {
   "cell_type": "code",
   "execution_count": 13,
   "metadata": {
    "id": "_PXmi7cFLFqy"
   },
   "outputs": [],
   "source": [
    "import torch_geometric.transforms as T\n",
    "def create_data(file_path, k_val=6):\n",
    "    graph = create_graph(file_path, k_val)\n",
    "    data = turn_data(graph)\n",
    "    data = T.ToUndirected()(data)\n",
    "    #data = T.NormalizeFeatures()(data)\n",
    "    return data"
   ]
  },
  {
   "cell_type": "code",
   "execution_count": 14,
   "metadata": {
    "id": "V9zLYGSy_cz4"
   },
   "outputs": [],
   "source": [
    "def calculate_normalization_params(data_list):\n",
    "    # Concatenate all node features and edge attributes\n",
    "    all_x = torch.cat([data.x for data in data_list], dim=0)\n",
    "    all_edge_attr = torch.cat([data.edge_attr for data in data_list], dim=0)\n",
    "\n",
    "    # Calculate mean and std for node features and edge attributes\n",
    "    x_mean, x_std = all_x.mean(dim=0), all_x.std(dim=0)\n",
    "    edge_attr_mean, edge_attr_std = all_edge_attr.mean(dim=0), all_edge_attr.std(dim=0)\n",
    "\n",
    "    return (x_mean, x_std), (edge_attr_mean, edge_attr_std)\n",
    "\n",
    "def normalize_dataset(data_list, x_params, edge_attr_params):\n",
    "    x_mean, x_std = x_params\n",
    "    edge_attr_mean, edge_attr_std = edge_attr_params\n",
    "\n",
    "    normalized_data_list = []\n",
    "    for data in data_list:\n",
    "        normalized_x = (data.x - x_mean) / (x_std + 1e-8)\n",
    "        normalized_edge_attr = (data.edge_attr - edge_attr_mean) / (edge_attr_std + 1e-8)\n",
    "\n",
    "        # Create a new Data object with normalized features and original y value\n",
    "        normalized_data = Data(x=normalized_x,\n",
    "                               edge_index=data.edge_index,\n",
    "                               edge_attr=normalized_edge_attr,\n",
    "                               y=data.y)  # Preserve the original y value\n",
    "\n",
    "        normalized_data_list.append(normalized_data)\n",
    "\n",
    "    return normalized_data_list"
   ]
  },
  {
   "cell_type": "code",
   "execution_count": null,
   "metadata": {
    "id": "qoAJQ_raMZ3c"
   },
   "outputs": [
    {
     "name": "stderr",
     "output_type": "stream",
     "text": [
      " 90%|█████████ | 903/1000 [03:03<00:20,  4.62it/s]"
     ]
    }
   ],
   "source": [
    "import torch\n",
    "import os\n",
    "from torch.utils.data import random_split\n",
    "from torch_geometric.data import DataLoader\n",
    "import h5py\n",
    "directory = '/scratch/gpfs/hk4638/FinalData/NewData'\n",
    "def load_all_graphs(directory, k_val=10, box_size=25):\n",
    "    file_list = os.listdir(directory)\n",
    "    data_list = []\n",
    "    for file_name in tqdm(file_list):\n",
    "        file_path = os.path.join(directory, file_name)\n",
    "        graph_data = create_data(file_path, k_val)\n",
    "        data_list.append(graph_data)\n",
    "    return data_list\n",
    "\n",
    "# Load all graphs\n",
    "data_list = load_all_graphs(directory)\n",
    "\n",
    "# Calculate normalization parameters based on all graphs\n",
    "x_params, edge_attr_params = calculate_normalization_params(data_list)\n",
    "\n",
    "# Normalize the dataset using the calculated parameters\n",
    "normalized_data_list = normalize_dataset(data_list, x_params, edge_attr_params)\n",
    "\n",
    "import torch\n",
    "import numpy as np\n",
    "\n",
    "def numpy_to_torch_float(data):\n",
    "    if isinstance(data, np.ndarray):\n",
    "        return torch.from_numpy(data).float()\n",
    "    elif isinstance(data, (np.float64, np.float32)):\n",
    "        return torch.tensor(data, dtype=torch.float32)\n",
    "    elif isinstance(data, torch.Tensor):\n",
    "        return data.float()\n",
    "    else:\n",
    "        return data\n",
    "        \n",
    "def ensure_torch_float32(data):\n",
    "    data.x = numpy_to_torch_float(data.x)\n",
    "    data.edge_attr = numpy_to_torch_float(data.edge_attr)\n",
    "    if hasattr(data, 'y'):\n",
    "        data.y = numpy_to_torch_float(data.y)\n",
    "    return data\n",
    "    \n",
    "normalized_data_list = [ensure_torch_float32(data) for data in normalized_data_list]\n",
    "\n",
    "# Calculate the lengths for the 70-15-15 split\n",
    "total_len = len(normalized_data_list)\n",
    "train_len = int(0.7 * total_len)\n",
    "val_len = int(0.15 * total_len)\n",
    "test_len = total_len - train_len - val_len  # Ensures all data is used\n",
    "\n",
    "# Perform the split\n",
    "train_data, val_data, test_data = random_split(normalized_data_list, [train_len, val_len, test_len])\n",
    "\n",
    "# Create DataLoaders for each split\n",
    "batch_size = 32\n",
    "train_loader = DataLoader(train_data, batch_size=batch_size, shuffle=True)\n",
    "val_loader = DataLoader(val_data, batch_size=batch_size, shuffle=False)\n",
    "test_loader = DataLoader(test_data, batch_size=batch_size, shuffle=False)"
   ]
  },
  {
   "cell_type": "markdown",
   "metadata": {},
   "source": [
    "# Heterogenous "
   ]
  },
  {
   "cell_type": "code",
   "execution_count": 21,
   "metadata": {},
   "outputs": [],
   "source": [
    "import numpy as np\n",
    "import h5py\n",
    "import torch\n",
    "from torch_geometric.data import HeteroData\n",
    "from scipy.spatial import cKDTree\n",
    "from tqdm import tqdm\n",
    "\n",
    "def load_and_filter_data(file, mass_threshold=2e8):\n",
    "    with h5py.File(file, 'r') as f:\n",
    "        positions = f['Subhalo/SubhaloPos'][:]/1e3  # Convert to Mpc/h\n",
    "        metallicities = f['Subhalo/SubhaloStarMetallicity'][:]\n",
    "        masses = f['Subhalo/SubhaloMassType'][:,4]*1e10  # Stellar mass\n",
    "        omega_m = f['Header'].attrs['Omega0']\n",
    "    # Filter galaxies based on the stellar mass threshold\n",
    "    mask = masses > mass_threshold\n",
    "    return positions[mask], metallicities[mask], masses[mask], omega_m\n",
    "\n",
    "def split_galaxies(positions, masses, metallicities, split_ratios):\n",
    "    total_galaxies = len(positions)\n",
    "    indices = np.random.permutation(total_galaxies)\n",
    "    split_points = [int(ratio * total_galaxies) for ratio in np.cumsum(split_ratios)]\n",
    "    \n",
    "    a_indices = indices[:split_points[0]]\n",
    "    b_indices = indices[split_points[0]:split_points[1]]\n",
    "    c_indices = indices[split_points[1]:]\n",
    "    \n",
    "    return {\n",
    "        'A': (positions[a_indices], masses[a_indices], metallicities[a_indices]),\n",
    "        'B': (positions[b_indices], masses[b_indices], metallicities[b_indices]),\n",
    "        'C': (positions[c_indices], masses[c_indices], metallicities[c_indices])\n",
    "    }\n",
    "\n",
    "def minimum_image_distance(pos1, pos2, box_size):\n",
    "    delta = np.abs(pos1 - pos2)\n",
    "    delta = np.where(delta > 0.5 * box_size, box_size - delta, delta)\n",
    "    return np.sqrt((delta ** 2).sum(axis=-1))\n",
    "\n",
    "def create_edges_hetero(node_data, box_size=25, k=6):\n",
    "    all_positions = np.concatenate([node_data[t][0] for t in ['A', 'B', 'C']])\n",
    "    tree = cKDTree(all_positions, boxsize=box_size)\n",
    "    \n",
    "    edge_dict = {}\n",
    "    node_types = ['A', 'B', 'C']\n",
    "    start_idx = {'A': 0, 'B': len(node_data['A'][0]), 'C': len(node_data['A'][0]) + len(node_data['B'][0])}\n",
    "    \n",
    "    for src_type in node_types:\n",
    "        src_positions = node_data[src_type][0]\n",
    "        for dst_type in node_types:\n",
    "            dst_positions = node_data[dst_type][0]\n",
    "            edges = []\n",
    "            edge_attrs = []\n",
    "            \n",
    "            for i, pos in enumerate(src_positions):\n",
    "                distances, neighbors = tree.query(pos, k=k+1)\n",
    "                for j, dist in zip(neighbors[1:], distances[1:]):\n",
    "                    if start_idx[dst_type] <= j < start_idx[dst_type] + len(dst_positions):\n",
    "                        edges.append([i, j - start_idx[dst_type]])\n",
    "                        if src_type != 'B' and dst_type != 'B':\n",
    "                            actual_distance = minimum_image_distance(pos, all_positions[j], box_size)\n",
    "                            edge_attrs.append([actual_distance])\n",
    "                        else:\n",
    "                            edge_attrs.append([0.0])  # Placeholder for B connections\n",
    "            \n",
    "            if edges:\n",
    "                edge_dict[(src_type, 'to', dst_type)] = (np.array(edges).T, np.array(edge_attrs))\n",
    "    \n",
    "    return edge_dict\n",
    "\n",
    "def create_heterogeneous_graph(file_path, split_ratios, k_val=6):\n",
    "    positions, metallicities, masses, omega_m = load_and_filter_data(file_path)\n",
    "    node_data = split_galaxies(positions, masses, metallicities, split_ratios)\n",
    "    edge_dict = create_edges_hetero(node_data, k=k_val)\n",
    "    \n",
    "    data = HeteroData()\n",
    "    \n",
    "    # Add node features\n",
    "    data['A'].x = torch.tensor(np.column_stack(node_data['A'][0:1]), dtype=torch.float) # only position for A\n",
    "    data['B'].x = torch.tensor(np.column_stack(node_data['B'][1:]), dtype=torch.float)  # Exclude positions for B\n",
    "    data['C'].x = torch.tensor(np.column_stack(node_data['C']), dtype=torch.float)\n",
    "    \n",
    "    # Add edges\n",
    "    for edge_type, (edge_index, edge_attr) in edge_dict.items():\n",
    "        data[edge_type].edge_index = torch.tensor(edge_index, dtype=torch.long)\n",
    "        if edge_type[0] != 'B' and edge_type[2] != 'B':\n",
    "            data[edge_type].edge_attr = torch.tensor(edge_attr, dtype=torch.float)\n",
    "    \n",
    "    # Add global target\n",
    "    data.y = torch.tensor([omega_m], dtype=torch.float)\n",
    "    \n",
    "    return data\n",
    "\n",
    "def create_dataset(file_paths, split_ratios, k_val=6):\n",
    "    dataset = []\n",
    "    for file_path in tqdm(file_paths, desc=\"Creating dataset\"):\n",
    "        graph = create_heterogeneous_graph(file_path, split_ratios, k_val)\n",
    "        graph = T.ToUndirected()(graph)\n",
    "        dataset.append(graph)\n",
    "    return dataset\n",
    "\n",
    "def calculate_normalization_params(dataset):\n",
    "    node_features = {node_type: [] for node_type in ['A', 'B', 'C']}\n",
    "    edge_features = {edge_type: [] for edge_type in [('A', 'to', 'A'), ('A', 'to', 'C'), ('C', 'to', 'C')]}\n",
    "    \n",
    "    for data in dataset:\n",
    "        for node_type in ['A', 'B', 'C']:\n",
    "            node_features[node_type].append(data[node_type].x)\n",
    "        \n",
    "        for edge_type in [('A', 'to', 'A'), ('A', 'to', 'C'), ('C', 'to', 'C')]:\n",
    "            if edge_type in data.edge_types and hasattr(data[edge_type], 'edge_attr'):\n",
    "                edge_features[edge_type].append(data[edge_type].edge_attr)\n",
    "    \n",
    "    norm_params = {}\n",
    "    for node_type, features in node_features.items():\n",
    "        if features:\n",
    "            features = torch.cat(features, dim=0)\n",
    "            norm_params[f'{node_type}_mean'] = features.mean(dim=0)\n",
    "            norm_params[f'{node_type}_std'] = features.std(dim=0)\n",
    "    \n",
    "    for edge_type, features in edge_features.items():\n",
    "        if features:\n",
    "            features = torch.cat(features, dim=0)\n",
    "            norm_params[f'{edge_type}_mean'] = features.mean(dim=0)\n",
    "            norm_params[f'{edge_type}_std'] = features.std(dim=0)\n",
    "    \n",
    "    return norm_params\n",
    "\n",
    "def normalize_graph(graph, norm_params):\n",
    "    for node_type in ['A', 'B', 'C']:\n",
    "        mean = norm_params[f'{node_type}_mean']\n",
    "        std = norm_params[f'{node_type}_std']\n",
    "        graph[node_type].x = (graph[node_type].x - mean) / (std + 1e-8)\n",
    "    \n",
    "    for edge_type in [('A', 'to', 'A'), ('A', 'to', 'C'), ('C', 'to', 'C')]:\n",
    "        if edge_type in graph.edge_types and hasattr(graph[edge_type], 'edge_attr'):\n",
    "            mean = norm_params[f'{edge_type}_mean']\n",
    "            std = norm_params[f'{edge_type}_std']\n",
    "            graph[edge_type].edge_attr = (graph[edge_type].edge_attr - mean) / (std + 1e-8)\n",
    "    \n",
    "    return graph\n",
    "\n",
    "def normalize_dataset(dataset):\n",
    "    norm_params = calculate_normalization_params(dataset)\n",
    "    normalized_dataset = [normalize_graph(graph, norm_params) for graph in dataset]\n",
    "    return normalized_dataset, norm_params"
   ]
  },
  {
   "cell_type": "code",
   "execution_count": 22,
   "metadata": {},
   "outputs": [
    {
     "name": "stderr",
     "output_type": "stream",
     "text": [
      "Loading graphs: 100%|██████████| 1000/1000 [02:11<00:00,  7.58it/s]\n",
      "/tmp/ipykernel_2029888/3858287339.py:34: UserWarning: To copy construct from a tensor, it is recommended to use sourceTensor.clone().detach() or sourceTensor.clone().detach().requires_grad_(True), rather than torch.tensor(sourceTensor).\n",
      "  data[node_type].x = torch.tensor(data[node_type].x, dtype=torch.float32)\n",
      "/tmp/ipykernel_2029888/3858287339.py:37: UserWarning: To copy construct from a tensor, it is recommended to use sourceTensor.clone().detach() or sourceTensor.clone().detach().requires_grad_(True), rather than torch.tensor(sourceTensor).\n",
      "  data[edge_type].edge_attr = torch.tensor(data[edge_type].edge_attr, dtype=torch.float32)\n",
      "/tmp/ipykernel_2029888/3858287339.py:38: UserWarning: To copy construct from a tensor, it is recommended to use sourceTensor.clone().detach() or sourceTensor.clone().detach().requires_grad_(True), rather than torch.tensor(sourceTensor).\n",
      "  data.y = torch.tensor(data.y, dtype=torch.float32)\n"
     ]
    },
    {
     "name": "stdout",
     "output_type": "stream",
     "text": [
      "Total number of graphs: 1000\n",
      "Number of training graphs: 700\n",
      "Number of validation graphs: 150\n",
      "Number of test graphs: 150\n"
     ]
    }
   ],
   "source": [
    "import torch\n",
    "import os\n",
    "from torch.utils.data import random_split\n",
    "from torch_geometric.loader import DataLoader\n",
    "import h5py\n",
    "from tqdm import tqdm\n",
    "\n",
    "# Assuming the previously defined functions are available:\n",
    "# create_heterogeneous_graph, calculate_normalization_params, normalize_graph\n",
    "\n",
    "directory = '/scratch/gpfs/hk4638/FinalData/NewData'\n",
    "\n",
    "def load_all_heterogeneous_graphs(directory, split_ratios, k_val=10, box_size=25):\n",
    "    file_list = os.listdir(directory)\n",
    "    data_list = []\n",
    "    for file_name in tqdm(file_list, desc=\"Loading graphs\"):\n",
    "        file_path = os.path.join(directory, file_name)\n",
    "        graph_data = create_heterogeneous_graph(file_path, split_ratios, k_val)\n",
    "        data_list.append(graph_data)\n",
    "    return data_list\n",
    "\n",
    "# Load all heterogeneous graphs\n",
    "split_ratios = [0.3, 0.3, 0.4]  # 30% A, 30% B, 40% C\n",
    "data_list = load_all_heterogeneous_graphs(directory, split_ratios)\n",
    "\n",
    "# Calculate normalization parameters based on all graphs\n",
    "norm_params = calculate_normalization_params(data_list)\n",
    "\n",
    "# Normalize the dataset using the calculated parameters\n",
    "normalized_data_list = [normalize_graph(graph, norm_params) for graph in data_list]\n",
    "\n",
    "def ensure_torch_float32(data):\n",
    "    for node_type in data.node_types:\n",
    "        data[node_type].x = torch.tensor(data[node_type].x, dtype=torch.float32)\n",
    "    for edge_type in data.edge_types:\n",
    "        if hasattr(data[edge_type], 'edge_attr'):\n",
    "            data[edge_type].edge_attr = torch.tensor(data[edge_type].edge_attr, dtype=torch.float32)\n",
    "    data.y = torch.tensor(data.y, dtype=torch.float32)\n",
    "    return data\n",
    "\n",
    "normalized_data_list = [ensure_torch_float32(data) for data in normalized_data_list]\n",
    "\n",
    "# Calculate the lengths for the 70-15-15 split\n",
    "total_len = len(normalized_data_list)\n",
    "train_len = int(0.7 * total_len)\n",
    "val_len = int(0.15 * total_len)\n",
    "test_len = total_len - train_len - val_len  # Ensures all data is used\n",
    "\n",
    "# Perform the split\n",
    "train_data, val_data, test_data = random_split(normalized_data_list, [train_len, val_len, test_len])\n",
    "\n",
    "# Create DataLoaders for each split\n",
    "batch_size = 32\n",
    "train_loader = DataLoader(train_data, batch_size=batch_size, shuffle=True)\n",
    "val_loader = DataLoader(val_data, batch_size=batch_size, shuffle=False)\n",
    "test_loader = DataLoader(test_data, batch_size=batch_size, shuffle=False)\n",
    "\n",
    "# Print some information about the dataset\n",
    "print(f\"Total number of graphs: {total_len}\")\n",
    "print(f\"Number of training graphs: {train_len}\")\n",
    "print(f\"Number of validation graphs: {val_len}\")\n",
    "print(f\"Number of test graphs: {test_len}\")"
   ]
  },
  {
   "cell_type": "markdown",
   "metadata": {
    "id": "eD3eA9nTAAch"
   },
   "source": [
    "# Training Model"
   ]
  },
  {
   "cell_type": "markdown",
   "metadata": {},
   "source": [
    "## Models"
   ]
  },
  {
   "cell_type": "code",
   "execution_count": 16,
   "metadata": {},
   "outputs": [],
   "source": [
    "import torch\n",
    "import torch.nn as nn\n",
    "import torch.nn.functional as F\n",
    "from torch_geometric.nn import GATConv, GATv2Conv, global_mean_pool\n",
    "\n",
    "class ComplexGAT(torch.nn.Module):\n",
    "    def __init__(self, in_channels, hidden_channels, num_layers=4, heads=4, dropout_rate=0.1):\n",
    "        super(ComplexGAT, self).__init__()\n",
    "        self.dropout_rate = dropout_rate\n",
    "\n",
    "        self.conv1 = GATv2Conv(in_channels, hidden_channels, heads=heads, concat=True, edge_dim=1)\n",
    "        #self.conv1 = GATConv(in_channels, hidden_channels, heads=heads, concat=True, edge_dim=1)\n",
    "\n",
    "        self.convs = nn.ModuleList([\n",
    "            GATv2Conv(hidden_channels * heads, hidden_channels, heads=heads, concat=True, edge_dim=1)\n",
    "            #GATConv(hidden_channels * heads, hidden_channels, heads=heads, concat=True, edge_dim=1)\n",
    "            for _ in range(num_layers - 2)\n",
    "        ])\n",
    "\n",
    "        self.conv_last = GATv2Conv(hidden_channels * heads, hidden_channels, heads=1, concat=False, edge_dim=1)\n",
    "        #self.conv_last = GATConv(hidden_channels * heads, hidden_channels, heads=1, concat=False, edge_dim=1)\n",
    "\n",
    "        self.fc1 = nn.Linear(hidden_channels, hidden_channels)\n",
    "        self.fc2 = nn.Linear(hidden_channels, 1)  # Output a single value for omega_m\n",
    "\n",
    "    def forward(self, data):\n",
    "        x, edge_index, edge_attr, batch = data.x, data.edge_index, data.edge_attr, data.batch\n",
    "\n",
    "        x = F.relu(self.conv1(x, edge_index, edge_attr=edge_attr))\n",
    "        x = F.dropout(x, p=self.dropout_rate, training=self.training)\n",
    "\n",
    "        for conv in self.convs:\n",
    "            x = F.relu(conv(x, edge_index, edge_attr=edge_attr))\n",
    "            x = F.dropout(x, p=self.dropout_rate, training=self.training)\n",
    "\n",
    "        x = self.conv_last(x, edge_index, edge_attr=edge_attr)\n",
    "\n",
    "        x = global_mean_pool(x, batch)\n",
    "        x = F.relu(self.fc1(x))\n",
    "        x = self.fc2(x)\n",
    "\n",
    "        return x.squeeze()"
   ]
  },
  {
   "cell_type": "code",
   "execution_count": 28,
   "metadata": {
    "id": "mksges42ACLq"
   },
   "outputs": [],
   "source": [
    "import torch\n",
    "import torch.nn as nn\n",
    "import torch.nn.functional as F\n",
    "from torch_geometric.nn import GATConv, GATv2Conv, global_mean_pool\n",
    "\n",
    "class ComplexGAT(torch.nn.Module):\n",
    "    def __init__(self, in_channels, hidden_channels, num_layers=4, heads=4, dropout_rate=0.1):\n",
    "        super(ComplexGAT, self).__init__()\n",
    "        self.dropout_rate = dropout_rate\n",
    "\n",
    "        # First GAT layer\n",
    "        self.conv1 = GATv2Conv(in_channels, hidden_channels, heads=heads, concat=True, edge_dim=1)\n",
    "        self.ln1 = nn.LayerNorm(hidden_channels * heads)  # LayerNorm after first layer\n",
    "\n",
    "        # Intermediate GAT layers\n",
    "        self.convs = nn.ModuleList([\n",
    "            GATv2Conv(hidden_channels * heads, hidden_channels, heads=heads, concat=True, edge_dim=1)\n",
    "            for _ in range(num_layers - 2)\n",
    "        ])\n",
    "        self.lns = nn.ModuleList([nn.LayerNorm(hidden_channels * heads) for _ in range(num_layers - 2)])\n",
    "\n",
    "        # Final GAT layer\n",
    "        self.conv_last = GATv2Conv(hidden_channels * heads, hidden_channels, heads=1, concat=False, edge_dim=1)\n",
    "        self.ln_last = nn.LayerNorm(hidden_channels)  # LayerNorm after last layer\n",
    "\n",
    "        # Fully connected layers\n",
    "        self.fc1 = nn.Linear(hidden_channels, hidden_channels)\n",
    "        self.fc2 = nn.Linear(hidden_channels, 1)  # Output a single value for omega_m\n",
    "\n",
    "    def forward(self, data):\n",
    "        x, edge_index, edge_attr, batch = data.x, data.edge_index, data.edge_attr, data.batch\n",
    "\n",
    "        # First GAT layer with LayerNorm\n",
    "        x = self.conv1(x, edge_index, edge_attr=edge_attr)\n",
    "        x = self.ln1(x)  # Apply LayerNorm\n",
    "        x = F.relu(x)\n",
    "        x = F.dropout(x, p=self.dropout_rate, training=self.training)\n",
    "\n",
    "        # Intermediate GAT layers with LayerNorm\n",
    "        for conv, ln in zip(self.convs, self.lns):\n",
    "            x = conv(x, edge_index, edge_attr=edge_attr)\n",
    "            x = ln(x)  # Apply LayerNorm\n",
    "            x = F.relu(x)\n",
    "            x = F.dropout(x, p=self.dropout_rate, training=self.training)\n",
    "\n",
    "        # Final GAT layer with LayerNorm\n",
    "        x = self.conv_last(x, edge_index, edge_attr=edge_attr)\n",
    "        x = self.ln_last(x)  # Apply LayerNorm\n",
    "        x = F.relu(x)\n",
    "\n",
    "        # Global mean pooling\n",
    "        x = global_mean_pool(x, batch)\n",
    "        x = F.relu(self.fc1(x))\n",
    "        x = self.fc2(x)\n",
    "\n",
    "        return x.squeeze()"
   ]
  },
  {
   "cell_type": "code",
   "execution_count": 34,
   "metadata": {},
   "outputs": [
    {
     "ename": "ModuleNotFoundError",
     "evalue": "No module named 'torch_scatter'",
     "output_type": "error",
     "traceback": [
      "\u001b[0;31m---------------------------------------------------------------------------\u001b[0m",
      "\u001b[0;31mModuleNotFoundError\u001b[0m                       Traceback (most recent call last)",
      "Cell \u001b[0;32mIn[34], line 1\u001b[0m\n\u001b[0;32m----> 1\u001b[0m \u001b[38;5;28;01mimport\u001b[39;00m \u001b[38;5;21;01mtorch_scatter\u001b[39;00m\n",
      "\u001b[0;31mModuleNotFoundError\u001b[0m: No module named 'torch_scatter'"
     ]
    }
   ],
   "source": [
    "import torch_scatter"
   ]
  },
  {
   "cell_type": "code",
   "execution_count": null,
   "metadata": {},
   "outputs": [],
   "source": [
    "import torch\n",
    "import torch.nn as nn\n",
    "import torch.nn.functional as F\n",
    "from torch_geometric.nn import MetaLayer, global_add_pool, global_mean_pool, global_max_pool\n",
    "from torch.utils.checkpoint import checkpoint\n",
    "\n",
    "class EdgeModel(nn.Module):\n",
    "    def __init__(self, node_in, edge_in, hidden_channels, edge_out):\n",
    "        super().__init__()\n",
    "        self.edge_mlp = nn.Sequential(\n",
    "            nn.Linear(node_in*2 + edge_in, hidden_channels),\n",
    "            nn.LayerNorm(hidden_channels),\n",
    "            nn.ReLU(),\n",
    "            nn.Linear(hidden_channels, hidden_channels),\n",
    "            nn.LayerNorm(hidden_channels),\n",
    "            nn.ReLU(),\n",
    "            nn.Linear(hidden_channels, edge_out),\n",
    "            nn.LayerNorm(edge_out)\n",
    "        )\n",
    "        self.residual_proj = nn.Linear(edge_in, edge_out) if edge_in != edge_out else nn.Identity()\n",
    "\n",
    "    def forward(self, src, dest, edge_attr, u, batch):\n",
    "        out = torch.cat([src, dest, edge_attr], dim=1)\n",
    "        out = self.edge_mlp(out)\n",
    "        out = out + self.residual_proj(edge_attr)\n",
    "        return out\n",
    "\n",
    "class NodeModel(nn.Module):\n",
    "    def __init__(self, node_in, edge_in, hidden_channels, node_out):\n",
    "        super().__init__()\n",
    "        self.node_mlp = nn.Sequential(\n",
    "            nn.Linear(node_in + edge_in*3, hidden_channels),\n",
    "            nn.LayerNorm(hidden_channels),\n",
    "            nn.ReLU(),\n",
    "            nn.Linear(hidden_channels, hidden_channels),\n",
    "            nn.LayerNorm(hidden_channels),\n",
    "            nn.ReLU(),\n",
    "            nn.Linear(hidden_channels, node_out),\n",
    "            nn.LayerNorm(node_out)\n",
    "        )\n",
    "        self.residual_proj = nn.Linear(node_in, node_out) if node_in != node_out else nn.Identity()\n",
    "\n",
    "    def forward(self, x, edge_index, edge_attr, u, batch):\n",
    "        row, col = edge_index\n",
    "        \n",
    "        out1 = torch.zeros(x.size(0), edge_attr.size(1), device=x.device).index_add_(0, col, edge_attr)\n",
    "        out2 = torch.zeros(x.size(0), edge_attr.size(1), device=x.device).index_add_(0, col, edge_attr)\n",
    "        out2 = torch.max(out2, out1)\n",
    "        out3 = out1 / (torch.zeros(x.size(0), 1, device=x.device).index_add_(0, col, torch.ones_like(edge_attr[:, :1])) + 1e-8)\n",
    "        \n",
    "        out = torch.cat([x, out1, out2, out3], dim=1)\n",
    "        out = self.node_mlp(out)\n",
    "        out = out + self.residual_proj(x)\n",
    "        return out\n",
    "\n",
    "class GlobalModel(nn.Module):\n",
    "    def __init__(self, node_in, edge_in, hidden_channels, global_out):\n",
    "        super().__init__()\n",
    "        self.global_mlp = nn.Sequential(\n",
    "            nn.Linear(node_in + edge_in + 1, hidden_channels),\n",
    "            nn.LayerNorm(hidden_channels),\n",
    "            nn.ReLU(),\n",
    "            nn.Linear(hidden_channels, hidden_channels),\n",
    "            nn.LayerNorm(hidden_channels),\n",
    "            nn.ReLU(),\n",
    "            nn.Linear(hidden_channels, global_out),\n",
    "            nn.LayerNorm(global_out)\n",
    "        )\n",
    "\n",
    "    def forward(self, x, edge_index, edge_attr, u, batch):\n",
    "        row, col = edge_index\n",
    "        out = torch.cat([\n",
    "            global_mean_pool(x, batch),\n",
    "            global_mean_pool(edge_attr, batch[row]),\n",
    "            u\n",
    "        ], dim=1)\n",
    "        return self.global_mlp(out)\n",
    "\n",
    "class MetaLayerGNN(nn.Module):\n",
    "    def __init__(self, in_channels, hidden_channels, out_channels=1, num_layers=4, dropout_rate=0.1):\n",
    "        super(MetaLayerGNN, self).__init__()\n",
    "        \n",
    "        self.node_encoder = nn.Sequential(\n",
    "            nn.Linear(in_channels, hidden_channels),\n",
    "            nn.LayerNorm(hidden_channels)\n",
    "        )\n",
    "        self.edge_encoder = nn.Sequential(\n",
    "            nn.Linear(1, hidden_channels),\n",
    "            nn.LayerNorm(hidden_channels)\n",
    "        )\n",
    "\n",
    "        self.layers = nn.ModuleList()\n",
    "        for _ in range(num_layers):\n",
    "            edge_model = EdgeModel(hidden_channels, hidden_channels, hidden_channels, hidden_channels)\n",
    "            node_model = NodeModel(hidden_channels, hidden_channels, hidden_channels, hidden_channels)\n",
    "            global_model = GlobalModel(hidden_channels, hidden_channels, hidden_channels, 1)\n",
    "            self.layers.append(MetaLayer(edge_model, node_model, global_model))\n",
    "\n",
    "        self.output_layer = nn.Sequential(\n",
    "            nn.Linear(hidden_channels * 3 + 1, hidden_channels),\n",
    "            nn.LayerNorm(hidden_channels),\n",
    "            nn.ReLU(),\n",
    "            nn.Dropout(dropout_rate),\n",
    "            nn.Linear(hidden_channels, hidden_channels),\n",
    "            nn.LayerNorm(hidden_channels),\n",
    "            nn.ReLU(),\n",
    "            nn.Dropout(dropout_rate),\n",
    "            nn.Linear(hidden_channels, out_channels)\n",
    "        )\n",
    "\n",
    "    def forward(self, data):\n",
    "        x, edge_index, edge_attr, batch = data.x, data.edge_index, data.edge_attr, data.batch\n",
    "        u = torch.zeros(batch.max().item() + 1, 1, device=x.device)\n",
    "\n",
    "        x = self.node_encoder(x)\n",
    "        edge_attr = self.edge_encoder(edge_attr.unsqueeze(1))\n",
    "\n",
    "        for layer in self.layers:\n",
    "            x, edge_attr, u = checkpoint(layer, x, edge_index, edge_attr, u, batch)\n",
    "            x = F.relu(x)\n",
    "            edge_attr = F.relu(edge_attr)\n",
    "\n",
    "        add_pool = global_add_pool(x, batch)\n",
    "        mean_pool = global_mean_pool(x, batch)\n",
    "        max_pool = global_max_pool(x, batch)\n",
    "\n",
    "        out = torch.cat([add_pool, mean_pool, max_pool, u], dim=1)\n",
    "        out = self.output_layer(out)\n",
    "\n",
    "        return out.squeeze()"
   ]
  },
  {
   "cell_type": "code",
   "execution_count": 33,
   "metadata": {},
   "outputs": [],
   "source": [
    "import torch\n",
    "import torch.nn as nn\n",
    "from torch_geometric.nn import HeteroConv, GATConv, SAGEConv, global_mean_pool\n",
    "\n",
    "class HeteroComplexGAT(torch.nn.Module):\n",
    "    def __init__(self, in_channels_dict, hidden_channels, num_layers=4, heads=4, dropout_rate=0.1):\n",
    "        super(HeteroComplexGAT, self).__init__()\n",
    "        self.dropout_rate = dropout_rate\n",
    "\n",
    "        # Input to same dimentions\n",
    "        self.lin_dict = nn.ModuleDict({\n",
    "            node_type: nn.Linear(in_channels_dict[node_type], hidden_channels * heads)\n",
    "            for node_type in in_channels_dict\n",
    "        })\n",
    "\n",
    "        \n",
    "        edge_types = [\n",
    "            ('A', 'to', 'A'), ('A', 'to', 'C'), ('C', 'to', 'A'), ('B', 'to', 'B'), ('B', 'to', 'C'), ('C', 'to', 'B'), ('C', 'to', 'C')\n",
    "        ]\n",
    "\n",
    "        # Initialize the first layer using HeteroConv with GATConv or SAGEConv depending on edge types\n",
    "        self.conv1 = HeteroConv({\n",
    "            edge_type: (GATConv(hidden_channels * heads, hidden_channels, heads=heads, concat=True, add_self_loops=False, edge_dim=1) \n",
    "                        if edge_type[0] != 'B' and edge_type[2] != 'B' \n",
    "                        else SAGEConv(hidden_channels * heads, hidden_channels * heads))\n",
    "            for edge_type in edge_types\n",
    "        })\n",
    "\n",
    "        self.convs = nn.ModuleList()\n",
    "        for _ in range(num_layers - 2):\n",
    "            conv = HeteroConv({\n",
    "                edge_type: (GATConv(hidden_channels * heads, hidden_channels, heads=heads, concat=True, add_self_loops=False, edge_dim=1)\n",
    "                            if edge_type[0] != 'B' and edge_type[2] != 'B'\n",
    "                            else SAGEConv(hidden_channels * heads, hidden_channels * heads))\n",
    "                for edge_type in edge_types\n",
    "            })\n",
    "            self.convs.append(conv)\n",
    "\n",
    "        self.conv_last = HeteroConv({\n",
    "            edge_type: (GATConv(hidden_channels * heads, hidden_channels, heads=1, concat=False, add_self_loops=False, edge_dim=1)\n",
    "                        if edge_type[0] != 'B' and edge_type[2] != 'B'\n",
    "                        else SAGEConv(hidden_channels * heads, hidden_channels))\n",
    "            for edge_type in edge_types\n",
    "        })\n",
    "\n",
    "        self.fc1 = nn.Linear(hidden_channels * len(in_channels_dict), hidden_channels)\n",
    "        self.fc2 = nn.Linear(hidden_channels, 1)  # Output a single value for omega_m\n",
    "\n",
    "    def forward(self, data):\n",
    "        x_dict, edge_index_dict, edge_attr_dict = data.x_dict, data.edge_index_dict, data.edge_attr_dict\n",
    "\n",
    "        # Apply initial linear transformation to standardize input dimensions\n",
    "        x_dict = {key: self.lin_dict[key](x) for key, x in x_dict.items()}\n",
    "\n",
    "        # Apply convolutional layers\n",
    "        x_dict = self.conv1(x_dict, edge_index_dict, edge_attr_dict)\n",
    "        x_dict = {key: nn.functional.relu(x) for key, x in x_dict.items()}\n",
    "        x_dict = {key: nn.functional.dropout(x, p=self.dropout_rate, training=self.training) for key, x in x_dict.items()}\n",
    "\n",
    "        for conv in self.convs:\n",
    "            x_dict = conv(x_dict, edge_index_dict, edge_attr_dict)\n",
    "            x_dict = {key: nn.functional.relu(x) for key, x in x_dict.items()}\n",
    "            x_dict = {key: nn.functional.dropout(x, p=self.dropout_rate, training=self.training) for key, x in x_dict.items()}\n",
    "\n",
    "        x_dict = self.conv_last(x_dict, edge_index_dict, edge_attr_dict)\n",
    "\n",
    "        # Global mean pooling\n",
    "        x = torch.cat([global_mean_pool(x, data[node_type].batch) for node_type, x in x_dict.items()], dim=1)\n",
    "\n",
    "        x = nn.functional.relu(self.fc1(x))\n",
    "        x = self.fc2(x)\n",
    "        return x.squeeze()"
   ]
  },
  {
   "cell_type": "code",
   "execution_count": 55,
   "metadata": {
    "id": "_5UGNXhNAggG"
   },
   "outputs": [],
   "source": [
    "def train_model(model, train_loader, val_loader, device, num_epochs=100, load_best_model=False):\n",
    "    model = model.to(device)\n",
    "    \n",
    "    if load_best_model:\n",
    "        try:\n",
    "            model.load_state_dict(torch.load('/scratch/gpfs/hk4638/astrid_optimization/model_54.pth'))\n",
    "            print(\"Loaded model from best_model.pth\")\n",
    "        except FileNotFoundError:\n",
    "            print(\"best_model.pth not found. Starting with a new model.\")\n",
    "    lear_r = 0.01\n",
    "    #lear_r = 0.0008\n",
    "    #lear_r = 0.0008\n",
    "    optimizer = optim.Adam(model.parameters(), lr=lear_r)  # Start with the highest learning rate\n",
    "    criterion = nn.MSELoss()\n",
    "    best_val_loss = float('inf')\n",
    "    best_model = None\n",
    "    \n",
    "    # Define a learning rate scheduler that adjusts the learning rate based on epoch\n",
    "    '''scheduler = optim.lr_scheduler.LambdaLR(optimizer, lr_lambda=lambda epoch: \n",
    "                                            0.01 if epoch < 75 else\n",
    "                                            0.002 if epoch < 150 else\n",
    "                                            0.0004 if epoch < 225 else\n",
    "                                            0.00008)'''\n",
    "    \n",
    "    train_losses = []\n",
    "    val_losses = []\n",
    "    val_mses = []\n",
    "    val_r2s = []\n",
    "    \n",
    "    try:\n",
    "        for epoch in range(num_epochs):\n",
    "            model.train()\n",
    "            train_loss = 0\n",
    "            epoch_pbar = tqdm(train_loader, desc=f\"Epoch {epoch+1}/{num_epochs}\")\n",
    "            for data in epoch_pbar:\n",
    "                data = data.to(device)\n",
    "                optimizer.zero_grad()\n",
    "                out = model(data)\n",
    "                loss = criterion(out, data.y)\n",
    "                loss.backward()\n",
    "                optimizer.step()\n",
    "                train_loss += loss.item()\n",
    "                epoch_pbar.set_postfix({'Train Loss': f'{loss.item():.4f}'})\n",
    "            \n",
    "            # Step the scheduler to potentially adjust the learning rate\n",
    "            #scheduler.step()\n",
    "            \n",
    "            model.eval()\n",
    "            val_loss = 0\n",
    "            val_predictions = []\n",
    "            val_true = []\n",
    "            with torch.no_grad():\n",
    "                for data in val_loader:\n",
    "                    data = data.to(device)\n",
    "                    out = model(data)\n",
    "                    val_loss += criterion(out, data.y).item()\n",
    "                    val_predictions.extend(out.cpu().numpy())\n",
    "                    val_true.extend(data.y.cpu().numpy())\n",
    "            \n",
    "            train_loss /= len(train_loader)\n",
    "            val_loss /= len(val_loader)\n",
    "            val_mse = mean_squared_error(val_true, val_predictions)\n",
    "            val_r2 = r2_score(val_true, val_predictions)\n",
    "            \n",
    "            train_losses.append(train_loss)\n",
    "            val_losses.append(val_loss)\n",
    "            val_mses.append(val_mse)\n",
    "            val_r2s.append(val_r2)\n",
    "            \n",
    "            print(f'Epoch {epoch+1}/{num_epochs}:')\n",
    "            print(f'  Train Loss: {train_loss:.4f}')\n",
    "            print(f'  Val Loss: {val_loss:.4f}')\n",
    "            print(f'  Val MSE: {val_mse:.4f}')\n",
    "            print(f'  Val R2: {val_r2:.4f}')\n",
    "            \n",
    "            # Save the model after each epoch\n",
    "            torch.save(model.state_dict(), f'model_epoch_{epoch+1}.pth')\n",
    "            print(f'  Model saved as model_epoch_{epoch+1}.pth')\n",
    "            \n",
    "            if val_loss < best_val_loss:\n",
    "                best_val_loss = val_loss\n",
    "                best_model = model.state_dict()\n",
    "                torch.save(best_model, 'best_model.pth')\n",
    "                print('  New best model saved as best_model.pth!')\n",
    "            \n",
    "            print()  # Add an empty line for better readability between epochs\n",
    "    \n",
    "    except KeyboardInterrupt:\n",
    "        print(\"\\nTraining interrupted. Saving current model state...\")\n",
    "        torch.save(model.state_dict(), 'interrupted_model.pth')\n",
    "        print(\"Model saved as interrupted_model.pth\")\n",
    "        if best_model is not None:\n",
    "            model.load_state_dict(best_model)\n",
    "        return model, train_losses, val_losses, val_mses, val_r2s\n",
    "    \n",
    "    # Load the best model if training completed without interruption\n",
    "    if best_model is not None:\n",
    "        model.load_state_dict(best_model)\n",
    "    \n",
    "    return model, train_losses, val_losses, val_mses, val_r2s\n"
   ]
  },
  {
   "cell_type": "code",
   "execution_count": 56,
   "metadata": {
    "id": "5mxL3nt4Avrt",
    "scrolled": true
   },
   "outputs": [
    {
     "name": "stderr",
     "output_type": "stream",
     "text": [
      "Epoch 1/1000: 100%|██████████| 22/22 [00:03<00:00,  5.65it/s, Train Loss=0.0275]\n",
      "/home/hk4638/.conda/envs/com/lib/python3.12/site-packages/torch/utils/checkpoint.py:90: UserWarning: None of the inputs have requires_grad=True. Gradients will be None\n",
      "  warnings.warn(\n"
     ]
    },
    {
     "name": "stdout",
     "output_type": "stream",
     "text": [
      "Epoch 1/1000:\n",
      "  Train Loss: 0.1666\n",
      "  Val Loss: 0.0122\n",
      "  Val MSE: 0.0124\n",
      "  Val R2: -0.0820\n",
      "  Model saved as model_epoch_1.pth\n",
      "  New best model saved as best_model.pth!\n",
      "\n"
     ]
    },
    {
     "name": "stderr",
     "output_type": "stream",
     "text": [
      "Epoch 2/1000:   0%|          | 0/22 [00:00<?, ?it/s]/home/hk4638/.conda/envs/com/lib/python3.12/site-packages/torch/utils/checkpoint.py:460: UserWarning: torch.utils.checkpoint: please pass in use_reentrant=True or use_reentrant=False explicitly. The default value of use_reentrant will be updated to be False in the future. To maintain current behavior, pass use_reentrant=True. It is recommended that you use use_reentrant=False. Refer to docs for more details on the differences between the two variants.\n",
      "  warnings.warn(\n",
      "/home/hk4638/.conda/envs/com/lib/python3.12/site-packages/torch_geometric/warnings.py:11: UserWarning: The usage of `scatter(reduce='max')` can be accelerated via the 'torch-scatter' package, but it was not found\n",
      "  warnings.warn(message)\n",
      "Epoch 2/1000: 100%|██████████| 22/22 [00:03<00:00,  5.77it/s, Train Loss=0.0124]\n",
      "/home/hk4638/.conda/envs/com/lib/python3.12/site-packages/torch/utils/checkpoint.py:90: UserWarning: None of the inputs have requires_grad=True. Gradients will be None\n",
      "  warnings.warn(\n"
     ]
    },
    {
     "name": "stdout",
     "output_type": "stream",
     "text": [
      "Epoch 2/1000:\n",
      "  Train Loss: 0.0198\n",
      "  Val Loss: 0.0114\n",
      "  Val MSE: 0.0114\n",
      "  Val R2: 0.0001\n",
      "  Model saved as model_epoch_2.pth\n",
      "  New best model saved as best_model.pth!\n",
      "\n"
     ]
    },
    {
     "name": "stderr",
     "output_type": "stream",
     "text": [
      "Epoch 3/1000:   0%|          | 0/22 [00:00<?, ?it/s]/home/hk4638/.conda/envs/com/lib/python3.12/site-packages/torch/utils/checkpoint.py:460: UserWarning: torch.utils.checkpoint: please pass in use_reentrant=True or use_reentrant=False explicitly. The default value of use_reentrant will be updated to be False in the future. To maintain current behavior, pass use_reentrant=True. It is recommended that you use use_reentrant=False. Refer to docs for more details on the differences between the two variants.\n",
      "  warnings.warn(\n",
      "/home/hk4638/.conda/envs/com/lib/python3.12/site-packages/torch_geometric/warnings.py:11: UserWarning: The usage of `scatter(reduce='max')` can be accelerated via the 'torch-scatter' package, but it was not found\n",
      "  warnings.warn(message)\n",
      "Epoch 3/1000: 100%|██████████| 22/22 [00:03<00:00,  5.77it/s, Train Loss=0.0217]\n",
      "/home/hk4638/.conda/envs/com/lib/python3.12/site-packages/torch/utils/checkpoint.py:90: UserWarning: None of the inputs have requires_grad=True. Gradients will be None\n",
      "  warnings.warn(\n"
     ]
    },
    {
     "name": "stdout",
     "output_type": "stream",
     "text": [
      "Epoch 3/1000:\n",
      "  Train Loss: 0.0172\n",
      "  Val Loss: 0.0115\n",
      "  Val MSE: 0.0115\n",
      "  Val R2: -0.0049\n",
      "  Model saved as model_epoch_3.pth\n",
      "\n"
     ]
    },
    {
     "name": "stderr",
     "output_type": "stream",
     "text": [
      "Epoch 4/1000:   0%|          | 0/22 [00:00<?, ?it/s]/home/hk4638/.conda/envs/com/lib/python3.12/site-packages/torch/utils/checkpoint.py:460: UserWarning: torch.utils.checkpoint: please pass in use_reentrant=True or use_reentrant=False explicitly. The default value of use_reentrant will be updated to be False in the future. To maintain current behavior, pass use_reentrant=True. It is recommended that you use use_reentrant=False. Refer to docs for more details on the differences between the two variants.\n",
      "  warnings.warn(\n",
      "/home/hk4638/.conda/envs/com/lib/python3.12/site-packages/torch_geometric/warnings.py:11: UserWarning: The usage of `scatter(reduce='max')` can be accelerated via the 'torch-scatter' package, but it was not found\n",
      "  warnings.warn(message)\n",
      "Epoch 4/1000: 100%|██████████| 22/22 [00:03<00:00,  5.79it/s, Train Loss=0.0141]\n",
      "/home/hk4638/.conda/envs/com/lib/python3.12/site-packages/torch/utils/checkpoint.py:90: UserWarning: None of the inputs have requires_grad=True. Gradients will be None\n",
      "  warnings.warn(\n"
     ]
    },
    {
     "name": "stdout",
     "output_type": "stream",
     "text": [
      "Epoch 4/1000:\n",
      "  Train Loss: 0.0155\n",
      "  Val Loss: 0.0115\n",
      "  Val MSE: 0.0115\n",
      "  Val R2: -0.0035\n",
      "  Model saved as model_epoch_4.pth\n",
      "\n"
     ]
    },
    {
     "name": "stderr",
     "output_type": "stream",
     "text": [
      "Epoch 5/1000:   0%|          | 0/22 [00:00<?, ?it/s]/home/hk4638/.conda/envs/com/lib/python3.12/site-packages/torch/utils/checkpoint.py:460: UserWarning: torch.utils.checkpoint: please pass in use_reentrant=True or use_reentrant=False explicitly. The default value of use_reentrant will be updated to be False in the future. To maintain current behavior, pass use_reentrant=True. It is recommended that you use use_reentrant=False. Refer to docs for more details on the differences between the two variants.\n",
      "  warnings.warn(\n",
      "/home/hk4638/.conda/envs/com/lib/python3.12/site-packages/torch_geometric/warnings.py:11: UserWarning: The usage of `scatter(reduce='max')` can be accelerated via the 'torch-scatter' package, but it was not found\n",
      "  warnings.warn(message)\n",
      "Epoch 5/1000: 100%|██████████| 22/22 [00:03<00:00,  5.82it/s, Train Loss=0.0135]\n",
      "/home/hk4638/.conda/envs/com/lib/python3.12/site-packages/torch/utils/checkpoint.py:90: UserWarning: None of the inputs have requires_grad=True. Gradients will be None\n",
      "  warnings.warn(\n"
     ]
    },
    {
     "name": "stdout",
     "output_type": "stream",
     "text": [
      "Epoch 5/1000:\n",
      "  Train Loss: 0.0152\n",
      "  Val Loss: 0.0114\n",
      "  Val MSE: 0.0114\n",
      "  Val R2: -0.0007\n",
      "  Model saved as model_epoch_5.pth\n",
      "\n"
     ]
    },
    {
     "name": "stderr",
     "output_type": "stream",
     "text": [
      "Epoch 6/1000:   0%|          | 0/22 [00:00<?, ?it/s]/home/hk4638/.conda/envs/com/lib/python3.12/site-packages/torch/utils/checkpoint.py:460: UserWarning: torch.utils.checkpoint: please pass in use_reentrant=True or use_reentrant=False explicitly. The default value of use_reentrant will be updated to be False in the future. To maintain current behavior, pass use_reentrant=True. It is recommended that you use use_reentrant=False. Refer to docs for more details on the differences between the two variants.\n",
      "  warnings.warn(\n",
      "/home/hk4638/.conda/envs/com/lib/python3.12/site-packages/torch_geometric/warnings.py:11: UserWarning: The usage of `scatter(reduce='max')` can be accelerated via the 'torch-scatter' package, but it was not found\n",
      "  warnings.warn(message)\n",
      "Epoch 6/1000: 100%|██████████| 22/22 [00:03<00:00,  5.77it/s, Train Loss=0.0160]\n",
      "/home/hk4638/.conda/envs/com/lib/python3.12/site-packages/torch/utils/checkpoint.py:90: UserWarning: None of the inputs have requires_grad=True. Gradients will be None\n",
      "  warnings.warn(\n"
     ]
    },
    {
     "name": "stdout",
     "output_type": "stream",
     "text": [
      "Epoch 6/1000:\n",
      "  Train Loss: 0.0157\n",
      "  Val Loss: 0.0119\n",
      "  Val MSE: 0.0120\n",
      "  Val R2: -0.0516\n",
      "  Model saved as model_epoch_6.pth\n",
      "\n"
     ]
    },
    {
     "name": "stderr",
     "output_type": "stream",
     "text": [
      "Epoch 7/1000:   0%|          | 0/22 [00:00<?, ?it/s]/home/hk4638/.conda/envs/com/lib/python3.12/site-packages/torch/utils/checkpoint.py:460: UserWarning: torch.utils.checkpoint: please pass in use_reentrant=True or use_reentrant=False explicitly. The default value of use_reentrant will be updated to be False in the future. To maintain current behavior, pass use_reentrant=True. It is recommended that you use use_reentrant=False. Refer to docs for more details on the differences between the two variants.\n",
      "  warnings.warn(\n",
      "/home/hk4638/.conda/envs/com/lib/python3.12/site-packages/torch_geometric/warnings.py:11: UserWarning: The usage of `scatter(reduce='max')` can be accelerated via the 'torch-scatter' package, but it was not found\n",
      "  warnings.warn(message)\n",
      "Epoch 7/1000: 100%|██████████| 22/22 [00:03<00:00,  5.83it/s, Train Loss=0.0138]\n",
      "/home/hk4638/.conda/envs/com/lib/python3.12/site-packages/torch/utils/checkpoint.py:90: UserWarning: None of the inputs have requires_grad=True. Gradients will be None\n",
      "  warnings.warn(\n"
     ]
    },
    {
     "name": "stdout",
     "output_type": "stream",
     "text": [
      "Epoch 7/1000:\n",
      "  Train Loss: 0.0158\n",
      "  Val Loss: 0.0126\n",
      "  Val MSE: 0.0125\n",
      "  Val R2: -0.0946\n",
      "  Model saved as model_epoch_7.pth\n",
      "\n"
     ]
    },
    {
     "name": "stderr",
     "output_type": "stream",
     "text": [
      "Epoch 8/1000:   0%|          | 0/22 [00:00<?, ?it/s]/home/hk4638/.conda/envs/com/lib/python3.12/site-packages/torch/utils/checkpoint.py:460: UserWarning: torch.utils.checkpoint: please pass in use_reentrant=True or use_reentrant=False explicitly. The default value of use_reentrant will be updated to be False in the future. To maintain current behavior, pass use_reentrant=True. It is recommended that you use use_reentrant=False. Refer to docs for more details on the differences between the two variants.\n",
      "  warnings.warn(\n",
      "/home/hk4638/.conda/envs/com/lib/python3.12/site-packages/torch_geometric/warnings.py:11: UserWarning: The usage of `scatter(reduce='max')` can be accelerated via the 'torch-scatter' package, but it was not found\n",
      "  warnings.warn(message)\n",
      "Epoch 8/1000: 100%|██████████| 22/22 [00:03<00:00,  5.75it/s, Train Loss=0.0155]\n",
      "/home/hk4638/.conda/envs/com/lib/python3.12/site-packages/torch/utils/checkpoint.py:90: UserWarning: None of the inputs have requires_grad=True. Gradients will be None\n",
      "  warnings.warn(\n"
     ]
    },
    {
     "name": "stdout",
     "output_type": "stream",
     "text": [
      "Epoch 8/1000:\n",
      "  Train Loss: 0.0154\n",
      "  Val Loss: 0.0118\n",
      "  Val MSE: 0.0119\n",
      "  Val R2: -0.0385\n",
      "  Model saved as model_epoch_8.pth\n",
      "\n"
     ]
    },
    {
     "name": "stderr",
     "output_type": "stream",
     "text": [
      "Epoch 9/1000:   0%|          | 0/22 [00:00<?, ?it/s]/home/hk4638/.conda/envs/com/lib/python3.12/site-packages/torch/utils/checkpoint.py:460: UserWarning: torch.utils.checkpoint: please pass in use_reentrant=True or use_reentrant=False explicitly. The default value of use_reentrant will be updated to be False in the future. To maintain current behavior, pass use_reentrant=True. It is recommended that you use use_reentrant=False. Refer to docs for more details on the differences between the two variants.\n",
      "  warnings.warn(\n",
      "/home/hk4638/.conda/envs/com/lib/python3.12/site-packages/torch_geometric/warnings.py:11: UserWarning: The usage of `scatter(reduce='max')` can be accelerated via the 'torch-scatter' package, but it was not found\n",
      "  warnings.warn(message)\n",
      "Epoch 9/1000: 100%|██████████| 22/22 [00:03<00:00,  5.69it/s, Train Loss=0.0122]\n",
      "/home/hk4638/.conda/envs/com/lib/python3.12/site-packages/torch/utils/checkpoint.py:90: UserWarning: None of the inputs have requires_grad=True. Gradients will be None\n",
      "  warnings.warn(\n"
     ]
    },
    {
     "name": "stdout",
     "output_type": "stream",
     "text": [
      "Epoch 9/1000:\n",
      "  Train Loss: 0.0155\n",
      "  Val Loss: 0.0115\n",
      "  Val MSE: 0.0116\n",
      "  Val R2: -0.0128\n",
      "  Model saved as model_epoch_9.pth\n",
      "\n"
     ]
    },
    {
     "name": "stderr",
     "output_type": "stream",
     "text": [
      "Epoch 10/1000:   0%|          | 0/22 [00:00<?, ?it/s]/home/hk4638/.conda/envs/com/lib/python3.12/site-packages/torch/utils/checkpoint.py:460: UserWarning: torch.utils.checkpoint: please pass in use_reentrant=True or use_reentrant=False explicitly. The default value of use_reentrant will be updated to be False in the future. To maintain current behavior, pass use_reentrant=True. It is recommended that you use use_reentrant=False. Refer to docs for more details on the differences between the two variants.\n",
      "  warnings.warn(\n",
      "/home/hk4638/.conda/envs/com/lib/python3.12/site-packages/torch_geometric/warnings.py:11: UserWarning: The usage of `scatter(reduce='max')` can be accelerated via the 'torch-scatter' package, but it was not found\n",
      "  warnings.warn(message)\n",
      "Epoch 10/1000: 100%|██████████| 22/22 [00:03<00:00,  5.77it/s, Train Loss=0.0131]\n",
      "/home/hk4638/.conda/envs/com/lib/python3.12/site-packages/torch/utils/checkpoint.py:90: UserWarning: None of the inputs have requires_grad=True. Gradients will be None\n",
      "  warnings.warn(\n"
     ]
    },
    {
     "name": "stdout",
     "output_type": "stream",
     "text": [
      "Epoch 10/1000:\n",
      "  Train Loss: 0.0152\n",
      "  Val Loss: 0.0116\n",
      "  Val MSE: 0.0116\n",
      "  Val R2: -0.0186\n",
      "  Model saved as model_epoch_10.pth\n",
      "\n"
     ]
    },
    {
     "name": "stderr",
     "output_type": "stream",
     "text": [
      "Epoch 11/1000:   0%|          | 0/22 [00:00<?, ?it/s]/home/hk4638/.conda/envs/com/lib/python3.12/site-packages/torch/utils/checkpoint.py:460: UserWarning: torch.utils.checkpoint: please pass in use_reentrant=True or use_reentrant=False explicitly. The default value of use_reentrant will be updated to be False in the future. To maintain current behavior, pass use_reentrant=True. It is recommended that you use use_reentrant=False. Refer to docs for more details on the differences between the two variants.\n",
      "  warnings.warn(\n",
      "/home/hk4638/.conda/envs/com/lib/python3.12/site-packages/torch_geometric/warnings.py:11: UserWarning: The usage of `scatter(reduce='max')` can be accelerated via the 'torch-scatter' package, but it was not found\n",
      "  warnings.warn(message)\n",
      "Epoch 11/1000: 100%|██████████| 22/22 [00:03<00:00,  5.72it/s, Train Loss=0.0205]\n",
      "/home/hk4638/.conda/envs/com/lib/python3.12/site-packages/torch/utils/checkpoint.py:90: UserWarning: None of the inputs have requires_grad=True. Gradients will be None\n",
      "  warnings.warn(\n"
     ]
    },
    {
     "name": "stdout",
     "output_type": "stream",
     "text": [
      "Epoch 11/1000:\n",
      "  Train Loss: 0.0151\n",
      "  Val Loss: 0.0122\n",
      "  Val MSE: 0.0122\n",
      "  Val R2: -0.0647\n",
      "  Model saved as model_epoch_11.pth\n",
      "\n"
     ]
    },
    {
     "name": "stderr",
     "output_type": "stream",
     "text": [
      "Epoch 12/1000:   0%|          | 0/22 [00:00<?, ?it/s]/home/hk4638/.conda/envs/com/lib/python3.12/site-packages/torch/utils/checkpoint.py:460: UserWarning: torch.utils.checkpoint: please pass in use_reentrant=True or use_reentrant=False explicitly. The default value of use_reentrant will be updated to be False in the future. To maintain current behavior, pass use_reentrant=True. It is recommended that you use use_reentrant=False. Refer to docs for more details on the differences between the two variants.\n",
      "  warnings.warn(\n",
      "/home/hk4638/.conda/envs/com/lib/python3.12/site-packages/torch_geometric/warnings.py:11: UserWarning: The usage of `scatter(reduce='max')` can be accelerated via the 'torch-scatter' package, but it was not found\n",
      "  warnings.warn(message)\n",
      "Epoch 12/1000: 100%|██████████| 22/22 [00:03<00:00,  5.76it/s, Train Loss=0.0148]\n",
      "/home/hk4638/.conda/envs/com/lib/python3.12/site-packages/torch/utils/checkpoint.py:90: UserWarning: None of the inputs have requires_grad=True. Gradients will be None\n",
      "  warnings.warn(\n"
     ]
    },
    {
     "name": "stdout",
     "output_type": "stream",
     "text": [
      "Epoch 12/1000:\n",
      "  Train Loss: 0.0151\n",
      "  Val Loss: 0.0115\n",
      "  Val MSE: 0.0115\n",
      "  Val R2: -0.0034\n",
      "  Model saved as model_epoch_12.pth\n",
      "\n"
     ]
    },
    {
     "name": "stderr",
     "output_type": "stream",
     "text": [
      "Epoch 13/1000:   0%|          | 0/22 [00:00<?, ?it/s]/home/hk4638/.conda/envs/com/lib/python3.12/site-packages/torch/utils/checkpoint.py:460: UserWarning: torch.utils.checkpoint: please pass in use_reentrant=True or use_reentrant=False explicitly. The default value of use_reentrant will be updated to be False in the future. To maintain current behavior, pass use_reentrant=True. It is recommended that you use use_reentrant=False. Refer to docs for more details on the differences between the two variants.\n",
      "  warnings.warn(\n",
      "/home/hk4638/.conda/envs/com/lib/python3.12/site-packages/torch_geometric/warnings.py:11: UserWarning: The usage of `scatter(reduce='max')` can be accelerated via the 'torch-scatter' package, but it was not found\n",
      "  warnings.warn(message)\n",
      "Epoch 13/1000: 100%|██████████| 22/22 [00:03<00:00,  5.75it/s, Train Loss=0.0179]\n",
      "/home/hk4638/.conda/envs/com/lib/python3.12/site-packages/torch/utils/checkpoint.py:90: UserWarning: None of the inputs have requires_grad=True. Gradients will be None\n",
      "  warnings.warn(\n"
     ]
    },
    {
     "name": "stdout",
     "output_type": "stream",
     "text": [
      "Epoch 13/1000:\n",
      "  Train Loss: 0.0151\n",
      "  Val Loss: 0.0125\n",
      "  Val MSE: 0.0125\n",
      "  Val R2: -0.0900\n",
      "  Model saved as model_epoch_13.pth\n",
      "\n"
     ]
    },
    {
     "name": "stderr",
     "output_type": "stream",
     "text": [
      "Epoch 14/1000:   0%|          | 0/22 [00:00<?, ?it/s]/home/hk4638/.conda/envs/com/lib/python3.12/site-packages/torch/utils/checkpoint.py:460: UserWarning: torch.utils.checkpoint: please pass in use_reentrant=True or use_reentrant=False explicitly. The default value of use_reentrant will be updated to be False in the future. To maintain current behavior, pass use_reentrant=True. It is recommended that you use use_reentrant=False. Refer to docs for more details on the differences between the two variants.\n",
      "  warnings.warn(\n",
      "/home/hk4638/.conda/envs/com/lib/python3.12/site-packages/torch_geometric/warnings.py:11: UserWarning: The usage of `scatter(reduce='max')` can be accelerated via the 'torch-scatter' package, but it was not found\n",
      "  warnings.warn(message)\n",
      "Epoch 14/1000: 100%|██████████| 22/22 [00:03<00:00,  5.76it/s, Train Loss=0.0136]\n",
      "/home/hk4638/.conda/envs/com/lib/python3.12/site-packages/torch/utils/checkpoint.py:90: UserWarning: None of the inputs have requires_grad=True. Gradients will be None\n",
      "  warnings.warn(\n"
     ]
    },
    {
     "name": "stdout",
     "output_type": "stream",
     "text": [
      "Epoch 14/1000:\n",
      "  Train Loss: 0.0158\n",
      "  Val Loss: 0.0118\n",
      "  Val MSE: 0.0118\n",
      "  Val R2: -0.0341\n",
      "  Model saved as model_epoch_14.pth\n",
      "\n"
     ]
    },
    {
     "name": "stderr",
     "output_type": "stream",
     "text": [
      "Epoch 15/1000:   0%|          | 0/22 [00:00<?, ?it/s]/home/hk4638/.conda/envs/com/lib/python3.12/site-packages/torch/utils/checkpoint.py:460: UserWarning: torch.utils.checkpoint: please pass in use_reentrant=True or use_reentrant=False explicitly. The default value of use_reentrant will be updated to be False in the future. To maintain current behavior, pass use_reentrant=True. It is recommended that you use use_reentrant=False. Refer to docs for more details on the differences between the two variants.\n",
      "  warnings.warn(\n",
      "/home/hk4638/.conda/envs/com/lib/python3.12/site-packages/torch_geometric/warnings.py:11: UserWarning: The usage of `scatter(reduce='max')` can be accelerated via the 'torch-scatter' package, but it was not found\n",
      "  warnings.warn(message)\n",
      "Epoch 15/1000: 100%|██████████| 22/22 [00:03<00:00,  5.75it/s, Train Loss=0.0178]\n",
      "/home/hk4638/.conda/envs/com/lib/python3.12/site-packages/torch/utils/checkpoint.py:90: UserWarning: None of the inputs have requires_grad=True. Gradients will be None\n",
      "  warnings.warn(\n"
     ]
    },
    {
     "name": "stdout",
     "output_type": "stream",
     "text": [
      "Epoch 15/1000:\n",
      "  Train Loss: 0.0151\n",
      "  Val Loss: 0.0111\n",
      "  Val MSE: 0.0112\n",
      "  Val R2: 0.0235\n",
      "  Model saved as model_epoch_15.pth\n",
      "  New best model saved as best_model.pth!\n",
      "\n"
     ]
    },
    {
     "name": "stderr",
     "output_type": "stream",
     "text": [
      "Epoch 16/1000:   0%|          | 0/22 [00:00<?, ?it/s]/home/hk4638/.conda/envs/com/lib/python3.12/site-packages/torch/utils/checkpoint.py:460: UserWarning: torch.utils.checkpoint: please pass in use_reentrant=True or use_reentrant=False explicitly. The default value of use_reentrant will be updated to be False in the future. To maintain current behavior, pass use_reentrant=True. It is recommended that you use use_reentrant=False. Refer to docs for more details on the differences between the two variants.\n",
      "  warnings.warn(\n",
      "/home/hk4638/.conda/envs/com/lib/python3.12/site-packages/torch_geometric/warnings.py:11: UserWarning: The usage of `scatter(reduce='max')` can be accelerated via the 'torch-scatter' package, but it was not found\n",
      "  warnings.warn(message)\n",
      "Epoch 16/1000: 100%|██████████| 22/22 [00:03<00:00,  5.77it/s, Train Loss=0.0179]\n",
      "/home/hk4638/.conda/envs/com/lib/python3.12/site-packages/torch/utils/checkpoint.py:90: UserWarning: None of the inputs have requires_grad=True. Gradients will be None\n",
      "  warnings.warn(\n"
     ]
    },
    {
     "name": "stdout",
     "output_type": "stream",
     "text": [
      "Epoch 16/1000:\n",
      "  Train Loss: 0.0148\n",
      "  Val Loss: 0.0124\n",
      "  Val MSE: 0.0124\n",
      "  Val R2: -0.0809\n",
      "  Model saved as model_epoch_16.pth\n",
      "\n"
     ]
    },
    {
     "name": "stderr",
     "output_type": "stream",
     "text": [
      "Epoch 17/1000:   0%|          | 0/22 [00:00<?, ?it/s]/home/hk4638/.conda/envs/com/lib/python3.12/site-packages/torch/utils/checkpoint.py:460: UserWarning: torch.utils.checkpoint: please pass in use_reentrant=True or use_reentrant=False explicitly. The default value of use_reentrant will be updated to be False in the future. To maintain current behavior, pass use_reentrant=True. It is recommended that you use use_reentrant=False. Refer to docs for more details on the differences between the two variants.\n",
      "  warnings.warn(\n",
      "/home/hk4638/.conda/envs/com/lib/python3.12/site-packages/torch_geometric/warnings.py:11: UserWarning: The usage of `scatter(reduce='max')` can be accelerated via the 'torch-scatter' package, but it was not found\n",
      "  warnings.warn(message)\n",
      "Epoch 17/1000: 100%|██████████| 22/22 [00:03<00:00,  5.74it/s, Train Loss=0.0119]\n",
      "/home/hk4638/.conda/envs/com/lib/python3.12/site-packages/torch/utils/checkpoint.py:90: UserWarning: None of the inputs have requires_grad=True. Gradients will be None\n",
      "  warnings.warn(\n"
     ]
    },
    {
     "name": "stdout",
     "output_type": "stream",
     "text": [
      "Epoch 17/1000:\n",
      "  Train Loss: 0.0142\n",
      "  Val Loss: 0.0108\n",
      "  Val MSE: 0.0109\n",
      "  Val R2: 0.0449\n",
      "  Model saved as model_epoch_17.pth\n",
      "  New best model saved as best_model.pth!\n",
      "\n"
     ]
    },
    {
     "name": "stderr",
     "output_type": "stream",
     "text": [
      "Epoch 18/1000:   0%|          | 0/22 [00:00<?, ?it/s]/home/hk4638/.conda/envs/com/lib/python3.12/site-packages/torch/utils/checkpoint.py:460: UserWarning: torch.utils.checkpoint: please pass in use_reentrant=True or use_reentrant=False explicitly. The default value of use_reentrant will be updated to be False in the future. To maintain current behavior, pass use_reentrant=True. It is recommended that you use use_reentrant=False. Refer to docs for more details on the differences between the two variants.\n",
      "  warnings.warn(\n",
      "/home/hk4638/.conda/envs/com/lib/python3.12/site-packages/torch_geometric/warnings.py:11: UserWarning: The usage of `scatter(reduce='max')` can be accelerated via the 'torch-scatter' package, but it was not found\n",
      "  warnings.warn(message)\n",
      "Epoch 18/1000: 100%|██████████| 22/22 [00:03<00:00,  5.75it/s, Train Loss=0.0120]\n",
      "/home/hk4638/.conda/envs/com/lib/python3.12/site-packages/torch/utils/checkpoint.py:90: UserWarning: None of the inputs have requires_grad=True. Gradients will be None\n",
      "  warnings.warn(\n"
     ]
    },
    {
     "name": "stdout",
     "output_type": "stream",
     "text": [
      "Epoch 18/1000:\n",
      "  Train Loss: 0.0138\n",
      "  Val Loss: 0.0153\n",
      "  Val MSE: 0.0156\n",
      "  Val R2: -0.3608\n",
      "  Model saved as model_epoch_18.pth\n",
      "\n"
     ]
    },
    {
     "name": "stderr",
     "output_type": "stream",
     "text": [
      "Epoch 19/1000:   0%|          | 0/22 [00:00<?, ?it/s]/home/hk4638/.conda/envs/com/lib/python3.12/site-packages/torch/utils/checkpoint.py:460: UserWarning: torch.utils.checkpoint: please pass in use_reentrant=True or use_reentrant=False explicitly. The default value of use_reentrant will be updated to be False in the future. To maintain current behavior, pass use_reentrant=True. It is recommended that you use use_reentrant=False. Refer to docs for more details on the differences between the two variants.\n",
      "  warnings.warn(\n",
      "/home/hk4638/.conda/envs/com/lib/python3.12/site-packages/torch_geometric/warnings.py:11: UserWarning: The usage of `scatter(reduce='max')` can be accelerated via the 'torch-scatter' package, but it was not found\n",
      "  warnings.warn(message)\n",
      "Epoch 19/1000: 100%|██████████| 22/22 [00:03<00:00,  5.62it/s, Train Loss=0.0123]\n",
      "/home/hk4638/.conda/envs/com/lib/python3.12/site-packages/torch/utils/checkpoint.py:90: UserWarning: None of the inputs have requires_grad=True. Gradients will be None\n",
      "  warnings.warn(\n"
     ]
    },
    {
     "name": "stdout",
     "output_type": "stream",
     "text": [
      "Epoch 19/1000:\n",
      "  Train Loss: 0.0163\n",
      "  Val Loss: 0.0124\n",
      "  Val MSE: 0.0123\n",
      "  Val R2: -0.0772\n",
      "  Model saved as model_epoch_19.pth\n",
      "\n"
     ]
    },
    {
     "name": "stderr",
     "output_type": "stream",
     "text": [
      "Epoch 20/1000:   0%|          | 0/22 [00:00<?, ?it/s]/home/hk4638/.conda/envs/com/lib/python3.12/site-packages/torch/utils/checkpoint.py:460: UserWarning: torch.utils.checkpoint: please pass in use_reentrant=True or use_reentrant=False explicitly. The default value of use_reentrant will be updated to be False in the future. To maintain current behavior, pass use_reentrant=True. It is recommended that you use use_reentrant=False. Refer to docs for more details on the differences between the two variants.\n",
      "  warnings.warn(\n",
      "/home/hk4638/.conda/envs/com/lib/python3.12/site-packages/torch_geometric/warnings.py:11: UserWarning: The usage of `scatter(reduce='max')` can be accelerated via the 'torch-scatter' package, but it was not found\n",
      "  warnings.warn(message)\n",
      "Epoch 20/1000: 100%|██████████| 22/22 [00:03<00:00,  5.81it/s, Train Loss=0.0162]\n",
      "/home/hk4638/.conda/envs/com/lib/python3.12/site-packages/torch/utils/checkpoint.py:90: UserWarning: None of the inputs have requires_grad=True. Gradients will be None\n",
      "  warnings.warn(\n"
     ]
    },
    {
     "name": "stdout",
     "output_type": "stream",
     "text": [
      "Epoch 20/1000:\n",
      "  Train Loss: 0.0142\n",
      "  Val Loss: 0.0109\n",
      "  Val MSE: 0.0110\n",
      "  Val R2: 0.0389\n",
      "  Model saved as model_epoch_20.pth\n",
      "\n"
     ]
    },
    {
     "name": "stderr",
     "output_type": "stream",
     "text": [
      "Epoch 21/1000:   0%|          | 0/22 [00:00<?, ?it/s]/home/hk4638/.conda/envs/com/lib/python3.12/site-packages/torch/utils/checkpoint.py:460: UserWarning: torch.utils.checkpoint: please pass in use_reentrant=True or use_reentrant=False explicitly. The default value of use_reentrant will be updated to be False in the future. To maintain current behavior, pass use_reentrant=True. It is recommended that you use use_reentrant=False. Refer to docs for more details on the differences between the two variants.\n",
      "  warnings.warn(\n",
      "/home/hk4638/.conda/envs/com/lib/python3.12/site-packages/torch_geometric/warnings.py:11: UserWarning: The usage of `scatter(reduce='max')` can be accelerated via the 'torch-scatter' package, but it was not found\n",
      "  warnings.warn(message)\n",
      "Epoch 21/1000: 100%|██████████| 22/22 [00:03<00:00,  5.72it/s, Train Loss=0.0159]\n",
      "/home/hk4638/.conda/envs/com/lib/python3.12/site-packages/torch/utils/checkpoint.py:90: UserWarning: None of the inputs have requires_grad=True. Gradients will be None\n",
      "  warnings.warn(\n"
     ]
    },
    {
     "name": "stdout",
     "output_type": "stream",
     "text": [
      "Epoch 21/1000:\n",
      "  Train Loss: 0.0145\n",
      "  Val Loss: 0.0110\n",
      "  Val MSE: 0.0110\n",
      "  Val R2: 0.0369\n",
      "  Model saved as model_epoch_21.pth\n",
      "\n"
     ]
    },
    {
     "name": "stderr",
     "output_type": "stream",
     "text": [
      "Epoch 22/1000:   0%|          | 0/22 [00:00<?, ?it/s]/home/hk4638/.conda/envs/com/lib/python3.12/site-packages/torch/utils/checkpoint.py:460: UserWarning: torch.utils.checkpoint: please pass in use_reentrant=True or use_reentrant=False explicitly. The default value of use_reentrant will be updated to be False in the future. To maintain current behavior, pass use_reentrant=True. It is recommended that you use use_reentrant=False. Refer to docs for more details on the differences between the two variants.\n",
      "  warnings.warn(\n",
      "/home/hk4638/.conda/envs/com/lib/python3.12/site-packages/torch_geometric/warnings.py:11: UserWarning: The usage of `scatter(reduce='max')` can be accelerated via the 'torch-scatter' package, but it was not found\n",
      "  warnings.warn(message)\n",
      "Epoch 22/1000: 100%|██████████| 22/22 [00:03<00:00,  5.73it/s, Train Loss=0.0169]\n",
      "/home/hk4638/.conda/envs/com/lib/python3.12/site-packages/torch/utils/checkpoint.py:90: UserWarning: None of the inputs have requires_grad=True. Gradients will be None\n",
      "  warnings.warn(\n"
     ]
    },
    {
     "name": "stdout",
     "output_type": "stream",
     "text": [
      "Epoch 22/1000:\n",
      "  Train Loss: 0.0147\n",
      "  Val Loss: 0.0111\n",
      "  Val MSE: 0.0111\n",
      "  Val R2: 0.0318\n",
      "  Model saved as model_epoch_22.pth\n",
      "\n"
     ]
    },
    {
     "name": "stderr",
     "output_type": "stream",
     "text": [
      "Epoch 23/1000:   0%|          | 0/22 [00:00<?, ?it/s]/home/hk4638/.conda/envs/com/lib/python3.12/site-packages/torch/utils/checkpoint.py:460: UserWarning: torch.utils.checkpoint: please pass in use_reentrant=True or use_reentrant=False explicitly. The default value of use_reentrant will be updated to be False in the future. To maintain current behavior, pass use_reentrant=True. It is recommended that you use use_reentrant=False. Refer to docs for more details on the differences between the two variants.\n",
      "  warnings.warn(\n",
      "/home/hk4638/.conda/envs/com/lib/python3.12/site-packages/torch_geometric/warnings.py:11: UserWarning: The usage of `scatter(reduce='max')` can be accelerated via the 'torch-scatter' package, but it was not found\n",
      "  warnings.warn(message)\n",
      "Epoch 23/1000: 100%|██████████| 22/22 [00:03<00:00,  5.77it/s, Train Loss=0.0160]\n",
      "/home/hk4638/.conda/envs/com/lib/python3.12/site-packages/torch/utils/checkpoint.py:90: UserWarning: None of the inputs have requires_grad=True. Gradients will be None\n",
      "  warnings.warn(\n"
     ]
    },
    {
     "name": "stdout",
     "output_type": "stream",
     "text": [
      "Epoch 23/1000:\n",
      "  Train Loss: 0.0137\n",
      "  Val Loss: 0.0116\n",
      "  Val MSE: 0.0116\n",
      "  Val R2: -0.0163\n",
      "  Model saved as model_epoch_23.pth\n",
      "\n"
     ]
    },
    {
     "name": "stderr",
     "output_type": "stream",
     "text": [
      "Epoch 24/1000:   0%|          | 0/22 [00:00<?, ?it/s]/home/hk4638/.conda/envs/com/lib/python3.12/site-packages/torch/utils/checkpoint.py:460: UserWarning: torch.utils.checkpoint: please pass in use_reentrant=True or use_reentrant=False explicitly. The default value of use_reentrant will be updated to be False in the future. To maintain current behavior, pass use_reentrant=True. It is recommended that you use use_reentrant=False. Refer to docs for more details on the differences between the two variants.\n",
      "  warnings.warn(\n",
      "/home/hk4638/.conda/envs/com/lib/python3.12/site-packages/torch_geometric/warnings.py:11: UserWarning: The usage of `scatter(reduce='max')` can be accelerated via the 'torch-scatter' package, but it was not found\n",
      "  warnings.warn(message)\n",
      "Epoch 24/1000: 100%|██████████| 22/22 [00:03<00:00,  5.77it/s, Train Loss=0.0147]\n",
      "/home/hk4638/.conda/envs/com/lib/python3.12/site-packages/torch/utils/checkpoint.py:90: UserWarning: None of the inputs have requires_grad=True. Gradients will be None\n",
      "  warnings.warn(\n"
     ]
    },
    {
     "name": "stdout",
     "output_type": "stream",
     "text": [
      "Epoch 24/1000:\n",
      "  Train Loss: 0.0147\n",
      "  Val Loss: 0.0113\n",
      "  Val MSE: 0.0113\n",
      "  Val R2: 0.0083\n",
      "  Model saved as model_epoch_24.pth\n",
      "\n"
     ]
    },
    {
     "name": "stderr",
     "output_type": "stream",
     "text": [
      "Epoch 25/1000:   0%|          | 0/22 [00:00<?, ?it/s]/home/hk4638/.conda/envs/com/lib/python3.12/site-packages/torch/utils/checkpoint.py:460: UserWarning: torch.utils.checkpoint: please pass in use_reentrant=True or use_reentrant=False explicitly. The default value of use_reentrant will be updated to be False in the future. To maintain current behavior, pass use_reentrant=True. It is recommended that you use use_reentrant=False. Refer to docs for more details on the differences between the two variants.\n",
      "  warnings.warn(\n",
      "/home/hk4638/.conda/envs/com/lib/python3.12/site-packages/torch_geometric/warnings.py:11: UserWarning: The usage of `scatter(reduce='max')` can be accelerated via the 'torch-scatter' package, but it was not found\n",
      "  warnings.warn(message)\n",
      "Epoch 25/1000: 100%|██████████| 22/22 [00:03<00:00,  5.73it/s, Train Loss=0.0155]\n",
      "/home/hk4638/.conda/envs/com/lib/python3.12/site-packages/torch/utils/checkpoint.py:90: UserWarning: None of the inputs have requires_grad=True. Gradients will be None\n",
      "  warnings.warn(\n"
     ]
    },
    {
     "name": "stdout",
     "output_type": "stream",
     "text": [
      "Epoch 25/1000:\n",
      "  Train Loss: 0.0136\n",
      "  Val Loss: 0.0111\n",
      "  Val MSE: 0.0112\n",
      "  Val R2: 0.0217\n",
      "  Model saved as model_epoch_25.pth\n",
      "\n"
     ]
    },
    {
     "name": "stderr",
     "output_type": "stream",
     "text": [
      "Epoch 26/1000:   0%|          | 0/22 [00:00<?, ?it/s]/home/hk4638/.conda/envs/com/lib/python3.12/site-packages/torch/utils/checkpoint.py:460: UserWarning: torch.utils.checkpoint: please pass in use_reentrant=True or use_reentrant=False explicitly. The default value of use_reentrant will be updated to be False in the future. To maintain current behavior, pass use_reentrant=True. It is recommended that you use use_reentrant=False. Refer to docs for more details on the differences between the two variants.\n",
      "  warnings.warn(\n",
      "/home/hk4638/.conda/envs/com/lib/python3.12/site-packages/torch_geometric/warnings.py:11: UserWarning: The usage of `scatter(reduce='max')` can be accelerated via the 'torch-scatter' package, but it was not found\n",
      "  warnings.warn(message)\n",
      "Epoch 26/1000: 100%|██████████| 22/22 [00:03<00:00,  5.71it/s, Train Loss=0.0168]\n",
      "/home/hk4638/.conda/envs/com/lib/python3.12/site-packages/torch/utils/checkpoint.py:90: UserWarning: None of the inputs have requires_grad=True. Gradients will be None\n",
      "  warnings.warn(\n"
     ]
    },
    {
     "name": "stdout",
     "output_type": "stream",
     "text": [
      "Epoch 26/1000:\n",
      "  Train Loss: 0.0136\n",
      "  Val Loss: 0.0102\n",
      "  Val MSE: 0.0103\n",
      "  Val R2: 0.1017\n",
      "  Model saved as model_epoch_26.pth\n",
      "  New best model saved as best_model.pth!\n",
      "\n"
     ]
    },
    {
     "name": "stderr",
     "output_type": "stream",
     "text": [
      "Epoch 27/1000:   0%|          | 0/22 [00:00<?, ?it/s]/home/hk4638/.conda/envs/com/lib/python3.12/site-packages/torch/utils/checkpoint.py:460: UserWarning: torch.utils.checkpoint: please pass in use_reentrant=True or use_reentrant=False explicitly. The default value of use_reentrant will be updated to be False in the future. To maintain current behavior, pass use_reentrant=True. It is recommended that you use use_reentrant=False. Refer to docs for more details on the differences between the two variants.\n",
      "  warnings.warn(\n",
      "/home/hk4638/.conda/envs/com/lib/python3.12/site-packages/torch_geometric/warnings.py:11: UserWarning: The usage of `scatter(reduce='max')` can be accelerated via the 'torch-scatter' package, but it was not found\n",
      "  warnings.warn(message)\n",
      "Epoch 27/1000: 100%|██████████| 22/22 [00:03<00:00,  5.73it/s, Train Loss=0.0110]\n",
      "/home/hk4638/.conda/envs/com/lib/python3.12/site-packages/torch/utils/checkpoint.py:90: UserWarning: None of the inputs have requires_grad=True. Gradients will be None\n",
      "  warnings.warn(\n"
     ]
    },
    {
     "name": "stdout",
     "output_type": "stream",
     "text": [
      "Epoch 27/1000:\n",
      "  Train Loss: 0.0135\n",
      "  Val Loss: 0.0114\n",
      "  Val MSE: 0.0114\n",
      "  Val R2: 0.0021\n",
      "  Model saved as model_epoch_27.pth\n",
      "\n"
     ]
    },
    {
     "name": "stderr",
     "output_type": "stream",
     "text": [
      "Epoch 28/1000:   0%|          | 0/22 [00:00<?, ?it/s]/home/hk4638/.conda/envs/com/lib/python3.12/site-packages/torch/utils/checkpoint.py:460: UserWarning: torch.utils.checkpoint: please pass in use_reentrant=True or use_reentrant=False explicitly. The default value of use_reentrant will be updated to be False in the future. To maintain current behavior, pass use_reentrant=True. It is recommended that you use use_reentrant=False. Refer to docs for more details on the differences between the two variants.\n",
      "  warnings.warn(\n",
      "/home/hk4638/.conda/envs/com/lib/python3.12/site-packages/torch_geometric/warnings.py:11: UserWarning: The usage of `scatter(reduce='max')` can be accelerated via the 'torch-scatter' package, but it was not found\n",
      "  warnings.warn(message)\n",
      "Epoch 28/1000:  91%|█████████ | 20/22 [00:03<00:00,  5.57it/s, Train Loss=0.0119]\n"
     ]
    },
    {
     "name": "stdout",
     "output_type": "stream",
     "text": [
      "\n",
      "Training interrupted. Saving current model state...\n",
      "Model saved as interrupted_model.pth\n"
     ]
    }
   ],
   "source": [
    "import torch\n",
    "from torch_geometric.loader import DataLoader\n",
    "import numpy as np\n",
    "import matplotlib.pyplot as plt\n",
    "import torch.nn as nn\n",
    "import torch.optim as optim\n",
    "from tqdm import tqdm\n",
    "from sklearn.metrics import mean_squared_error, r2_score\n",
    "\n",
    "# Initialize model\n",
    "in_channels = normalized_data_list[0].num_node_features\n",
    "hidden_channels = 64\n",
    "out_channels = 1  # Assuming you're predicting a single value\n",
    "num_layers = 3\n",
    "heads = 16\n",
    "dropout_rate = 0.16841713216269857\n",
    "residuals = True\n",
    "\n",
    "model = MetaLayerGNN(\n",
    "    in_channels=in_channels, \n",
    "    hidden_channels=hidden_channels, \n",
    "    out_channels=out_channels, \n",
    "    num_layers=num_layers, \n",
    "    dropout_rate=dropout_rate\n",
    ")\n",
    "\n",
    "# Train model\n",
    "device = torch.device('cuda' if torch.cuda.is_available() else 'cpu')\n",
    "trained_model = train_model(model, train_loader, val_loader, device, num_epochs=1000, load_best_model=False)"
   ]
  },
  {
   "cell_type": "code",
   "execution_count": null,
   "metadata": {},
   "outputs": [
    {
     "name": "stderr",
     "output_type": "stream",
     "text": [
      "Epoch 1/1000: 100%|██████████| 22/22 [02:42<00:00,  7.38s/it, Train Loss=0.2628]   \n"
     ]
    },
    {
     "name": "stdout",
     "output_type": "stream",
     "text": [
      "Epoch 1/1000:\n",
      "  Train Loss: 3236.5800\n",
      "  Val Loss: 0.4463\n",
      "  Val MSE: 0.4362\n",
      "  Val R2: -32.1140\n",
      "  Model saved as model_epoch_1.pth\n",
      "  New best model saved as best_model.pth!\n",
      "\n"
     ]
    },
    {
     "name": "stderr",
     "output_type": "stream",
     "text": [
      "Epoch 2/1000: 100%|██████████| 22/22 [03:04<00:00,  8.38s/it, Train Loss=0.0535]\n"
     ]
    },
    {
     "name": "stdout",
     "output_type": "stream",
     "text": [
      "Epoch 2/1000:\n",
      "  Train Loss: 0.1794\n",
      "  Val Loss: 0.1690\n",
      "  Val MSE: 0.1447\n",
      "  Val R2: -9.9839\n",
      "  Model saved as model_epoch_2.pth\n",
      "  New best model saved as best_model.pth!\n",
      "\n"
     ]
    },
    {
     "name": "stderr",
     "output_type": "stream",
     "text": [
      "Epoch 3/1000: 100%|██████████| 22/22 [03:02<00:00,  8.29s/it, Train Loss=0.0384]\n"
     ]
    },
    {
     "name": "stdout",
     "output_type": "stream",
     "text": [
      "Epoch 3/1000:\n",
      "  Train Loss: 0.0685\n",
      "  Val Loss: 0.0255\n",
      "  Val MSE: 0.0257\n",
      "  Val R2: -0.9499\n",
      "  Model saved as model_epoch_3.pth\n",
      "  New best model saved as best_model.pth!\n",
      "\n"
     ]
    },
    {
     "name": "stderr",
     "output_type": "stream",
     "text": [
      "Epoch 4/1000: 100%|██████████| 22/22 [03:05<00:00,  8.43s/it, Train Loss=0.0264]\n"
     ]
    },
    {
     "name": "stdout",
     "output_type": "stream",
     "text": [
      "Epoch 4/1000:\n",
      "  Train Loss: 0.0256\n",
      "  Val Loss: 0.0223\n",
      "  Val MSE: 0.0224\n",
      "  Val R2: -0.7039\n",
      "  Model saved as model_epoch_4.pth\n",
      "  New best model saved as best_model.pth!\n",
      "\n"
     ]
    },
    {
     "name": "stderr",
     "output_type": "stream",
     "text": [
      "Epoch 5/1000: 100%|██████████| 22/22 [03:04<00:00,  8.40s/it, Train Loss=0.0214]\n"
     ]
    },
    {
     "name": "stdout",
     "output_type": "stream",
     "text": [
      "Epoch 5/1000:\n",
      "  Train Loss: 0.0276\n",
      "  Val Loss: 0.0757\n",
      "  Val MSE: 0.0765\n",
      "  Val R2: -4.8065\n",
      "  Model saved as model_epoch_5.pth\n",
      "\n"
     ]
    },
    {
     "name": "stderr",
     "output_type": "stream",
     "text": [
      "Epoch 6/1000:  50%|█████     | 11/22 [01:30<01:38,  8.96s/it, Train Loss=0.0340]"
     ]
    }
   ],
   "source": [
    "import torch\n",
    "from torch_geometric.loader import DataLoader\n",
    "import numpy as np\n",
    "import matplotlib.pyplot as plt\n",
    "import torch.nn as nn\n",
    "import torch.optim as optim\n",
    "from tqdm import tqdm\n",
    "from sklearn.metrics import mean_squared_error, r2_score\n",
    "\n",
    "# Assuming normalized_data_list is a list of HeteroData objects\n",
    "# Define input channels for each node type (example: {'A': 16, 'B': 32, 'C': 64})\n",
    "# You'll need to replace these values with the actual number of features for each node type\n",
    "in_channels_dict = {\n",
    "    'A': normalized_data_list[0]['A'].num_node_features,\n",
    "    'B': normalized_data_list[0]['B'].num_node_features,\n",
    "    'C': normalized_data_list[0]['C'].num_node_features\n",
    "}\n",
    "\n",
    "# Initialize model with heterogeneous data\n",
    "hidden_channels = 64\n",
    "num_layers = 2\n",
    "heads = 16\n",
    "dropout_rate = 0.16841713216269857\n",
    "\n",
    "# Use the HeteroComplexGAT model instead of ComplexGAT\n",
    "model = HeteroComplexGAT(in_channels_dict, hidden_channels, num_layers, heads, dropout_rate)\n",
    "\n",
    "# Train model\n",
    "device = torch.device('cuda' if torch.cuda.is_available() else 'cpu')\n",
    "\n",
    "# Assuming train_loader and val_loader are DataLoader objects for HeteroData\n",
    "trained_model = train_model(model, train_loader, val_loader, device, num_epochs=1000, load_best_model=False)\n",
    "\n",
    "# Optionally, plot the loss curve or evaluate the model further here"
   ]
  },
  {
   "cell_type": "code",
   "execution_count": null,
   "metadata": {},
   "outputs": [],
   "source": [
    "import optuna\n",
    "import torch\n",
    "import os\n",
    "import torch.nn as nn\n",
    "from torch_geometric.loader import DataLoader\n",
    "import gc\n",
    "import json\n",
    "from tqdm import tqdm # Ensure this import is correct\n",
    "\n",
    "class Objective(object):\n",
    "    def __init__(self, num_features, device, epochs, train_loader, val_loader):\n",
    "        self.num_features = num_features\n",
    "        self.device = device\n",
    "        self.epochs = epochs\n",
    "        self.train_loader = train_loader\n",
    "        self.val_loader = val_loader\n",
    "        self.best_trial_number = None\n",
    "        self.best_val_loss = float('inf')\n",
    "\n",
    "    def __call__(self, trial):\n",
    "        save_dir = '/scratch/gpfs/hk4638/astrid_optimization'\n",
    "        os.makedirs(save_dir, exist_ok=True)\n",
    "\n",
    "        fout = os.path.join(save_dir, f'loss_{trial.number}.txt')\n",
    "        fmodel = os.path.join(save_dir, f'model_{trial.number}.pth')\n",
    "        fhyper = os.path.join(save_dir, f'hyperparameters_{trial.number}.json')\n",
    "\n",
    "        # Suggest hyperparameters for MetaLayerGNN\n",
    "        hidden_channels = trial.suggest_categorical('hidden_channels', [64, 128])\n",
    "        num_layers = trial.suggest_int('num_layers', 2, 5)\n",
    "        dropout_rate = trial.suggest_float('dropout_rate', 0.0, 0.5)\n",
    "        lr = trial.suggest_float('lr', 1e-5, 1e-2, log=True)\n",
    "\n",
    "        hyperparameters = {\n",
    "            'hidden_channels': hidden_channels,\n",
    "            'num_layers': num_layers,\n",
    "            'dropout_rate': dropout_rate,\n",
    "            'lr': lr\n",
    "        }\n",
    "        with open(fhyper, 'w') as f:\n",
    "            json.dump(hyperparameters, f, indent=4)\n",
    "\n",
    "        # Generate the model architecture\n",
    "        model = MetaLayerGNN(in_channels=self.num_features, \n",
    "                             hidden_channels=hidden_channels,\n",
    "                             out_channels=1,  # Assuming single output\n",
    "                             num_layers=num_layers, \n",
    "                             dropout_rate=dropout_rate).to(self.device)\n",
    "\n",
    "        optimizer = torch.optim.Adam(model.parameters(), lr=lr)\n",
    "        scheduler = torch.optim.lr_scheduler.StepLR(optimizer, step_size=50, gamma=0.5)\n",
    "        criterion = nn.MSELoss()\n",
    "    \n",
    "        def train():\n",
    "            model.train()\n",
    "            train_bar = tqdm(self.train_loader, leave=False, desc=f\"Epoch {epoch+1}/{self.epochs}\")\n",
    "            for data in train_bar:\n",
    "                data = data.to(self.device)\n",
    "                out = model(data)\n",
    "                loss = criterion(out.squeeze(), data.y)\n",
    "                optimizer.zero_grad()\n",
    "                loss.backward()\n",
    "                optimizer.step()\n",
    "            scheduler.step()\n",
    "\n",
    "        def validate(loader):\n",
    "            model.eval()\n",
    "            total_loss = 0\n",
    "            num_batches = 0\n",
    "            with torch.no_grad():\n",
    "                for data in loader:\n",
    "                    data = data.to(self.device)\n",
    "                    out = model(data)\n",
    "                    loss = criterion(out.squeeze(), data.y)\n",
    "                    total_loss += loss.item()\n",
    "                    num_batches += 1\n",
    "            return total_loss / num_batches\n",
    "\n",
    "        trial_best_val_loss = float('inf')\n",
    "        for epoch in tqdm(range(self.epochs)):\n",
    "            train()\n",
    "            val_loss = validate(self.val_loader)\n",
    "            \n",
    "            if val_loss < trial_best_val_loss:\n",
    "                trial_best_val_loss = val_loss\n",
    "                torch.save(model.state_dict(), fmodel)\n",
    "            \n",
    "            with open(fout, 'a') as f:\n",
    "                f.write(f'{epoch} {val_loss:.5e} {trial_best_val_loss:.5e}\\n')\n",
    "\n",
    "            trial.report(val_loss, epoch)\n",
    "            if trial.should_prune():\n",
    "                raise optuna.exceptions.TrialPruned()\n",
    "\n",
    "        if trial_best_val_loss < self.best_val_loss:\n",
    "            self.best_val_loss = trial_best_val_loss\n",
    "            self.best_trial_number = trial.number\n",
    "\n",
    "            with open(os.path.join(save_dir, 'best_trial.json'), 'w') as f:\n",
    "                json.dump({\n",
    "                    'best_trial_number': self.best_trial_number,\n",
    "                    'best_val_loss': self.best_val_loss\n",
    "                }, f, indent=4)\n",
    "\n",
    "        print(f\"\\n--- Trial {trial.number} Results ---\")\n",
    "        print(\"Hyperparameters:\")\n",
    "        for key, value in trial.params.items():\n",
    "            print(f\"  {key}: {value}\")\n",
    "        print(f\"\\nCurrent Model Architecture:\\n{model}\")\n",
    "        print(f\"\\nBest Validation Loss for this trial: {trial_best_val_loss:.5e}\")\n",
    "        print(f\"Best Overall Validation Loss: {self.best_val_loss:.5e} (Trial {self.best_trial_number})\")\n",
    "\n",
    "        del model, optimizer, scheduler, criterion\n",
    "        gc.collect()\n",
    "        torch.cuda.empty_cache()\n",
    "        \n",
    "        return trial_best_val_loss"
   ]
  },
  {
   "cell_type": "code",
   "execution_count": null,
   "metadata": {
    "scrolled": true
   },
   "outputs": [],
   "source": [
    "# Set up the study\n",
    "study_name = 'metaln'\n",
    "n_trials = 100  # Total number of trials to run (including previous ones if resuming)\n",
    "n_jobs = 1\n",
    "\n",
    "device = torch.device('cuda' if torch.cuda.is_available() else 'cpu')\n",
    "\n",
    "# Define the directory for saving files\n",
    "save_dir = '/scratch/gpfs/hk4638/astrid_optimization/'\n",
    "os.makedirs(save_dir, exist_ok=True)\n",
    "\n",
    "# Set up the storage\n",
    "storage_name = os.path.join(save_dir, 'new_astrid_study.db')\n",
    "storage = optuna.storages.RDBStorage(\n",
    "    url=f\"sqlite:///{storage_name}\",\n",
    "    engine_kwargs={\"connect_args\": {\"timeout\": 100}}\n",
    ")\n",
    "\n",
    "# Check if the study already exists\n",
    "try:\n",
    "    study = optuna.load_study(study_name=study_name, storage=storage)\n",
    "    print(f\"Resuming optimization from existing study '{study_name}'\")\n",
    "    print(f\"Number of completed trials: {len(study.trials)}\")\n",
    "except KeyError:\n",
    "    # If the study doesn't exist, create a new one\n",
    "    study = optuna.create_study(study_name=study_name, storage=storage, \n",
    "                                sampler=optuna.samplers.TPESampler(n_startup_trials=10),\n",
    "                                direction='minimize')\n",
    "    print(f\"Created new study '{study_name}'\")\n",
    "\n",
    "# Create the objective\n",
    "objective = Objective(num_features=normalized_data_list[0].num_node_features, epochs=50, device=device,\n",
    "                      train_loader = train_loader, val_loader = val_loader)\n",
    "\n",
    "# Calculate the number of trials to run\n",
    "n_trials_to_run = max(0, n_trials - len(study.trials))\n",
    "\n",
    "if n_trials_to_run > 0:\n",
    "    print(f\"Running {n_trials_to_run} additional trials...\")\n",
    "    study.optimize(objective, n_trials=n_trials_to_run, n_jobs=n_jobs)\n",
    "else:\n",
    "    print(\"No additional trials to run. The study has already completed the specified number of trials.\")\n",
    "\n"
   ]
  },
  {
   "cell_type": "code",
   "execution_count": 38,
   "metadata": {},
   "outputs": [
    {
     "name": "stdout",
     "output_type": "stream",
     "text": [
      "Target trial number 8 is greater than or equal to the highest trial number (-1). No reset needed.\n"
     ]
    }
   ],
   "source": [
    "'''\n",
    "import optuna\n",
    "import os\n",
    "\n",
    "def reset_study_to_trial(study_name, storage_path, target_trial_number):\n",
    "    if not os.path.exists(storage_path):\n",
    "        raise FileNotFoundError(f\"Database file not found: {storage_path}\")\n",
    "\n",
    "    storage_url = f\"sqlite:///{storage_path}\"\n",
    "    \n",
    "    # Load the existing study\n",
    "    old_study = optuna.load_study(study_name=study_name, storage=storage_url)\n",
    "    \n",
    "    # Get the total number of trials\n",
    "    total_trials = len(old_study.trials)\n",
    "    \n",
    "    if target_trial_number >= total_trials - 1:\n",
    "        print(f\"Target trial number {target_trial_number} is greater than or equal to the highest trial number ({total_trials - 1}). No reset needed.\")\n",
    "        return old_study\n",
    "    \n",
    "    # Confirm with the user\n",
    "    print(f\"This will reset the study to include only trials up to and including trial {target_trial_number}.\")\n",
    "    print(f\"Current number of trials: {total_trials}\")\n",
    "    print(f\"Number of trials to keep: {target_trial_number + 1}\")\n",
    "    print(f\"Number of trials to remove: {total_trials - (target_trial_number + 1)}\")\n",
    "    confirm = input(\"Are you sure you want to proceed? (yes/no): \")\n",
    "    \n",
    "    if confirm.lower() != 'yes':\n",
    "        print(\"Operation cancelled.\")\n",
    "        return old_study\n",
    "    \n",
    "    # Create a new study with the same name (this will overwrite the old one)\n",
    "    new_study = optuna.create_study(\n",
    "        study_name=study_name,\n",
    "        storage=storage_url,\n",
    "        direction=old_study.direction,\n",
    "        load_if_exists=True\n",
    "    )\n",
    "    \n",
    "    # Clear all trials from the new study\n",
    "    new_study._storage.delete_study(new_study._study_id)\n",
    "    \n",
    "    # Recreate the study\n",
    "    new_study = optuna.create_study(\n",
    "        study_name=study_name,\n",
    "        storage=storage_url,\n",
    "        direction=old_study.direction,\n",
    "        load_if_exists=True\n",
    "    )\n",
    "    \n",
    "    # Copy trials up to and including the target trial number\n",
    "    for trial in old_study.trials[:target_trial_number + 1]:\n",
    "        if trial.state == optuna.trial.TrialState.COMPLETE:\n",
    "            new_study.add_trial(\n",
    "                optuna.trial.create_trial(\n",
    "                    params=trial.params,\n",
    "                    distributions=trial.distributions,\n",
    "                    value=trial.value,\n",
    "                    state=trial.state\n",
    "                )\n",
    "            )\n",
    "    \n",
    "    print(f\"Study reset to include {len(new_study.trials)} trials\")\n",
    "    return new_study\n",
    "\n",
    "# Usage\n",
    "storage_path = \"/scratch/gpfs/hk4638/astrid_optimization/astrid_study.db\"\n",
    "study_name = \"astrid_gnn_optimization\"\n",
    "target_trial_number = 8\n",
    "\n",
    "try:\n",
    "    study = reset_study_to_trial(study_name, storage_path, target_trial_number)\n",
    "    \n",
    "except FileNotFoundError as e:\n",
    "    print(f\"Error: {e}\")\n",
    "    print(\"Please check the path to your database file and try again.\")\n",
    "except Exception as e:\n",
    "    print(f\"An error occurred: {e}\")\n",
    "    raise  # This will print the full traceback\n",
    "''"
   ]
  },
  {
   "cell_type": "code",
   "execution_count": 36,
   "metadata": {},
   "outputs": [],
   "source": [
    "'''\n",
    "import os\n",
    "import optuna\n",
    "\n",
    "def reset_optuna_database(study_name, storage_path):\n",
    "    \"\"\"\n",
    "    Reset the Optuna database by deleting the existing file and creating a new study.\n",
    "    \n",
    "    Args:\n",
    "    study_name (str): The name of the study.\n",
    "    storage_path (str): The path to the SQLite database file.\n",
    "    \n",
    "    Returns:\n",
    "    optuna.Study: A new Optuna study object.\n",
    "    \"\"\"\n",
    "    # Check if the database file exists\n",
    "    if os.path.exists(storage_path):\n",
    "        # Confirm with the user before deleting\n",
    "        confirm = input(f\"Are you sure you want to delete the existing study '{study_name}'? (y/n): \")\n",
    "        if confirm.lower() == 'y':\n",
    "            # Delete the existing database file\n",
    "            os.remove(storage_path)\n",
    "            print(f\"Deleted existing database: {storage_path}\")\n",
    "        else:\n",
    "            print(\"Database reset cancelled.\")\n",
    "            return None\n",
    "    \n",
    "    print(f\"Created new study '{study_name}' at {storage_path}\")\n",
    "    return study\n",
    "'''"
   ]
  },
  {
   "cell_type": "code",
   "execution_count": 37,
   "metadata": {},
   "outputs": [
    {
     "name": "stdin",
     "output_type": "stream",
     "text": [
      "Are you sure you want to delete the existing study 'astrid_gnn_optimization'? (y/n):  y\n"
     ]
    },
    {
     "name": "stdout",
     "output_type": "stream",
     "text": [
      "Deleted existing database: /scratch/gpfs/hk4638/astrid_optimization/astrid_study.db\n",
      "Created new study 'astrid_gnn_optimization' at /scratch/gpfs/hk4638/astrid_optimization/astrid_study.db\n"
     ]
    }
   ],
   "source": [
    "'''\n",
    "# Set up the study\n",
    "study_name = 'astrid_gnn_optimization'\n",
    "storage_path = '/scratch/gpfs/hk4638/astrid_optimization/astrid_study.db'\n",
    "\n",
    "# Reset the database if desired\n",
    "study = reset_optuna_database(study_name, storage_path)\n",
    "'''"
   ]
  },
  {
   "cell_type": "markdown",
   "metadata": {
    "id": "R0jimGzhBHUd"
   },
   "source": [
    "# Evaluating Model"
   ]
  },
  {
   "cell_type": "code",
   "execution_count": 21,
   "metadata": {},
   "outputs": [],
   "source": [
    "in_channels = normalized_data_list[0].num_node_features\n",
    "hidden_channels = 64\n",
    "num_layers = 2\n",
    "heads = 16\n",
    "dropout_rate = 0.1\n",
    "model = ComplexGAT(in_channels, hidden_channels, num_layers, heads, dropout_rate)\n",
    "path = '/scratch/gpfs/hk4638/astrid_optimization/model_54.pth'\n",
    "model.load_state_dict(torch.load(path))\n",
    "device = torch.device('cuda')\n",
    "trained_model = model"
   ]
  },
  {
   "cell_type": "code",
   "execution_count": 39,
   "metadata": {},
   "outputs": [],
   "source": [
    "import torch\n",
    "import numpy as np\n",
    "from sklearn.metrics import r2_score\n",
    "\n",
    "def evaluate_model(model, test_loader, device):\n",
    "    model.eval()\n",
    "    model.to(device)\n",
    "    test_predictions = []\n",
    "    test_true = []\n",
    "    \n",
    "    with torch.no_grad():\n",
    "        for data in test_loader:\n",
    "            data = data.to(device)\n",
    "            out = model(data)\n",
    "            test_predictions.append(out)\n",
    "            test_true.append(data.y.to(device))\n",
    "    \n",
    "    test_predictions = torch.cat(test_predictions, dim=0)\n",
    "    test_true = torch.cat(test_true, dim=0)\n",
    "    \n",
    "    # Move to CPU for metric computation\n",
    "    test_predictions_cpu = test_predictions.cpu().numpy()\n",
    "    test_true_cpu = test_true.cpu().numpy()\n",
    "    \n",
    "    # Calculate R² using sklearn (as a double-check)\n",
    "    r2_sklearn = r2_score(test_true_cpu, test_predictions_cpu)\n",
    "    \n",
    "    # Calculate R² using the provided formula\n",
    "    y_true_mean = np.mean(test_true_cpu)\n",
    "    numerator = np.sum((test_true_cpu - test_predictions_cpu)**2)\n",
    "    denominator = np.sum((test_true_cpu - y_true_mean)**2)\n",
    "    r2 = 1 - (numerator / denominator)\n",
    "    test_mse = mean_squared_error(test_true_cpu, test_predictions_cpu)\n",
    "    \n",
    "    # Calculate mean relative error (ε)\n",
    "    epsilon_small = 1e-8\n",
    "    epsilon = np.mean(np.abs(test_true_cpu - test_predictions_cpu) / (test_true_cpu + epsilon_small))\n",
    "\n",
    "    \n",
    "    print(f'R² (custom): {r2:.4f}')\n",
    "    print(f'R² (sklearn): {r2_sklearn:.4f}')\n",
    "    print(f'Mean Relative Error (ε): {epsilon:.4f}')\n",
    "    \n",
    "    return test_predictions_cpu, test_true_cpu, r2, epsilon, test_mse\n",
    "\n",
    "# Usage example:\n",
    "# predictions, true_values, r2, epsilon, chi_squared = evaluate_model(model, test_loader, device)"
   ]
  },
  {
   "cell_type": "code",
   "execution_count": 40,
   "metadata": {
    "id": "PJGIkgQzA-K8"
   },
   "outputs": [
    {
     "name": "stdout",
     "output_type": "stream",
     "text": [
      "R² (custom): 0.7127\n",
      "R² (sklearn): 0.7127\n",
      "Mean Relative Error (ε): 0.1855\n",
      "0.004304029\n"
     ]
    },
    {
     "data": {
      "image/png": "[encoded data removed]",
      "text/plain": [
       "<Figure size 1000x600 with 1 Axes>"
      ]
     },
     "metadata": {},
     "output_type": "display_data"
    }
   ],
   "source": [
    "import matplotlib.pyplot as plt\n",
    "\n",
    "# Evaluate model\n",
    "test_predictions, test_true, r2, epsilon, test_mse = evaluate_model(trained_model, test_loader, device)\n",
    "\n",
    "print(test_mse)\n",
    "\n",
    "# Plot results\n",
    "plt.figure(figsize=(10, 6))\n",
    "plt.scatter(test_true, test_predictions, alpha=0.5)\n",
    "plt.plot([0, 0.5], [0, 0.5], color='red', linestyle='--')  # Perfect prediction line\n",
    "\n",
    "plt.xlabel('Truth')\n",
    "plt.ylabel(r'$\\Omega_m$')\n",
    "plt.title('Training in ASTRID, testing in ASTRID')\n",
    "\n",
    "# Add textbox with metrics\n",
    "textstr = '\\n'.join((\n",
    "    r'$\\Omega_m$',\n",
    "    r'$R^2=%.2f$' % (r2,),\n",
    "    r'$\\epsilon=%.1f\\%%$' % (epsilon*100,)\n",
    "))\n",
    "props = dict(boxstyle='round', facecolor='white', alpha=0.5)\n",
    "plt.text(0.05, 0.95, textstr, transform=plt.gca().transAxes, fontsize=9,\n",
    "         verticalalignment='top', bbox=props)\n",
    "\n",
    "plt.text(0.75, 0.05, r'Positions + $M_*, Z_*$', transform=plt.gca().transAxes,\n",
    "         fontsize=9, verticalalignment='bottom', bbox=props)\n",
    "\n",
    "plt.xlim(0.1, 0.5)\n",
    "plt.ylim(0, 0.6)\n",
    "plt.grid(True)\n",
    "plt.tight_layout()\n",
    "plt.show()"
   ]
  },
  {
   "cell_type": "code",
   "execution_count": null,
   "metadata": {},
   "outputs": [],
   "source": []
  },
  {
   "cell_type": "code",
   "execution_count": null,
   "metadata": {},
   "outputs": [],
   "source": []
  }
 ],
 "metadata": {
  "accelerator": "GPU",
  "colab": {
   "gpuType": "A100",
   "machine_shape": "hm",
   "provenance": []
  },
  "kernelspec": {
   "display_name": "com [~/.conda/envs/com/]",
   "language": "python",
   "name": "conda_com"
  },
  "language_info": {
   "codemirror_mode": {
    "name": "ipython",
    "version": 3
   },
   "file_extension": ".py",
   "mimetype": "text/x-python",
   "name": "python",
   "nbconvert_exporter": "python",
   "pygments_lexer": "ipython3",
   "version": "3.12.2"
  }
 },
 "nbformat": 4,
 "nbformat_minor": 4
}

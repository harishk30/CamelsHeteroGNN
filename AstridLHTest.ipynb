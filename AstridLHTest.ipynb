{
 "cells": [
  {
   "cell_type": "markdown",
   "metadata": {
    "id": "Ep2eK29S_5qq"
   },
   "source": [
    "\n",
    "# Loading Data"
   ]
  },
  {
   "cell_type": "code",
   "execution_count": null,
   "metadata": {
    "colab": {
     "base_uri": "https://localhost:8080/"
    },
    "id": "90wz8D6UuSs9",
    "outputId": "dd983309-3b41-4363-eec7-483d11cfc237"
   },
   "outputs": [
    {
     "name": "stdout",
     "output_type": "stream",
     "text": [
      "Collecting torch_geometric\n",
      "  Downloading torch_geometric-2.5.3-py3-none-any.whl.metadata (64 kB)\n",
      "\u001b[?25l     \u001b[90m━━━━━━━━━━━━━━━━━━━━━━━━━━━━━━━━━━━━━━━━\u001b[0m \u001b[32m0.0/64.2 kB\u001b[0m \u001b[31m?\u001b[0m eta \u001b[36m-:--:--\u001b[0m\r",
      "\u001b[2K     \u001b[90m━━━━━━━━━━━━━━━━━━━━━━━━━━━━━━━━━━━━━━━━\u001b[0m \u001b[32m64.2/64.2 kB\u001b[0m \u001b[31m2.3 MB/s\u001b[0m eta \u001b[36m0:00:00\u001b[0m\n",
      "\u001b[?25hRequirement already satisfied: tqdm in /usr/local/lib/python3.10/dist-packages (from torch_geometric) (4.66.5)\n",
      "Requirement already satisfied: numpy in /usr/local/lib/python3.10/dist-packages (from torch_geometric) (1.26.4)\n",
      "Requirement already satisfied: scipy in /usr/local/lib/python3.10/dist-packages (from torch_geometric) (1.13.1)\n",
      "Requirement already satisfied: fsspec in /usr/local/lib/python3.10/dist-packages (from torch_geometric) (2024.6.1)\n",
      "Requirement already satisfied: jinja2 in /usr/local/lib/python3.10/dist-packages (from torch_geometric) (3.1.4)\n",
      "Requirement already satisfied: aiohttp in /usr/local/lib/python3.10/dist-packages (from torch_geometric) (3.10.2)\n",
      "Requirement already satisfied: requests in /usr/local/lib/python3.10/dist-packages (from torch_geometric) (2.32.3)\n",
      "Requirement already satisfied: pyparsing in /usr/local/lib/python3.10/dist-packages (from torch_geometric) (3.1.2)\n",
      "Requirement already satisfied: scikit-learn in /usr/local/lib/python3.10/dist-packages (from torch_geometric) (1.3.2)\n",
      "Requirement already satisfied: psutil>=5.8.0 in /usr/local/lib/python3.10/dist-packages (from torch_geometric) (5.9.5)\n",
      "Requirement already satisfied: aiohappyeyeballs>=2.3.0 in /usr/local/lib/python3.10/dist-packages (from aiohttp->torch_geometric) (2.3.5)\n",
      "Requirement already satisfied: aiosignal>=1.1.2 in /usr/local/lib/python3.10/dist-packages (from aiohttp->torch_geometric) (1.3.1)\n",
      "Requirement already satisfied: attrs>=17.3.0 in /usr/local/lib/python3.10/dist-packages (from aiohttp->torch_geometric) (24.2.0)\n",
      "Requirement already satisfied: frozenlist>=1.1.1 in /usr/local/lib/python3.10/dist-packages (from aiohttp->torch_geometric) (1.4.1)\n",
      "Requirement already satisfied: multidict<7.0,>=4.5 in /usr/local/lib/python3.10/dist-packages (from aiohttp->torch_geometric) (6.0.5)\n",
      "Requirement already satisfied: yarl<2.0,>=1.0 in /usr/local/lib/python3.10/dist-packages (from aiohttp->torch_geometric) (1.9.4)\n",
      "Requirement already satisfied: async-timeout<5.0,>=4.0 in /usr/local/lib/python3.10/dist-packages (from aiohttp->torch_geometric) (4.0.3)\n",
      "Requirement already satisfied: MarkupSafe>=2.0 in /usr/local/lib/python3.10/dist-packages (from jinja2->torch_geometric) (2.1.5)\n",
      "Requirement already satisfied: charset-normalizer<4,>=2 in /usr/local/lib/python3.10/dist-packages (from requests->torch_geometric) (3.3.2)\n",
      "Requirement already satisfied: idna<4,>=2.5 in /usr/local/lib/python3.10/dist-packages (from requests->torch_geometric) (3.7)\n",
      "Requirement already satisfied: urllib3<3,>=1.21.1 in /usr/local/lib/python3.10/dist-packages (from requests->torch_geometric) (2.0.7)\n",
      "Requirement already satisfied: certifi>=2017.4.17 in /usr/local/lib/python3.10/dist-packages (from requests->torch_geometric) (2024.7.4)\n",
      "Requirement already satisfied: joblib>=1.1.1 in /usr/local/lib/python3.10/dist-packages (from scikit-learn->torch_geometric) (1.4.2)\n",
      "Requirement already satisfied: threadpoolctl>=2.0.0 in /usr/local/lib/python3.10/dist-packages (from scikit-learn->torch_geometric) (3.5.0)\n",
      "Downloading torch_geometric-2.5.3-py3-none-any.whl (1.1 MB)\n",
      "\u001b[2K   \u001b[90m━━━━━━━━━━━━━━━━━━━━━━━━━━━━━━━━━━━━━━━━\u001b[0m \u001b[32m1.1/1.1 MB\u001b[0m \u001b[31m19.9 MB/s\u001b[0m eta \u001b[36m0:00:00\u001b[0m\n",
      "\u001b[?25hInstalling collected packages: torch_geometric\n",
      "Successfully installed torch_geometric-2.5.3\n"
     ]
    }
   ],
   "source": [
    "pip install torch_geometric"
   ]
  },
  {
   "cell_type": "code",
   "execution_count": 1,
   "metadata": {
    "id": "JlLkEWbmiyYj"
   },
   "outputs": [],
   "source": [
    "import numpy as np\n",
    "import h5py"
   ]
  },
  {
   "cell_type": "code",
   "execution_count": null,
   "metadata": {
    "colab": {
     "base_uri": "https://localhost:8080/"
    },
    "id": "T5y4nEnfSfbv",
    "outputId": "aad59339-03c4-473b-acae-55777e539d44"
   },
   "outputs": [
    {
     "name": "stdout",
     "output_type": "stream",
     "text": [
      "Mounted at /content/drive\n"
     ]
    }
   ],
   "source": [
    "from google.colab import drive\n",
    "drive.mount('/content/drive')"
   ]
  },
  {
   "cell_type": "code",
   "execution_count": 2,
   "metadata": {
    "id": "V1stgVndkEQm"
   },
   "outputs": [
    {
     "ename": "FileNotFoundError",
     "evalue": "[Errno 2] Unable to open file (unable to open file: name = '/content/drive/MyDrive/groups_090.hdf5', errno = 2, error message = 'No such file or directory', flags = 0, o_flags = 0)",
     "output_type": "error",
     "traceback": [
      "\u001b[0;31m---------------------------------------------------------------------------\u001b[0m",
      "\u001b[0;31mFileNotFoundError\u001b[0m                         Traceback (most recent call last)",
      "Cell \u001b[0;32mIn[2], line 2\u001b[0m\n\u001b[1;32m      1\u001b[0m catalog \u001b[38;5;241m=\u001b[39m \u001b[38;5;124m'\u001b[39m\u001b[38;5;124m/content/drive/MyDrive/groups_090.hdf5\u001b[39m\u001b[38;5;124m'\u001b[39m\n\u001b[0;32m----> 2\u001b[0m f \u001b[38;5;241m=\u001b[39m \u001b[43mh5py\u001b[49m\u001b[38;5;241;43m.\u001b[39;49m\u001b[43mFile\u001b[49m\u001b[43m(\u001b[49m\u001b[43mcatalog\u001b[49m\u001b[43m,\u001b[49m\u001b[43m \u001b[49m\u001b[38;5;124;43m'\u001b[39;49m\u001b[38;5;124;43mr\u001b[39;49m\u001b[38;5;124;43m'\u001b[39;49m\u001b[43m)\u001b[49m\n",
      "File \u001b[0;32m~/.conda/envs/astridenv/lib/python3.10/site-packages/h5py/_hl/files.py:562\u001b[0m, in \u001b[0;36mFile.__init__\u001b[0;34m(self, name, mode, driver, libver, userblock_size, swmr, rdcc_nslots, rdcc_nbytes, rdcc_w0, track_order, fs_strategy, fs_persist, fs_threshold, fs_page_size, page_buf_size, min_meta_keep, min_raw_keep, locking, alignment_threshold, alignment_interval, meta_block_size, **kwds)\u001b[0m\n\u001b[1;32m    553\u001b[0m     fapl \u001b[38;5;241m=\u001b[39m make_fapl(driver, libver, rdcc_nslots, rdcc_nbytes, rdcc_w0,\n\u001b[1;32m    554\u001b[0m                      locking, page_buf_size, min_meta_keep, min_raw_keep,\n\u001b[1;32m    555\u001b[0m                      alignment_threshold\u001b[38;5;241m=\u001b[39malignment_threshold,\n\u001b[1;32m    556\u001b[0m                      alignment_interval\u001b[38;5;241m=\u001b[39malignment_interval,\n\u001b[1;32m    557\u001b[0m                      meta_block_size\u001b[38;5;241m=\u001b[39mmeta_block_size,\n\u001b[1;32m    558\u001b[0m                      \u001b[38;5;241m*\u001b[39m\u001b[38;5;241m*\u001b[39mkwds)\n\u001b[1;32m    559\u001b[0m     fcpl \u001b[38;5;241m=\u001b[39m make_fcpl(track_order\u001b[38;5;241m=\u001b[39mtrack_order, fs_strategy\u001b[38;5;241m=\u001b[39mfs_strategy,\n\u001b[1;32m    560\u001b[0m                      fs_persist\u001b[38;5;241m=\u001b[39mfs_persist, fs_threshold\u001b[38;5;241m=\u001b[39mfs_threshold,\n\u001b[1;32m    561\u001b[0m                      fs_page_size\u001b[38;5;241m=\u001b[39mfs_page_size)\n\u001b[0;32m--> 562\u001b[0m     fid \u001b[38;5;241m=\u001b[39m \u001b[43mmake_fid\u001b[49m\u001b[43m(\u001b[49m\u001b[43mname\u001b[49m\u001b[43m,\u001b[49m\u001b[43m \u001b[49m\u001b[43mmode\u001b[49m\u001b[43m,\u001b[49m\u001b[43m \u001b[49m\u001b[43muserblock_size\u001b[49m\u001b[43m,\u001b[49m\u001b[43m \u001b[49m\u001b[43mfapl\u001b[49m\u001b[43m,\u001b[49m\u001b[43m \u001b[49m\u001b[43mfcpl\u001b[49m\u001b[43m,\u001b[49m\u001b[43m \u001b[49m\u001b[43mswmr\u001b[49m\u001b[38;5;241;43m=\u001b[39;49m\u001b[43mswmr\u001b[49m\u001b[43m)\u001b[49m\n\u001b[1;32m    564\u001b[0m \u001b[38;5;28;01mif\u001b[39;00m \u001b[38;5;28misinstance\u001b[39m(libver, \u001b[38;5;28mtuple\u001b[39m):\n\u001b[1;32m    565\u001b[0m     \u001b[38;5;28mself\u001b[39m\u001b[38;5;241m.\u001b[39m_libver \u001b[38;5;241m=\u001b[39m libver\n",
      "File \u001b[0;32m~/.conda/envs/astridenv/lib/python3.10/site-packages/h5py/_hl/files.py:235\u001b[0m, in \u001b[0;36mmake_fid\u001b[0;34m(name, mode, userblock_size, fapl, fcpl, swmr)\u001b[0m\n\u001b[1;32m    233\u001b[0m     \u001b[38;5;28;01mif\u001b[39;00m swmr \u001b[38;5;129;01mand\u001b[39;00m swmr_support:\n\u001b[1;32m    234\u001b[0m         flags \u001b[38;5;241m|\u001b[39m\u001b[38;5;241m=\u001b[39m h5f\u001b[38;5;241m.\u001b[39mACC_SWMR_READ\n\u001b[0;32m--> 235\u001b[0m     fid \u001b[38;5;241m=\u001b[39m \u001b[43mh5f\u001b[49m\u001b[38;5;241;43m.\u001b[39;49m\u001b[43mopen\u001b[49m\u001b[43m(\u001b[49m\u001b[43mname\u001b[49m\u001b[43m,\u001b[49m\u001b[43m \u001b[49m\u001b[43mflags\u001b[49m\u001b[43m,\u001b[49m\u001b[43m \u001b[49m\u001b[43mfapl\u001b[49m\u001b[38;5;241;43m=\u001b[39;49m\u001b[43mfapl\u001b[49m\u001b[43m)\u001b[49m\n\u001b[1;32m    236\u001b[0m \u001b[38;5;28;01melif\u001b[39;00m mode \u001b[38;5;241m==\u001b[39m \u001b[38;5;124m'\u001b[39m\u001b[38;5;124mr+\u001b[39m\u001b[38;5;124m'\u001b[39m:\n\u001b[1;32m    237\u001b[0m     fid \u001b[38;5;241m=\u001b[39m h5f\u001b[38;5;241m.\u001b[39mopen(name, h5f\u001b[38;5;241m.\u001b[39mACC_RDWR, fapl\u001b[38;5;241m=\u001b[39mfapl)\n",
      "File \u001b[0;32mh5py/_objects.pyx:54\u001b[0m, in \u001b[0;36mh5py._objects.with_phil.wrapper\u001b[0;34m()\u001b[0m\n",
      "File \u001b[0;32mh5py/_objects.pyx:55\u001b[0m, in \u001b[0;36mh5py._objects.with_phil.wrapper\u001b[0;34m()\u001b[0m\n",
      "File \u001b[0;32mh5py/h5f.pyx:102\u001b[0m, in \u001b[0;36mh5py.h5f.open\u001b[0;34m()\u001b[0m\n",
      "\u001b[0;31mFileNotFoundError\u001b[0m: [Errno 2] Unable to open file (unable to open file: name = '/content/drive/MyDrive/groups_090.hdf5', errno = 2, error message = 'No such file or directory', flags = 0, o_flags = 0)"
     ]
    }
   ],
   "source": [
    "catalog = '/content/drive/MyDrive/groups_090.hdf5'\n",
    "f = h5py.File(catalog, 'r')"
   ]
  },
  {
   "cell_type": "code",
   "execution_count": null,
   "metadata": {
    "id": "THXTiqZQmCO0"
   },
   "outputs": [],
   "source": [
    "M_star = f['Subhalo/SubhaloMassType'][:,4]*1e10\n",
    "pos  = f['Subhalo/SubhaloPos'][:]/1e3\n",
    "vel = f['Subhalo/SubhaloVel'][:]\n",
    "met = f['Subhalo/SubhaloStarMetallicity'][:]"
   ]
  },
  {
   "cell_type": "code",
   "execution_count": 2,
   "metadata": {
    "id": "dgJ7wxu6sLUM"
   },
   "outputs": [],
   "source": [
    "def load_and_filter_data(file, mass_threshold=2e8):\n",
    "    with h5py.File(file, 'r') as f:\n",
    "        positions = f['Subhalo/SubhaloPos'][:]/1e3  # Convert to Mpc/h\n",
    "        vel = f['Subhalo/SubhaloVel'][:]\n",
    "        metallicities = f['Subhalo/SubhaloStarMetallicity'][:]\n",
    "        masses = f['Subhalo/SubhaloMassType'][:,4]*1e10  # Stellar mass\n",
    "        omega_m = f['Header'].attrs['Omega0']\n",
    "\n",
    "    # Filter galaxies based on the stellar mass threshold\n",
    "    mask = masses > mass_threshold\n",
    "    positions = positions[mask]\n",
    "    vel = vel[mask]\n",
    "    metallicities = metallicities[mask]\n",
    "    masses = masses[mask]\n",
    "\n",
    "    return positions, vel, metallicities, masses, omega_m"
   ]
  },
  {
   "cell_type": "code",
   "execution_count": 3,
   "metadata": {
    "id": "--oaAn3kDLtU"
   },
   "outputs": [],
   "source": [
    "def apply_periodic_boundary_conditions(positions, box_size):\n",
    "    # Wrap positions to the box size\n",
    "    positions = positions % box_size\n",
    "    return positions"
   ]
  },
  {
   "cell_type": "code",
   "execution_count": 4,
   "metadata": {
    "id": "B7VnGquYDPRe"
   },
   "outputs": [],
   "source": [
    "def minimum_image_distance(pos1, pos2, box_size):\n",
    "    # Calculate the minimum image distance between two points\n",
    "    delta = np.abs(pos1 - pos2)\n",
    "    delta = np.where(delta > 0.5 * box_size, box_size - delta, delta)\n",
    "    return np.sqrt((delta ** 2).sum(axis=-1))"
   ]
  },
  {
   "cell_type": "code",
   "execution_count": 5,
   "metadata": {
    "id": "lKOyScsvstrg"
   },
   "outputs": [],
   "source": [
    "from scipy.spatial import KDTree\n",
    "\n",
    "def distance(point1, point2):\n",
    "    return np.linalg.norm(point1 - point2)\n",
    "\n",
    "def create_edges_knn(points, k=6):\n",
    "    edges = []\n",
    "    edge_value = []\n",
    "\n",
    "    # Create a KDTree for efficient nearest neighbor search\n",
    "    point_tree = KDTree(points)\n",
    "\n",
    "    for i in range(len(points)):\n",
    "        # Query the k nearest neighbors for each point\n",
    "        _, neighbors = point_tree.query(points[i], k=k+1)\n",
    "\n",
    "        for j in neighbors[1:]:  # Skip the first neighbor because it's the point itself\n",
    "            # Add an edge between the point and its neighbor\n",
    "            edges.append([i, j])\n",
    "\n",
    "            # Compute the distance between the points as the edge value\n",
    "            edge_value.append(distance(points[i], points[j]))\n",
    "\n",
    "    return [edges, edge_value]"
   ]
  },
  {
   "cell_type": "code",
   "execution_count": 6,
   "metadata": {
    "id": "ztRfbIqROn7N"
   },
   "outputs": [],
   "source": [
    "from tqdm import tqdm\n",
    "def min_distance(positions, box_size = 25):\n",
    "    min_distance = np.inf\n",
    "    max_distance = 0\n",
    "\n",
    "    # Iterate over all pairs of galaxies\n",
    "    for i in range(len(positions)):\n",
    "        for j in range(i + 1, len(positions)):\n",
    "            dist = minimum_image_distance(positions[i], positions[j], box_size)\n",
    "            if dist < min_distance:\n",
    "                min_distance = dist\n",
    "            if dist > max_distance:\n",
    "                max_distance = dist\n",
    "\n",
    "    # Print the results\n",
    "    print(f\"Minimum distance: {min_distance} Mpc/h\")\n",
    "    print(f\"Maximum distance: {max_distance} Mpc/h\")"
   ]
  },
  {
   "cell_type": "code",
   "execution_count": 7,
   "metadata": {
    "id": "l40oy2_KRiWJ"
   },
   "outputs": [],
   "source": [
    "def minimum_image_distance_vectorized(positions, box_size = 25):\n",
    "    num_galaxies = positions.shape[0]\n",
    "\n",
    "    # Compute pairwise differences in each dimension\n",
    "    diff = positions[:, np.newaxis, :] - positions[np.newaxis, :, :]\n",
    "\n",
    "    # Apply periodic boundary conditions\n",
    "    diff = np.abs(diff)\n",
    "    diff = np.where(diff > 0.5 * box_size, box_size - diff, diff)\n",
    "\n",
    "    # Compute the Euclidean distance\n",
    "    dist = np.sqrt(np.sum(diff ** 2, axis=-1))\n",
    "\n",
    "    return dist"
   ]
  },
  {
   "cell_type": "code",
   "execution_count": 8,
   "metadata": {
    "id": "zPQB3MDzDcid"
   },
   "outputs": [],
   "source": [
    "from tqdm import tqdm\n",
    "from scipy.spatial import cKDTree\n",
    "def create_edges_knn_pbc(points, box_size = 25, k=6):\n",
    "    tree = KDTree(points, boxsize=box_size)\n",
    "\n",
    "    edges = []\n",
    "    edge_values = []\n",
    "    '''\n",
    "    distances = minimum_image_distance_vectorized(points, box_size)\n",
    "    # Mask the diagonal (self-distances which are zero)\n",
    "    np.fill_diagonal(distances, np.inf)\n",
    "    # Get the minimum and maximum distances\n",
    "    min_distance = np.min(distances)\n",
    "    max_distance = np.max(np.triu(distances, k=1))\n",
    "    print(min_distance, max_distance)\n",
    "    '''\n",
    "\n",
    "    min_distance = np.inf\n",
    "    max_distance = 0\n",
    "    large_distance_count = 0\n",
    "\n",
    "    for i in range(len(points)):\n",
    "        distances, neighbors = tree.query(points[i], k=k+1)\n",
    "        for j, tree_dist in zip(neighbors[1:], distances[1:]):\n",
    "            if j != i and j < len(points):\n",
    "                actual_distance = minimum_image_distance(points[i], points[j], box_size)\n",
    "                edges.append([i, j])\n",
    "                edge_values.append(actual_distance)\n",
    "                min_distance = min(min_distance, actual_distance)\n",
    "                max_distance = max(max_distance, actual_distance)\n",
    "    return np.array(edges), np.array(edge_values)\n"
   ]
  },
  {
   "cell_type": "code",
   "execution_count": 9,
   "metadata": {
    "id": "m5XiGu3wtkRA"
   },
   "outputs": [],
   "source": [
    "def create_points(positions, masses, vel, met):\n",
    "    point_features = []\n",
    "    for i, pos in enumerate(positions):\n",
    "        #point_features.append(list(pos) + list(vel[i]) + [masses[i]] + [met[i]])\n",
    "        point_features.append(list(pos) + [masses[i]] + [met[i]])\n",
    "    return point_features"
   ]
  },
  {
   "cell_type": "code",
   "execution_count": 10,
   "metadata": {
    "id": "3CE9AtwhuAKs"
   },
   "outputs": [],
   "source": [
    "from torch_geometric.data import Data\n",
    "import torch\n",
    "def create_graph(file_path, k_val=6):\n",
    "    positions, velocity, metallicities, masses, omega_m = load_and_filter_data(file_path)\n",
    "    edges, edge_values = create_edges_knn_pbc(positions, 25, k_val)\n",
    "    point_values = create_points(positions, masses, velocity, metallicities)\n",
    "\n",
    "    edge_index = torch.tensor(edges, dtype=torch.long).t().contiguous()\n",
    "    point_values = torch.tensor(point_values, dtype=torch.float)\n",
    "    edge_value = torch.tensor(edge_values, dtype=torch.float)\n",
    "\n",
    "    return [point_values, edge_index, edge_value, omega_m]"
   ]
  },
  {
   "cell_type": "code",
   "execution_count": 11,
   "metadata": {
    "id": "mhxwN1mIub7M"
   },
   "outputs": [],
   "source": [
    "def turn_data(graph):\n",
    "    graph_data = Data(x=graph[0], edge_index=graph[1], edge_attr=graph[2], y = graph[3])\n",
    "    return graph_data"
   ]
  },
  {
   "cell_type": "code",
   "execution_count": 12,
   "metadata": {
    "id": "_PXmi7cFLFqy"
   },
   "outputs": [],
   "source": [
    "def create_data(file_path, k_val=6):\n",
    "    graph = create_graph(file_path, k_val)\n",
    "    return turn_data(graph)"
   ]
  },
  {
   "cell_type": "code",
   "execution_count": 14,
   "metadata": {
    "colab": {
     "base_uri": "https://localhost:8080/"
    },
    "id": "LLywIItfwd0D",
    "outputId": "dd6d8298-ff3b-4420-ed46-1ba990f8a354"
   },
   "outputs": [
    {
     "ename": "FileNotFoundError",
     "evalue": "[Errno 2] Unable to open file (unable to open file: name = '/content/drive/MyDrive/groups_090.hdf5', errno = 2, error message = 'No such file or directory', flags = 0, o_flags = 0)",
     "output_type": "error",
     "traceback": [
      "\u001b[0;31m---------------------------------------------------------------------------\u001b[0m",
      "\u001b[0;31mFileNotFoundError\u001b[0m                         Traceback (most recent call last)",
      "Cell \u001b[0;32mIn[14], line 1\u001b[0m\n\u001b[0;32m----> 1\u001b[0m \u001b[43mcreate_data\u001b[49m\u001b[43m(\u001b[49m\u001b[38;5;124;43m'\u001b[39;49m\u001b[38;5;124;43m/content/drive/MyDrive/groups_090.hdf5\u001b[39;49m\u001b[38;5;124;43m'\u001b[39;49m\u001b[43m,\u001b[49m\u001b[43m \u001b[49m\u001b[38;5;241;43m6\u001b[39;49m\u001b[43m)\u001b[49m\n",
      "Cell \u001b[0;32mIn[13], line 2\u001b[0m, in \u001b[0;36mcreate_data\u001b[0;34m(file_path, k_val)\u001b[0m\n\u001b[1;32m      1\u001b[0m \u001b[38;5;28;01mdef\u001b[39;00m \u001b[38;5;21mcreate_data\u001b[39m(file_path, k_val\u001b[38;5;241m=\u001b[39m\u001b[38;5;241m6\u001b[39m):\n\u001b[0;32m----> 2\u001b[0m     graph \u001b[38;5;241m=\u001b[39m \u001b[43mcreate_graph\u001b[49m\u001b[43m(\u001b[49m\u001b[43mfile_path\u001b[49m\u001b[43m,\u001b[49m\u001b[43m \u001b[49m\u001b[43mk_val\u001b[49m\u001b[43m)\u001b[49m\n\u001b[1;32m      3\u001b[0m     \u001b[38;5;28;01mreturn\u001b[39;00m turn_data(graph)\n",
      "Cell \u001b[0;32mIn[11], line 4\u001b[0m, in \u001b[0;36mcreate_graph\u001b[0;34m(file_path, k_val)\u001b[0m\n\u001b[1;32m      3\u001b[0m \u001b[38;5;28;01mdef\u001b[39;00m \u001b[38;5;21mcreate_graph\u001b[39m(file_path, k_val\u001b[38;5;241m=\u001b[39m\u001b[38;5;241m6\u001b[39m):\n\u001b[0;32m----> 4\u001b[0m     positions, velocity, metallicities, masses, omega_m \u001b[38;5;241m=\u001b[39m \u001b[43mload_and_filter_data\u001b[49m\u001b[43m(\u001b[49m\u001b[43mfile_path\u001b[49m\u001b[43m)\u001b[49m\n\u001b[1;32m      5\u001b[0m     edges, edge_values \u001b[38;5;241m=\u001b[39m create_edges_knn_pbc(positions, \u001b[38;5;241m25\u001b[39m, k_val)\n\u001b[1;32m      6\u001b[0m     point_values \u001b[38;5;241m=\u001b[39m create_points(positions, masses, velocity, metallicities)\n",
      "Cell \u001b[0;32mIn[3], line 2\u001b[0m, in \u001b[0;36mload_and_filter_data\u001b[0;34m(file, mass_threshold)\u001b[0m\n\u001b[1;32m      1\u001b[0m \u001b[38;5;28;01mdef\u001b[39;00m \u001b[38;5;21mload_and_filter_data\u001b[39m(file, mass_threshold\u001b[38;5;241m=\u001b[39m\u001b[38;5;241m2e8\u001b[39m):\n\u001b[0;32m----> 2\u001b[0m     \u001b[38;5;28;01mwith\u001b[39;00m \u001b[43mh5py\u001b[49m\u001b[38;5;241;43m.\u001b[39;49m\u001b[43mFile\u001b[49m\u001b[43m(\u001b[49m\u001b[43mfile\u001b[49m\u001b[43m,\u001b[49m\u001b[43m \u001b[49m\u001b[38;5;124;43m'\u001b[39;49m\u001b[38;5;124;43mr\u001b[39;49m\u001b[38;5;124;43m'\u001b[39;49m\u001b[43m)\u001b[49m \u001b[38;5;28;01mas\u001b[39;00m f:\n\u001b[1;32m      3\u001b[0m         positions \u001b[38;5;241m=\u001b[39m f[\u001b[38;5;124m'\u001b[39m\u001b[38;5;124mSubhalo/SubhaloPos\u001b[39m\u001b[38;5;124m'\u001b[39m][:]\u001b[38;5;241m/\u001b[39m\u001b[38;5;241m1e3\u001b[39m  \u001b[38;5;66;03m# Convert to Mpc/h\u001b[39;00m\n\u001b[1;32m      4\u001b[0m         vel \u001b[38;5;241m=\u001b[39m f[\u001b[38;5;124m'\u001b[39m\u001b[38;5;124mSubhalo/SubhaloVel\u001b[39m\u001b[38;5;124m'\u001b[39m][:]\n",
      "File \u001b[0;32m~/.conda/envs/astridenv/lib/python3.10/site-packages/h5py/_hl/files.py:562\u001b[0m, in \u001b[0;36mFile.__init__\u001b[0;34m(self, name, mode, driver, libver, userblock_size, swmr, rdcc_nslots, rdcc_nbytes, rdcc_w0, track_order, fs_strategy, fs_persist, fs_threshold, fs_page_size, page_buf_size, min_meta_keep, min_raw_keep, locking, alignment_threshold, alignment_interval, meta_block_size, **kwds)\u001b[0m\n\u001b[1;32m    553\u001b[0m     fapl \u001b[38;5;241m=\u001b[39m make_fapl(driver, libver, rdcc_nslots, rdcc_nbytes, rdcc_w0,\n\u001b[1;32m    554\u001b[0m                      locking, page_buf_size, min_meta_keep, min_raw_keep,\n\u001b[1;32m    555\u001b[0m                      alignment_threshold\u001b[38;5;241m=\u001b[39malignment_threshold,\n\u001b[1;32m    556\u001b[0m                      alignment_interval\u001b[38;5;241m=\u001b[39malignment_interval,\n\u001b[1;32m    557\u001b[0m                      meta_block_size\u001b[38;5;241m=\u001b[39mmeta_block_size,\n\u001b[1;32m    558\u001b[0m                      \u001b[38;5;241m*\u001b[39m\u001b[38;5;241m*\u001b[39mkwds)\n\u001b[1;32m    559\u001b[0m     fcpl \u001b[38;5;241m=\u001b[39m make_fcpl(track_order\u001b[38;5;241m=\u001b[39mtrack_order, fs_strategy\u001b[38;5;241m=\u001b[39mfs_strategy,\n\u001b[1;32m    560\u001b[0m                      fs_persist\u001b[38;5;241m=\u001b[39mfs_persist, fs_threshold\u001b[38;5;241m=\u001b[39mfs_threshold,\n\u001b[1;32m    561\u001b[0m                      fs_page_size\u001b[38;5;241m=\u001b[39mfs_page_size)\n\u001b[0;32m--> 562\u001b[0m     fid \u001b[38;5;241m=\u001b[39m \u001b[43mmake_fid\u001b[49m\u001b[43m(\u001b[49m\u001b[43mname\u001b[49m\u001b[43m,\u001b[49m\u001b[43m \u001b[49m\u001b[43mmode\u001b[49m\u001b[43m,\u001b[49m\u001b[43m \u001b[49m\u001b[43muserblock_size\u001b[49m\u001b[43m,\u001b[49m\u001b[43m \u001b[49m\u001b[43mfapl\u001b[49m\u001b[43m,\u001b[49m\u001b[43m \u001b[49m\u001b[43mfcpl\u001b[49m\u001b[43m,\u001b[49m\u001b[43m \u001b[49m\u001b[43mswmr\u001b[49m\u001b[38;5;241;43m=\u001b[39;49m\u001b[43mswmr\u001b[49m\u001b[43m)\u001b[49m\n\u001b[1;32m    564\u001b[0m \u001b[38;5;28;01mif\u001b[39;00m \u001b[38;5;28misinstance\u001b[39m(libver, \u001b[38;5;28mtuple\u001b[39m):\n\u001b[1;32m    565\u001b[0m     \u001b[38;5;28mself\u001b[39m\u001b[38;5;241m.\u001b[39m_libver \u001b[38;5;241m=\u001b[39m libver\n",
      "File \u001b[0;32m~/.conda/envs/astridenv/lib/python3.10/site-packages/h5py/_hl/files.py:235\u001b[0m, in \u001b[0;36mmake_fid\u001b[0;34m(name, mode, userblock_size, fapl, fcpl, swmr)\u001b[0m\n\u001b[1;32m    233\u001b[0m     \u001b[38;5;28;01mif\u001b[39;00m swmr \u001b[38;5;129;01mand\u001b[39;00m swmr_support:\n\u001b[1;32m    234\u001b[0m         flags \u001b[38;5;241m|\u001b[39m\u001b[38;5;241m=\u001b[39m h5f\u001b[38;5;241m.\u001b[39mACC_SWMR_READ\n\u001b[0;32m--> 235\u001b[0m     fid \u001b[38;5;241m=\u001b[39m \u001b[43mh5f\u001b[49m\u001b[38;5;241;43m.\u001b[39;49m\u001b[43mopen\u001b[49m\u001b[43m(\u001b[49m\u001b[43mname\u001b[49m\u001b[43m,\u001b[49m\u001b[43m \u001b[49m\u001b[43mflags\u001b[49m\u001b[43m,\u001b[49m\u001b[43m \u001b[49m\u001b[43mfapl\u001b[49m\u001b[38;5;241;43m=\u001b[39;49m\u001b[43mfapl\u001b[49m\u001b[43m)\u001b[49m\n\u001b[1;32m    236\u001b[0m \u001b[38;5;28;01melif\u001b[39;00m mode \u001b[38;5;241m==\u001b[39m \u001b[38;5;124m'\u001b[39m\u001b[38;5;124mr+\u001b[39m\u001b[38;5;124m'\u001b[39m:\n\u001b[1;32m    237\u001b[0m     fid \u001b[38;5;241m=\u001b[39m h5f\u001b[38;5;241m.\u001b[39mopen(name, h5f\u001b[38;5;241m.\u001b[39mACC_RDWR, fapl\u001b[38;5;241m=\u001b[39mfapl)\n",
      "File \u001b[0;32mh5py/_objects.pyx:54\u001b[0m, in \u001b[0;36mh5py._objects.with_phil.wrapper\u001b[0;34m()\u001b[0m\n",
      "File \u001b[0;32mh5py/_objects.pyx:55\u001b[0m, in \u001b[0;36mh5py._objects.with_phil.wrapper\u001b[0;34m()\u001b[0m\n",
      "File \u001b[0;32mh5py/h5f.pyx:102\u001b[0m, in \u001b[0;36mh5py.h5f.open\u001b[0;34m()\u001b[0m\n",
      "\u001b[0;31mFileNotFoundError\u001b[0m: [Errno 2] Unable to open file (unable to open file: name = '/content/drive/MyDrive/groups_090.hdf5', errno = 2, error message = 'No such file or directory', flags = 0, o_flags = 0)"
     ]
    }
   ],
   "source": [
    "create_data('/content/drive/MyDrive/groups_090.hdf5', 6)"
   ]
  },
  {
   "cell_type": "code",
   "execution_count": 13,
   "metadata": {
    "id": "V9zLYGSy_cz4"
   },
   "outputs": [],
   "source": [
    "def calculate_normalization_params(data_list):\n",
    "    # Concatenate all node features and edge attributes\n",
    "    all_x = torch.cat([data.x for data in data_list], dim=0)\n",
    "    all_edge_attr = torch.cat([data.edge_attr for data in data_list], dim=0)\n",
    "\n",
    "    # Calculate mean and std for node features and edge attributes\n",
    "    x_mean, x_std = all_x.mean(dim=0), all_x.std(dim=0)\n",
    "    edge_attr_mean, edge_attr_std = all_edge_attr.mean(dim=0), all_edge_attr.std(dim=0)\n",
    "\n",
    "    return (x_mean, x_std), (edge_attr_mean, edge_attr_std)\n",
    "\n",
    "def normalize_dataset(data_list, x_params, edge_attr_params):\n",
    "    x_mean, x_std = x_params\n",
    "    edge_attr_mean, edge_attr_std = edge_attr_params\n",
    "\n",
    "    normalized_data_list = []\n",
    "    for data in data_list:\n",
    "        normalized_x = (data.x - x_mean) / (x_std + 1e-8)\n",
    "        normalized_edge_attr = (data.edge_attr - edge_attr_mean) / (edge_attr_std + 1e-8)\n",
    "\n",
    "        # Create a new Data object with normalized features and original y value\n",
    "        normalized_data = Data(x=normalized_x,\n",
    "                               edge_index=data.edge_index,\n",
    "                               edge_attr=normalized_edge_attr,\n",
    "                               y=data.y)  # Preserve the original y value\n",
    "\n",
    "        normalized_data_list.append(normalized_data)\n",
    "\n",
    "    return normalized_data_list"
   ]
  },
  {
   "cell_type": "code",
   "execution_count": 14,
   "metadata": {
    "id": "qoAJQ_raMZ3c"
   },
   "outputs": [
    {
     "name": "stderr",
     "output_type": "stream",
     "text": [
      "100%|██████████| 1000/1000 [03:19<00:00,  5.01it/s]\n",
      "/home/hk4638/.conda/envs/astridenv/lib/python3.10/site-packages/torch_geometric/deprecation.py:26: UserWarning: 'data.DataLoader' is deprecated, use 'loader.DataLoader' instead\n",
      "  warnings.warn(out)\n"
     ]
    }
   ],
   "source": [
    "import torch\n",
    "import os\n",
    "from torch.utils.data import random_split\n",
    "from torch_geometric.data import DataLoader\n",
    "import h5py\n",
    "directory = '/scratch/gpfs/hk4638/FinalData/NewData'\n",
    "def load_all_graphs(directory, k_val=10, box_size=25):\n",
    "    file_list = os.listdir(directory)\n",
    "    data_list = []\n",
    "    for file_name in tqdm(file_list):\n",
    "        file_path = os.path.join(directory, file_name)\n",
    "        graph_data = create_data(file_path, k_val)\n",
    "        data_list.append(graph_data)\n",
    "    return data_list\n",
    "\n",
    "# Load all graphs\n",
    "data_list = load_all_graphs(directory)\n",
    "\n",
    "# Calculate normalization parameters based on all graphs\n",
    "x_params, edge_attr_params = calculate_normalization_params(data_list)\n",
    "\n",
    "# Normalize the dataset using the calculated parameters\n",
    "normalized_data_list = normalize_dataset(data_list, x_params, edge_attr_params)\n",
    "\n",
    "import torch\n",
    "import numpy as np\n",
    "\n",
    "def numpy_to_torch_float(data):\n",
    "    if isinstance(data, np.ndarray):\n",
    "        return torch.from_numpy(data).float()\n",
    "    elif isinstance(data, (np.float64, np.float32)):\n",
    "        return torch.tensor(data, dtype=torch.float32)\n",
    "    elif isinstance(data, torch.Tensor):\n",
    "        return data.float()\n",
    "    else:\n",
    "        return data\n",
    "        \n",
    "def ensure_torch_float32(data):\n",
    "    data.x = numpy_to_torch_float(data.x)\n",
    "    data.edge_attr = numpy_to_torch_float(data.edge_attr)\n",
    "    if hasattr(data, 'y'):\n",
    "        data.y = numpy_to_torch_float(data.y)\n",
    "    return data\n",
    "    \n",
    "normalized_data_list = [ensure_torch_float32(data) for data in normalized_data_list]\n",
    "\n",
    "# Calculate the lengths for the 70-15-15 split\n",
    "total_len = len(normalized_data_list)\n",
    "train_len = int(0.7 * total_len)\n",
    "val_len = int(0.15 * total_len)\n",
    "test_len = total_len - train_len - val_len  # Ensures all data is used\n",
    "\n",
    "# Perform the split\n",
    "train_data, val_data, test_data = random_split(normalized_data_list, [train_len, val_len, test_len])\n",
    "\n",
    "# Create DataLoaders for each split\n",
    "batch_size = 32\n",
    "train_loader = DataLoader(train_data, batch_size=batch_size, shuffle=True)\n",
    "val_loader = DataLoader(val_data, batch_size=batch_size, shuffle=False)\n",
    "test_loader = DataLoader(test_data, batch_size=batch_size, shuffle=False)"
   ]
  },
  {
   "cell_type": "markdown",
   "metadata": {
    "id": "eD3eA9nTAAch"
   },
   "source": [
    "# Training Model"
   ]
  },
  {
   "cell_type": "code",
   "execution_count": 15,
   "metadata": {
    "id": "mksges42ACLq"
   },
   "outputs": [],
   "source": [
    "import torch\n",
    "import torch.nn as nn\n",
    "import torch.nn.functional as F\n",
    "from torch_geometric.nn import GATConv, global_mean_pool\n",
    "\n",
    "class ComplexGAT(torch.nn.Module):\n",
    "    def __init__(self, in_channels, hidden_channels, num_layers=4, heads=4, dropout_rate=0.1):\n",
    "        super(ComplexGAT, self).__init__()\n",
    "        self.dropout_rate = dropout_rate\n",
    "\n",
    "        self.conv1 = GATConv(in_channels, hidden_channels, heads=heads, concat=True, edge_dim=1)\n",
    "\n",
    "        self.convs = nn.ModuleList([\n",
    "            GATConv(hidden_channels * heads, hidden_channels, heads=heads, concat=True, edge_dim=1)\n",
    "            for _ in range(num_layers - 2)\n",
    "        ])\n",
    "\n",
    "        self.conv_last = GATConv(hidden_channels * heads, hidden_channels, heads=1, concat=False, edge_dim=1)\n",
    "\n",
    "        self.fc1 = nn.Linear(hidden_channels, hidden_channels)\n",
    "        self.fc2 = nn.Linear(hidden_channels, 1)  # Output a single value for omega_m\n",
    "\n",
    "    def forward(self, data):\n",
    "        x, edge_index, edge_attr, batch = data.x, data.edge_index, data.edge_attr, data.batch\n",
    "\n",
    "        x = F.relu(self.conv1(x, edge_index, edge_attr=edge_attr))\n",
    "        x = F.dropout(x, p=self.dropout_rate, training=self.training)\n",
    "\n",
    "        for conv in self.convs:\n",
    "            x = F.relu(conv(x, edge_index, edge_attr=edge_attr))\n",
    "            x = F.dropout(x, p=self.dropout_rate, training=self.training)\n",
    "\n",
    "        x = self.conv_last(x, edge_index, edge_attr=edge_attr)\n",
    "\n",
    "        x = global_mean_pool(x, batch)\n",
    "        x = F.relu(self.fc1(x))\n",
    "        x = self.fc2(x)\n",
    "\n",
    "        return x.squeeze()"
   ]
  },
  {
   "cell_type": "code",
   "execution_count": 16,
   "metadata": {
    "id": "_5UGNXhNAggG"
   },
   "outputs": [],
   "source": [
    "def train_model(model, train_loader, val_loader, device, num_epochs=100, lr=0.001, load_best_model=False):\n",
    "    model = model.to(device)\n",
    "    \n",
    "    if load_best_model:\n",
    "        try:\n",
    "            model.load_state_dict(torch.load('/home/hk4638/ondemand/data/sys/AstridLH/best_model.pth'))\n",
    "            print(\"Loaded model from best_model.pth\")\n",
    "        except FileNotFoundError:\n",
    "            print(\"best_model.pth not found. Starting with a new model.\")\n",
    "    \n",
    "    optimizer = optim.Adam(model.parameters(), lr=lr)\n",
    "    criterion = nn.MSELoss()\n",
    "    best_val_loss = float('inf')\n",
    "    best_model = None\n",
    "    \n",
    "    train_losses = []\n",
    "    val_losses = []\n",
    "    val_mses = []\n",
    "    val_r2s = []\n",
    "    \n",
    "    try:\n",
    "        for epoch in range(num_epochs):\n",
    "            model.train()\n",
    "            train_loss = 0\n",
    "            epoch_pbar = tqdm(train_loader, desc=f\"Epoch {epoch+1}/{num_epochs}\")\n",
    "            for data in epoch_pbar:\n",
    "                data = data.to(device)\n",
    "                optimizer.zero_grad()\n",
    "                out = model(data)\n",
    "                loss = criterion(out, data.y)\n",
    "                loss.backward()\n",
    "                optimizer.step()\n",
    "                train_loss += loss.item()\n",
    "                epoch_pbar.set_postfix({'Train Loss': f'{loss.item():.4f}'})\n",
    "            \n",
    "            model.eval()\n",
    "            val_loss = 0\n",
    "            val_predictions = []\n",
    "            val_true = []\n",
    "            with torch.no_grad():\n",
    "                for data in val_loader:\n",
    "                    data = data.to(device)\n",
    "                    out = model(data)\n",
    "                    val_loss += criterion(out, data.y).item()\n",
    "                    val_predictions.extend(out.cpu().numpy())\n",
    "                    val_true.extend(data.y.cpu().numpy())\n",
    "            \n",
    "            train_loss /= len(train_loader)\n",
    "            val_loss /= len(val_loader)\n",
    "            val_mse = mean_squared_error(val_true, val_predictions)\n",
    "            val_r2 = r2_score(val_true, val_predictions)\n",
    "            \n",
    "            train_losses.append(train_loss)\n",
    "            val_losses.append(val_loss)\n",
    "            val_mses.append(val_mse)\n",
    "            val_r2s.append(val_r2)\n",
    "            \n",
    "            print(f'Epoch {epoch+1}/{num_epochs}:')\n",
    "            print(f'  Train Loss: {train_loss:.4f}')\n",
    "            print(f'  Val Loss: {val_loss:.4f}')\n",
    "            print(f'  Val MSE: {val_mse:.4f}')\n",
    "            print(f'  Val R2: {val_r2:.4f}')\n",
    "            \n",
    "            # Save the model after each epoch\n",
    "            torch.save(model.state_dict(), f'model_epoch_{epoch+1}.pth')\n",
    "            print(f'  Model saved as model_epoch_{epoch+1}.pth')\n",
    "            \n",
    "            if val_loss < best_val_loss:\n",
    "                best_val_loss = val_loss\n",
    "                best_model = model.state_dict()\n",
    "                torch.save(best_model, 'best_model.pth')\n",
    "                print('  New best model saved as best_model.pth!')\n",
    "            \n",
    "            print()  # Add an empty line for better readability between epochs\n",
    "    \n",
    "    except KeyboardInterrupt:\n",
    "        print(\"\\nTraining interrupted. Saving current model state...\")\n",
    "        torch.save(model.state_dict(), 'interrupted_model.pth')\n",
    "        print(\"Model saved as interrupted_model.pth\")\n",
    "        if best_model is not None:\n",
    "            model.load_state_dict(best_model)\n",
    "        return model, train_losses, val_losses, val_mses, val_r2s\n",
    "    \n",
    "    # Load the best model if training completed without interruption\n",
    "    if best_model is not None:\n",
    "        model.load_state_dict(best_model)\n",
    "    \n",
    "    return model, train_losses, val_losses, val_mses, val_r2s"
   ]
  },
  {
   "cell_type": "code",
   "execution_count": null,
   "metadata": {
    "id": "5mxL3nt4Avrt"
   },
   "outputs": [
    {
     "name": "stdout",
     "output_type": "stream",
     "text": [
      "Loaded model from best_model.pth\n"
     ]
    },
    {
     "name": "stderr",
     "output_type": "stream",
     "text": [
      "Epoch 1/200: 100%|██████████| 22/22 [01:02<00:00,  2.85s/it, Train Loss=0.0059]\n"
     ]
    },
    {
     "name": "stdout",
     "output_type": "stream",
     "text": [
      "Epoch 1/200:\n",
      "  Train Loss: 0.0051\n",
      "  Val Loss: 0.0058\n",
      "  Val MSE: 0.0058\n",
      "  Val R2: 0.5759\n",
      "  Model saved as model_epoch_1.pth\n",
      "  New best model saved as best_model.pth!\n",
      "\n"
     ]
    },
    {
     "name": "stderr",
     "output_type": "stream",
     "text": [
      "Epoch 2/200: 100%|██████████| 22/22 [01:02<00:00,  2.85s/it, Train Loss=0.0038]\n"
     ]
    },
    {
     "name": "stdout",
     "output_type": "stream",
     "text": [
      "Epoch 2/200:\n",
      "  Train Loss: 0.0048\n",
      "  Val Loss: 0.0054\n",
      "  Val MSE: 0.0053\n",
      "  Val R2: 0.6092\n",
      "  Model saved as model_epoch_2.pth\n",
      "  New best model saved as best_model.pth!\n",
      "\n"
     ]
    },
    {
     "name": "stderr",
     "output_type": "stream",
     "text": [
      "Epoch 3/200: 100%|██████████| 22/22 [01:02<00:00,  2.85s/it, Train Loss=0.0062]\n"
     ]
    },
    {
     "name": "stdout",
     "output_type": "stream",
     "text": [
      "Epoch 3/200:\n",
      "  Train Loss: 0.0050\n",
      "  Val Loss: 0.0061\n",
      "  Val MSE: 0.0060\n",
      "  Val R2: 0.5556\n",
      "  Model saved as model_epoch_3.pth\n",
      "\n"
     ]
    },
    {
     "name": "stderr",
     "output_type": "stream",
     "text": [
      "Epoch 4/200: 100%|██████████| 22/22 [01:02<00:00,  2.85s/it, Train Loss=0.0057]\n"
     ]
    },
    {
     "name": "stdout",
     "output_type": "stream",
     "text": [
      "Epoch 4/200:\n",
      "  Train Loss: 0.0047\n",
      "  Val Loss: 0.0063\n",
      "  Val MSE: 0.0062\n",
      "  Val R2: 0.5441\n",
      "  Model saved as model_epoch_4.pth\n",
      "\n"
     ]
    },
    {
     "name": "stderr",
     "output_type": "stream",
     "text": [
      "Epoch 5/200: 100%|██████████| 22/22 [01:02<00:00,  2.86s/it, Train Loss=0.0074]\n"
     ]
    },
    {
     "name": "stdout",
     "output_type": "stream",
     "text": [
      "Epoch 5/200:\n",
      "  Train Loss: 0.0049\n",
      "  Val Loss: 0.0056\n",
      "  Val MSE: 0.0055\n",
      "  Val R2: 0.5920\n",
      "  Model saved as model_epoch_5.pth\n",
      "\n"
     ]
    },
    {
     "name": "stderr",
     "output_type": "stream",
     "text": [
      "Epoch 6/200: 100%|██████████| 22/22 [01:02<00:00,  2.85s/it, Train Loss=0.0028]\n"
     ]
    },
    {
     "name": "stdout",
     "output_type": "stream",
     "text": [
      "Epoch 6/200:\n",
      "  Train Loss: 0.0044\n",
      "  Val Loss: 0.0062\n",
      "  Val MSE: 0.0061\n",
      "  Val R2: 0.5517\n",
      "  Model saved as model_epoch_6.pth\n",
      "\n"
     ]
    },
    {
     "name": "stderr",
     "output_type": "stream",
     "text": [
      "Epoch 7/200: 100%|██████████| 22/22 [01:02<00:00,  2.84s/it, Train Loss=0.0066]\n"
     ]
    },
    {
     "name": "stdout",
     "output_type": "stream",
     "text": [
      "Epoch 7/200:\n",
      "  Train Loss: 0.0046\n",
      "  Val Loss: 0.0071\n",
      "  Val MSE: 0.0071\n",
      "  Val R2: 0.4803\n",
      "  Model saved as model_epoch_7.pth\n",
      "\n"
     ]
    },
    {
     "name": "stderr",
     "output_type": "stream",
     "text": [
      "Epoch 8/200: 100%|██████████| 22/22 [01:02<00:00,  2.84s/it, Train Loss=0.0068]\n"
     ]
    },
    {
     "name": "stdout",
     "output_type": "stream",
     "text": [
      "Epoch 8/200:\n",
      "  Train Loss: 0.0047\n",
      "  Val Loss: 0.0055\n",
      "  Val MSE: 0.0054\n",
      "  Val R2: 0.6003\n",
      "  Model saved as model_epoch_8.pth\n",
      "\n"
     ]
    },
    {
     "name": "stderr",
     "output_type": "stream",
     "text": [
      "Epoch 9/200: 100%|██████████| 22/22 [01:02<00:00,  2.84s/it, Train Loss=0.0066]\n"
     ]
    },
    {
     "name": "stdout",
     "output_type": "stream",
     "text": [
      "Epoch 9/200:\n",
      "  Train Loss: 0.0047\n",
      "  Val Loss: 0.0071\n",
      "  Val MSE: 0.0070\n",
      "  Val R2: 0.4815\n",
      "  Model saved as model_epoch_9.pth\n",
      "\n"
     ]
    },
    {
     "name": "stderr",
     "output_type": "stream",
     "text": [
      "Epoch 10/200: 100%|██████████| 22/22 [01:02<00:00,  2.85s/it, Train Loss=0.0060]\n"
     ]
    },
    {
     "name": "stdout",
     "output_type": "stream",
     "text": [
      "Epoch 10/200:\n",
      "  Train Loss: 0.0046\n",
      "  Val Loss: 0.0059\n",
      "  Val MSE: 0.0058\n",
      "  Val R2: 0.5753\n",
      "  Model saved as model_epoch_10.pth\n",
      "\n"
     ]
    },
    {
     "name": "stderr",
     "output_type": "stream",
     "text": [
      "Epoch 11/200: 100%|██████████| 22/22 [01:02<00:00,  2.85s/it, Train Loss=0.0046]\n"
     ]
    },
    {
     "name": "stdout",
     "output_type": "stream",
     "text": [
      "Epoch 11/200:\n",
      "  Train Loss: 0.0044\n",
      "  Val Loss: 0.0060\n",
      "  Val MSE: 0.0059\n",
      "  Val R2: 0.5643\n",
      "  Model saved as model_epoch_11.pth\n",
      "\n"
     ]
    },
    {
     "name": "stderr",
     "output_type": "stream",
     "text": [
      "Epoch 12/200: 100%|██████████| 22/22 [01:02<00:00,  2.85s/it, Train Loss=0.0047]\n"
     ]
    },
    {
     "name": "stdout",
     "output_type": "stream",
     "text": [
      "Epoch 12/200:\n",
      "  Train Loss: 0.0045\n",
      "  Val Loss: 0.0067\n",
      "  Val MSE: 0.0066\n",
      "  Val R2: 0.5108\n",
      "  Model saved as model_epoch_12.pth\n",
      "\n"
     ]
    },
    {
     "name": "stderr",
     "output_type": "stream",
     "text": [
      "Epoch 13/200: 100%|██████████| 22/22 [01:02<00:00,  2.85s/it, Train Loss=0.0032]\n"
     ]
    },
    {
     "name": "stdout",
     "output_type": "stream",
     "text": [
      "Epoch 13/200:\n",
      "  Train Loss: 0.0043\n",
      "  Val Loss: 0.0057\n",
      "  Val MSE: 0.0056\n",
      "  Val R2: 0.5879\n",
      "  Model saved as model_epoch_13.pth\n",
      "\n"
     ]
    },
    {
     "name": "stderr",
     "output_type": "stream",
     "text": [
      "Epoch 14/200: 100%|██████████| 22/22 [01:02<00:00,  2.85s/it, Train Loss=0.0039]\n"
     ]
    },
    {
     "name": "stdout",
     "output_type": "stream",
     "text": [
      "Epoch 14/200:\n",
      "  Train Loss: 0.0043\n",
      "  Val Loss: 0.0060\n",
      "  Val MSE: 0.0059\n",
      "  Val R2: 0.5659\n",
      "  Model saved as model_epoch_14.pth\n",
      "\n"
     ]
    },
    {
     "name": "stderr",
     "output_type": "stream",
     "text": [
      "Epoch 15/200: 100%|██████████| 22/22 [01:02<00:00,  2.84s/it, Train Loss=0.0040]\n"
     ]
    },
    {
     "name": "stdout",
     "output_type": "stream",
     "text": [
      "Epoch 15/200:\n",
      "  Train Loss: 0.0041\n",
      "  Val Loss: 0.0064\n",
      "  Val MSE: 0.0063\n",
      "  Val R2: 0.5355\n",
      "  Model saved as model_epoch_15.pth\n",
      "\n"
     ]
    },
    {
     "name": "stderr",
     "output_type": "stream",
     "text": [
      "Epoch 16/200: 100%|██████████| 22/22 [01:02<00:00,  2.85s/it, Train Loss=0.0024]\n"
     ]
    },
    {
     "name": "stdout",
     "output_type": "stream",
     "text": [
      "Epoch 16/200:\n",
      "  Train Loss: 0.0041\n",
      "  Val Loss: 0.0064\n",
      "  Val MSE: 0.0063\n",
      "  Val R2: 0.5393\n",
      "  Model saved as model_epoch_16.pth\n",
      "\n"
     ]
    },
    {
     "name": "stderr",
     "output_type": "stream",
     "text": [
      "Epoch 17/200: 100%|██████████| 22/22 [01:02<00:00,  2.85s/it, Train Loss=0.0061]\n"
     ]
    },
    {
     "name": "stdout",
     "output_type": "stream",
     "text": [
      "Epoch 17/200:\n",
      "  Train Loss: 0.0041\n",
      "  Val Loss: 0.0070\n",
      "  Val MSE: 0.0069\n",
      "  Val R2: 0.4901\n",
      "  Model saved as model_epoch_17.pth\n",
      "\n"
     ]
    },
    {
     "name": "stderr",
     "output_type": "stream",
     "text": [
      "Epoch 18/200: 100%|██████████| 22/22 [01:02<00:00,  2.84s/it, Train Loss=0.0021]\n"
     ]
    },
    {
     "name": "stdout",
     "output_type": "stream",
     "text": [
      "Epoch 18/200:\n",
      "  Train Loss: 0.0042\n",
      "  Val Loss: 0.0063\n",
      "  Val MSE: 0.0062\n",
      "  Val R2: 0.5452\n",
      "  Model saved as model_epoch_18.pth\n",
      "\n"
     ]
    },
    {
     "name": "stderr",
     "output_type": "stream",
     "text": [
      "Epoch 19/200: 100%|██████████| 22/22 [01:02<00:00,  2.84s/it, Train Loss=0.0054]\n"
     ]
    },
    {
     "name": "stdout",
     "output_type": "stream",
     "text": [
      "Epoch 19/200:\n",
      "  Train Loss: 0.0039\n",
      "  Val Loss: 0.0061\n",
      "  Val MSE: 0.0060\n",
      "  Val R2: 0.5564\n",
      "  Model saved as model_epoch_19.pth\n",
      "\n"
     ]
    },
    {
     "name": "stderr",
     "output_type": "stream",
     "text": [
      "Epoch 20/200: 100%|██████████| 22/22 [01:02<00:00,  2.84s/it, Train Loss=0.0036]\n"
     ]
    },
    {
     "name": "stdout",
     "output_type": "stream",
     "text": [
      "Epoch 20/200:\n",
      "  Train Loss: 0.0040\n",
      "  Val Loss: 0.0060\n",
      "  Val MSE: 0.0059\n",
      "  Val R2: 0.5645\n",
      "  Model saved as model_epoch_20.pth\n",
      "\n"
     ]
    },
    {
     "name": "stderr",
     "output_type": "stream",
     "text": [
      "Epoch 21/200: 100%|██████████| 22/22 [01:02<00:00,  2.85s/it, Train Loss=0.0068]\n"
     ]
    },
    {
     "name": "stdout",
     "output_type": "stream",
     "text": [
      "Epoch 21/200:\n",
      "  Train Loss: 0.0039\n",
      "  Val Loss: 0.0063\n",
      "  Val MSE: 0.0063\n",
      "  Val R2: 0.5388\n",
      "  Model saved as model_epoch_21.pth\n",
      "\n"
     ]
    },
    {
     "name": "stderr",
     "output_type": "stream",
     "text": [
      "Epoch 22/200: 100%|██████████| 22/22 [01:02<00:00,  2.85s/it, Train Loss=0.0025]\n"
     ]
    },
    {
     "name": "stdout",
     "output_type": "stream",
     "text": [
      "Epoch 22/200:\n",
      "  Train Loss: 0.0039\n",
      "  Val Loss: 0.0063\n",
      "  Val MSE: 0.0062\n",
      "  Val R2: 0.5404\n",
      "  Model saved as model_epoch_22.pth\n",
      "\n"
     ]
    },
    {
     "name": "stderr",
     "output_type": "stream",
     "text": [
      "Epoch 23/200: 100%|██████████| 22/22 [01:02<00:00,  2.85s/it, Train Loss=0.0053]\n"
     ]
    },
    {
     "name": "stdout",
     "output_type": "stream",
     "text": [
      "Epoch 23/200:\n",
      "  Train Loss: 0.0040\n",
      "  Val Loss: 0.0077\n",
      "  Val MSE: 0.0077\n",
      "  Val R2: 0.4357\n",
      "  Model saved as model_epoch_23.pth\n",
      "\n"
     ]
    },
    {
     "name": "stderr",
     "output_type": "stream",
     "text": [
      "Epoch 24/200: 100%|██████████| 22/22 [01:02<00:00,  2.84s/it, Train Loss=0.0040]\n"
     ]
    },
    {
     "name": "stdout",
     "output_type": "stream",
     "text": [
      "Epoch 24/200:\n",
      "  Train Loss: 0.0039\n",
      "  Val Loss: 0.0071\n",
      "  Val MSE: 0.0071\n",
      "  Val R2: 0.4804\n",
      "  Model saved as model_epoch_24.pth\n",
      "\n"
     ]
    },
    {
     "name": "stderr",
     "output_type": "stream",
     "text": [
      "Epoch 25/200: 100%|██████████| 22/22 [01:02<00:00,  2.85s/it, Train Loss=0.0038]\n"
     ]
    },
    {
     "name": "stdout",
     "output_type": "stream",
     "text": [
      "Epoch 25/200:\n",
      "  Train Loss: 0.0038\n",
      "  Val Loss: 0.0067\n",
      "  Val MSE: 0.0066\n",
      "  Val R2: 0.5124\n",
      "  Model saved as model_epoch_25.pth\n",
      "\n"
     ]
    },
    {
     "name": "stderr",
     "output_type": "stream",
     "text": [
      "Epoch 26/200: 100%|██████████| 22/22 [01:02<00:00,  2.84s/it, Train Loss=0.0049]\n"
     ]
    },
    {
     "name": "stdout",
     "output_type": "stream",
     "text": [
      "Epoch 26/200:\n",
      "  Train Loss: 0.0037\n",
      "  Val Loss: 0.0074\n",
      "  Val MSE: 0.0073\n",
      "  Val R2: 0.4600\n",
      "  Model saved as model_epoch_26.pth\n",
      "\n"
     ]
    },
    {
     "name": "stderr",
     "output_type": "stream",
     "text": [
      "Epoch 27/200: 100%|██████████| 22/22 [01:02<00:00,  2.86s/it, Train Loss=0.0033]\n"
     ]
    },
    {
     "name": "stdout",
     "output_type": "stream",
     "text": [
      "Epoch 27/200:\n",
      "  Train Loss: 0.0037\n",
      "  Val Loss: 0.0066\n",
      "  Val MSE: 0.0065\n",
      "  Val R2: 0.5202\n",
      "  Model saved as model_epoch_27.pth\n",
      "\n"
     ]
    },
    {
     "name": "stderr",
     "output_type": "stream",
     "text": [
      "Epoch 28/200: 100%|██████████| 22/22 [01:02<00:00,  2.86s/it, Train Loss=0.0031]\n"
     ]
    },
    {
     "name": "stdout",
     "output_type": "stream",
     "text": [
      "Epoch 28/200:\n",
      "  Train Loss: 0.0038\n",
      "  Val Loss: 0.0073\n",
      "  Val MSE: 0.0072\n",
      "  Val R2: 0.4691\n",
      "  Model saved as model_epoch_28.pth\n",
      "\n"
     ]
    },
    {
     "name": "stderr",
     "output_type": "stream",
     "text": [
      "Epoch 29/200: 100%|██████████| 22/22 [01:02<00:00,  2.85s/it, Train Loss=0.0034]\n"
     ]
    },
    {
     "name": "stdout",
     "output_type": "stream",
     "text": [
      "Epoch 29/200:\n",
      "  Train Loss: 0.0036\n",
      "  Val Loss: 0.0075\n",
      "  Val MSE: 0.0075\n",
      "  Val R2: 0.4465\n",
      "  Model saved as model_epoch_29.pth\n",
      "\n"
     ]
    },
    {
     "name": "stderr",
     "output_type": "stream",
     "text": [
      "Epoch 30/200: 100%|██████████| 22/22 [01:02<00:00,  2.85s/it, Train Loss=0.0035]\n"
     ]
    },
    {
     "name": "stdout",
     "output_type": "stream",
     "text": [
      "Epoch 30/200:\n",
      "  Train Loss: 0.0038\n",
      "  Val Loss: 0.0068\n",
      "  Val MSE: 0.0067\n",
      "  Val R2: 0.5066\n",
      "  Model saved as model_epoch_30.pth\n",
      "\n"
     ]
    },
    {
     "name": "stderr",
     "output_type": "stream",
     "text": [
      "Epoch 31/200: 100%|██████████| 22/22 [01:02<00:00,  2.85s/it, Train Loss=0.0040]\n"
     ]
    },
    {
     "name": "stdout",
     "output_type": "stream",
     "text": [
      "Epoch 31/200:\n",
      "  Train Loss: 0.0036\n",
      "  Val Loss: 0.0077\n",
      "  Val MSE: 0.0077\n",
      "  Val R2: 0.4332\n",
      "  Model saved as model_epoch_31.pth\n",
      "\n"
     ]
    },
    {
     "name": "stderr",
     "output_type": "stream",
     "text": [
      "Epoch 32/200: 100%|██████████| 22/22 [01:02<00:00,  2.85s/it, Train Loss=0.0045]\n"
     ]
    },
    {
     "name": "stdout",
     "output_type": "stream",
     "text": [
      "Epoch 32/200:\n",
      "  Train Loss: 0.0035\n",
      "  Val Loss: 0.0081\n",
      "  Val MSE: 0.0081\n",
      "  Val R2: 0.4061\n",
      "  Model saved as model_epoch_32.pth\n",
      "\n"
     ]
    },
    {
     "name": "stderr",
     "output_type": "stream",
     "text": [
      "Epoch 33/200: 100%|██████████| 22/22 [01:02<00:00,  2.85s/it, Train Loss=0.0046]\n"
     ]
    },
    {
     "name": "stdout",
     "output_type": "stream",
     "text": [
      "Epoch 33/200:\n",
      "  Train Loss: 0.0035\n",
      "  Val Loss: 0.0079\n",
      "  Val MSE: 0.0078\n",
      "  Val R2: 0.4221\n",
      "  Model saved as model_epoch_33.pth\n",
      "\n"
     ]
    },
    {
     "name": "stderr",
     "output_type": "stream",
     "text": [
      "Epoch 34/200: 100%|██████████| 22/22 [01:02<00:00,  2.86s/it, Train Loss=0.0038]\n"
     ]
    },
    {
     "name": "stdout",
     "output_type": "stream",
     "text": [
      "Epoch 34/200:\n",
      "  Train Loss: 0.0035\n",
      "  Val Loss: 0.0076\n",
      "  Val MSE: 0.0076\n",
      "  Val R2: 0.4429\n",
      "  Model saved as model_epoch_34.pth\n",
      "\n"
     ]
    },
    {
     "name": "stderr",
     "output_type": "stream",
     "text": [
      "Epoch 35/200: 100%|██████████| 22/22 [01:02<00:00,  2.85s/it, Train Loss=0.0044]\n"
     ]
    },
    {
     "name": "stdout",
     "output_type": "stream",
     "text": [
      "Epoch 35/200:\n",
      "  Train Loss: 0.0034\n",
      "  Val Loss: 0.0085\n",
      "  Val MSE: 0.0084\n",
      "  Val R2: 0.3802\n",
      "  Model saved as model_epoch_35.pth\n",
      "\n"
     ]
    },
    {
     "name": "stderr",
     "output_type": "stream",
     "text": [
      "Epoch 36/200: 100%|██████████| 22/22 [01:02<00:00,  2.85s/it, Train Loss=0.0036]\n"
     ]
    },
    {
     "name": "stdout",
     "output_type": "stream",
     "text": [
      "Epoch 36/200:\n",
      "  Train Loss: 0.0034\n",
      "  Val Loss: 0.0090\n",
      "  Val MSE: 0.0090\n",
      "  Val R2: 0.3386\n",
      "  Model saved as model_epoch_36.pth\n",
      "\n"
     ]
    },
    {
     "name": "stderr",
     "output_type": "stream",
     "text": [
      "Epoch 37/200: 100%|██████████| 22/22 [01:02<00:00,  2.86s/it, Train Loss=0.0032]\n"
     ]
    },
    {
     "name": "stdout",
     "output_type": "stream",
     "text": [
      "Epoch 37/200:\n",
      "  Train Loss: 0.0036\n",
      "  Val Loss: 0.0062\n",
      "  Val MSE: 0.0061\n",
      "  Val R2: 0.5542\n",
      "  Model saved as model_epoch_37.pth\n",
      "\n"
     ]
    },
    {
     "name": "stderr",
     "output_type": "stream",
     "text": [
      "Epoch 38/200: 100%|██████████| 22/22 [01:02<00:00,  2.86s/it, Train Loss=0.0029]\n"
     ]
    },
    {
     "name": "stdout",
     "output_type": "stream",
     "text": [
      "Epoch 38/200:\n",
      "  Train Loss: 0.0034\n",
      "  Val Loss: 0.0076\n",
      "  Val MSE: 0.0075\n",
      "  Val R2: 0.4464\n",
      "  Model saved as model_epoch_38.pth\n",
      "\n"
     ]
    },
    {
     "name": "stderr",
     "output_type": "stream",
     "text": [
      "Epoch 39/200: 100%|██████████| 22/22 [01:02<00:00,  2.86s/it, Train Loss=0.0038]\n"
     ]
    },
    {
     "name": "stdout",
     "output_type": "stream",
     "text": [
      "Epoch 39/200:\n",
      "  Train Loss: 0.0035\n",
      "  Val Loss: 0.0063\n",
      "  Val MSE: 0.0062\n",
      "  Val R2: 0.5416\n",
      "  Model saved as model_epoch_39.pth\n",
      "\n"
     ]
    },
    {
     "name": "stderr",
     "output_type": "stream",
     "text": [
      "Epoch 40/200: 100%|██████████| 22/22 [01:02<00:00,  2.85s/it, Train Loss=0.0046]\n"
     ]
    },
    {
     "name": "stdout",
     "output_type": "stream",
     "text": [
      "Epoch 40/200:\n",
      "  Train Loss: 0.0033\n",
      "  Val Loss: 0.0074\n",
      "  Val MSE: 0.0074\n",
      "  Val R2: 0.4575\n",
      "  Model saved as model_epoch_40.pth\n",
      "\n"
     ]
    },
    {
     "name": "stderr",
     "output_type": "stream",
     "text": [
      "Epoch 41/200: 100%|██████████| 22/22 [01:02<00:00,  2.86s/it, Train Loss=0.0040]\n"
     ]
    },
    {
     "name": "stdout",
     "output_type": "stream",
     "text": [
      "Epoch 41/200:\n",
      "  Train Loss: 0.0035\n",
      "  Val Loss: 0.0069\n",
      "  Val MSE: 0.0068\n",
      "  Val R2: 0.4959\n",
      "  Model saved as model_epoch_41.pth\n",
      "\n"
     ]
    },
    {
     "name": "stderr",
     "output_type": "stream",
     "text": [
      "Epoch 42/200: 100%|██████████| 22/22 [01:02<00:00,  2.86s/it, Train Loss=0.0034]\n"
     ]
    },
    {
     "name": "stdout",
     "output_type": "stream",
     "text": [
      "Epoch 42/200:\n",
      "  Train Loss: 0.0034\n",
      "  Val Loss: 0.0076\n",
      "  Val MSE: 0.0076\n",
      "  Val R2: 0.4408\n",
      "  Model saved as model_epoch_42.pth\n",
      "\n"
     ]
    },
    {
     "name": "stderr",
     "output_type": "stream",
     "text": [
      "Epoch 43/200: 100%|██████████| 22/22 [01:02<00:00,  2.86s/it, Train Loss=0.0022]\n"
     ]
    },
    {
     "name": "stdout",
     "output_type": "stream",
     "text": [
      "Epoch 43/200:\n",
      "  Train Loss: 0.0033\n",
      "  Val Loss: 0.0072\n",
      "  Val MSE: 0.0072\n",
      "  Val R2: 0.4725\n",
      "  Model saved as model_epoch_43.pth\n",
      "\n"
     ]
    },
    {
     "name": "stderr",
     "output_type": "stream",
     "text": [
      "Epoch 44/200: 100%|██████████| 22/22 [01:02<00:00,  2.86s/it, Train Loss=0.0024]\n"
     ]
    }
   ],
   "source": [
    "import torch\n",
    "from torch_geometric.loader import DataLoader\n",
    "import numpy as np\n",
    "import matplotlib.pyplot as plt\n",
    "\n",
    "# Initialize model\n",
    "in_channels = normalized_data_list[0].num_node_features\n",
    "hidden_channels = 128\n",
    "num_layers = 3\n",
    "heads = 4\n",
    "dropout_rate = 0.4\n",
    "\n",
    "model = ComplexGAT(in_channels, hidden_channels, num_layers, heads, dropout_rate)\n",
    "\n",
    "# Train model\n",
    "device = torch.device('cuda' if torch.cuda.is_available() else 'cpu')\n",
    "trained_model = train_model(model, train_loader, val_loader, device, num_epochs = 200, lr=0.001, load_best_model = True)"
   ]
  },
  {
   "cell_type": "code",
   "execution_count": 35,
   "metadata": {},
   "outputs": [],
   "source": [
    "import optuna\n",
    "import torch\n",
    "import os\n",
    "import torch.nn as nn\n",
    "from torch_geometric.loader import DataLoader\n",
    "import gc\n",
    "import json\n",
    "import pandas as pd\n",
    "\n",
    "class Objective(object):\n",
    "    def __init__(self, num_features, device, epochs, train_loader, val_loader):\n",
    "        self.num_features = num_features\n",
    "        self.device = device\n",
    "        self.epochs = epochs\n",
    "        self.train_loader = train_loader\n",
    "        self.val_loader = val_loader\n",
    "        self.best_trial_number = None\n",
    "        self.best_val_loss = float('inf')\n",
    "\n",
    "    def __call__(self, trial):\n",
    "        # Define the directory for saving files\n",
    "        save_dir = '/scratch/gpfs/hk4638/astrid_optimization'\n",
    "        os.makedirs(save_dir, exist_ok=True)\n",
    "\n",
    "        # Names of the files that will contain the losses, model weights, and hyperparameters\n",
    "        fout = os.path.join(save_dir, f'loss_{trial.number}.txt')\n",
    "        fmodel = os.path.join(save_dir, f'model_{trial.number}.pth')\n",
    "        fhyper = os.path.join(save_dir, f'hyperparameters_{trial.number}.json')\n",
    "\n",
    "        # Suggest hyperparameters\n",
    "        hidden_channels = trial.suggest_categorical('hidden_channels', [64, 128, 256])\n",
    "        num_layers = trial.suggest_int('num_layers', 2, 6)\n",
    "        heads = trial.suggest_categorical('heads', [4, 8, 16])\n",
    "        dropout_rate = trial.suggest_float('dropout_rate', 0.0, 0.5)\n",
    "        lr = trial.suggest_float('lr', 1e-5, 1e-2, log=True)\n",
    "\n",
    "        # Save hyperparameters to a JSON file\n",
    "        hyperparameters = {\n",
    "            'hidden_channels': hidden_channels,\n",
    "            'num_layers': num_layers,\n",
    "            'heads': heads,\n",
    "            'dropout_rate': dropout_rate,\n",
    "            'lr': lr\n",
    "        }\n",
    "        with open(fhyper, 'w') as f:\n",
    "            json.dump(hyperparameters, f, indent=4)\n",
    "\n",
    "        # Generate the model architecture\n",
    "        model = ComplexGAT(in_channels=self.num_features, hidden_channels=hidden_channels,\n",
    "                           num_layers=num_layers, heads=heads,\n",
    "                           dropout_rate=dropout_rate).to(self.device)\n",
    "\n",
    "        optimizer = torch.optim.Adam(model.parameters(), lr=lr)\n",
    "        scheduler = torch.optim.lr_scheduler.StepLR(optimizer, step_size=50, gamma=0.5)\n",
    "        criterion = nn.MSELoss()\n",
    "    \n",
    "        def train():\n",
    "            model.train()\n",
    "            train_bar = tqdm(self.train_loader, leave=False, desc=f\"Epoch {epoch+1}/{self.epochs}\")\n",
    "            for data in train_bar:\n",
    "                data = data.to(self.device)\n",
    "                out = model(data)\n",
    "                loss = criterion(out.squeeze(), data.y)\n",
    "                optimizer.zero_grad()\n",
    "                loss.backward()\n",
    "                optimizer.step()\n",
    "            scheduler.step()\n",
    "\n",
    "        def validate(loader):\n",
    "            model.eval()\n",
    "            total_loss = 0\n",
    "            num_batches = 0\n",
    "            with torch.no_grad():\n",
    "                for data in loader:\n",
    "                    data = data.to(self.device)\n",
    "                    out = model(data)\n",
    "                    loss = criterion(out.squeeze(), data.y)\n",
    "                    total_loss += loss.item()\n",
    "                    num_batches += 1\n",
    "            return total_loss / num_batches\n",
    "\n",
    "        # Train and validate model\n",
    "        trial_best_val_loss = float('inf')\n",
    "        for epoch in tqdm(range(self.epochs)):\n",
    "            train()\n",
    "            val_loss = validate(self.val_loader)\n",
    "            \n",
    "            if val_loss < trial_best_val_loss:\n",
    "                trial_best_val_loss = val_loss\n",
    "                torch.save(model.state_dict(), fmodel)\n",
    "            \n",
    "            with open(fout, 'a') as f:\n",
    "                f.write(f'{epoch} {val_loss:.5e} {trial_best_val_loss:.5e}\\n')\n",
    "\n",
    "            # Handle pruning based on the intermediate value\n",
    "            trial.report(val_loss, epoch)\n",
    "            if trial.should_prune():\n",
    "                raise optuna.exceptions.TrialPruned()\n",
    "\n",
    "        # Update best overall model if this trial is the best so far\n",
    "        if trial_best_val_loss < self.best_val_loss:\n",
    "            self.best_val_loss = trial_best_val_loss\n",
    "            self.best_trial_number = trial.number\n",
    "\n",
    "            # Save the best trial number immediately\n",
    "            with open(os.path.join(save_dir, 'best_trial.json'), 'w') as f:\n",
    "                json.dump({\n",
    "                    'best_trial_number': self.best_trial_number,\n",
    "                    'best_val_loss': self.best_val_loss\n",
    "                }, f, indent=4)\n",
    "\n",
    "        # Print trial results\n",
    "        print(f\"\\n--- Trial {trial.number} Results ---\")\n",
    "        print(\"Hyperparameters:\")\n",
    "        for key, value in trial.params.items():\n",
    "            print(f\"  {key}: {value}\")\n",
    "        print(f\"\\nCurrent Model Architecture:\\n{model}\")\n",
    "        print(f\"\\nBest Validation Loss for this trial: {trial_best_val_loss:.5e}\")\n",
    "        print(f\"Best Overall Validation Loss: {self.best_val_loss:.5e} (Trial {self.best_trial_number})\")\n",
    "\n",
    "        gc.collect()\n",
    "        torch.cuda.empty_cache()\n",
    "        return trial_best_val_loss"
   ]
  },
  {
   "cell_type": "code",
   "execution_count": null,
   "metadata": {},
   "outputs": [
    {
     "name": "stderr",
     "output_type": "stream",
     "text": [
      "[I 2024-08-16 00:23:15,857] A new study created in RDB with name: astrid_gnn_optimization\n"
     ]
    },
    {
     "name": "stdout",
     "output_type": "stream",
     "text": [
      "Created new study 'astrid_gnn_optimization'\n",
      "Running 50 additional trials...\n"
     ]
    },
    {
     "name": "stderr",
     "output_type": "stream",
     "text": [
      "  0%|          | 0/10 [00:00<?, ?it/s]\n",
      "Epoch 1/10:   0%|          | 0/22 [00:00<?, ?it/s]\u001b[A\n",
      "Epoch 1/10:   5%|▍         | 1/22 [00:02<00:53,  2.54s/it]\u001b[A\n",
      "Epoch 1/10:   9%|▉         | 2/22 [00:04<00:45,  2.26s/it]\u001b[A\n",
      "Epoch 1/10:  14%|█▎        | 3/22 [00:07<00:44,  2.33s/it]\u001b[A\n",
      "Epoch 1/10:  18%|█▊        | 4/22 [00:08<00:34,  1.91s/it]\u001b[A\n",
      "Epoch 1/10:  23%|██▎       | 5/22 [00:10<00:32,  1.91s/it]\u001b[A\n",
      "Epoch 1/10:  27%|██▋       | 6/22 [00:12<00:33,  2.07s/it]\u001b[A\n",
      "Epoch 1/10:  32%|███▏      | 7/22 [00:15<00:32,  2.19s/it]\u001b[A\n",
      "Epoch 1/10:  36%|███▋      | 8/22 [00:16<00:28,  2.07s/it]\u001b[A\n",
      "Epoch 1/10:  41%|████      | 9/22 [00:18<00:25,  1.93s/it]\u001b[A\n",
      "Epoch 1/10:  45%|████▌     | 10/22 [00:20<00:22,  1.90s/it]\u001b[A\n",
      "Epoch 1/10:  50%|█████     | 11/22 [00:22<00:20,  1.86s/it]\u001b[A\n",
      "Epoch 1/10:  55%|█████▍    | 12/22 [00:24<00:19,  1.92s/it]\u001b[A\n",
      "Epoch 1/10:  59%|█████▉    | 13/22 [00:26<00:17,  1.97s/it]\u001b[A\n",
      "Epoch 1/10:  64%|██████▎   | 14/22 [00:28<00:16,  2.03s/it]\u001b[A\n",
      "Epoch 1/10:  68%|██████▊   | 15/22 [00:30<00:13,  1.95s/it]\u001b[A\n",
      "Epoch 1/10:  73%|███████▎  | 16/22 [00:31<00:11,  1.84s/it]\u001b[A\n",
      "Epoch 1/10:  77%|███████▋  | 17/22 [00:33<00:09,  1.85s/it]\u001b[A\n",
      "Epoch 1/10:  82%|████████▏ | 18/22 [00:35<00:07,  1.86s/it]\u001b[A\n",
      "Epoch 1/10:  86%|████████▋ | 19/22 [00:37<00:05,  2.00s/it]\u001b[A\n",
      "Epoch 1/10:  91%|█████████ | 20/22 [00:39<00:04,  2.01s/it]\u001b[A\n",
      "Epoch 1/10:  95%|█████████▌| 21/22 [00:41<00:02,  2.05s/it]\u001b[A\n",
      "Epoch 1/10: 100%|██████████| 22/22 [00:43<00:00,  1.99s/it]\u001b[A\n",
      " 10%|█         | 1/10 [00:48<07:13, 48.17s/it]             \u001b[A\n",
      "Epoch 2/10:   0%|          | 0/22 [00:00<?, ?it/s]\u001b[A\n",
      "Epoch 2/10:   5%|▍         | 1/22 [00:01<00:35,  1.70s/it]\u001b[A\n",
      "Epoch 2/10:   9%|▉         | 2/22 [00:04<00:43,  2.20s/it]\u001b[A\n",
      "Epoch 2/10:  14%|█▎        | 3/22 [00:06<00:40,  2.11s/it]\u001b[A\n",
      "Epoch 2/10:  18%|█▊        | 4/22 [00:07<00:35,  1.96s/it]\u001b[A\n",
      "Epoch 2/10:  23%|██▎       | 5/22 [00:10<00:34,  2.05s/it]\u001b[A\n",
      "Epoch 2/10:  27%|██▋       | 6/22 [00:12<00:34,  2.16s/it]\u001b[A\n",
      "Epoch 2/10:  32%|███▏      | 7/22 [00:14<00:31,  2.10s/it]\u001b[A\n",
      "Epoch 2/10:  36%|███▋      | 8/22 [00:16<00:30,  2.15s/it]\u001b[A\n",
      "Epoch 2/10:  41%|████      | 9/22 [00:19<00:29,  2.29s/it]\u001b[A\n",
      "Epoch 2/10:  45%|████▌     | 10/22 [00:20<00:24,  2.01s/it]\u001b[A\n",
      "Epoch 2/10:  50%|█████     | 11/22 [00:22<00:21,  1.93s/it]\u001b[A\n",
      "Epoch 2/10:  55%|█████▍    | 12/22 [00:24<00:18,  1.86s/it]\u001b[A\n",
      "Epoch 2/10:  59%|█████▉    | 13/22 [00:26<00:18,  2.08s/it]\u001b[A\n",
      "Epoch 2/10:  64%|██████▎   | 14/22 [00:28<00:15,  1.92s/it]\u001b[A\n",
      "Epoch 2/10:  68%|██████▊   | 15/22 [00:30<00:13,  1.90s/it]\u001b[A\n",
      "Epoch 2/10:  73%|███████▎  | 16/22 [00:31<00:10,  1.78s/it]\u001b[A\n",
      "Epoch 2/10:  77%|███████▋  | 17/22 [00:33<00:09,  1.82s/it]\u001b[A\n",
      "Epoch 2/10:  82%|████████▏ | 18/22 [00:35<00:07,  1.87s/it]\u001b[A\n",
      "Epoch 2/10:  86%|████████▋ | 19/22 [00:37<00:05,  1.84s/it]\u001b[A\n",
      "Epoch 2/10:  91%|█████████ | 20/22 [00:39<00:03,  1.79s/it]\u001b[A\n",
      "Epoch 2/10:  95%|█████████▌| 21/22 [00:42<00:02,  2.18s/it]\u001b[A\n",
      "Epoch 2/10: 100%|██████████| 22/22 [00:43<00:00,  2.03s/it]\u001b[A\n",
      " 20%|██        | 2/10 [01:36<06:24, 48.08s/it]             \u001b[A\n",
      "Epoch 3/10:   0%|          | 0/22 [00:00<?, ?it/s]\u001b[A\n",
      "Epoch 3/10:   5%|▍         | 1/22 [00:02<00:45,  2.19s/it]\u001b[A\n",
      "Epoch 3/10:   9%|▉         | 2/22 [00:04<00:39,  2.00s/it]\u001b[A\n",
      "Epoch 3/10:  14%|█▎        | 3/22 [00:05<00:35,  1.88s/it]\u001b[A\n",
      "Epoch 3/10:  18%|█▊        | 4/22 [00:08<00:37,  2.11s/it]\u001b[A\n",
      "Epoch 3/10:  23%|██▎       | 5/22 [00:10<00:34,  2.04s/it]\u001b[A\n",
      "Epoch 3/10:  27%|██▋       | 6/22 [00:11<00:30,  1.89s/it]\u001b[A\n",
      "Epoch 3/10:  32%|███▏      | 7/22 [00:13<00:26,  1.74s/it]\u001b[A\n",
      "Epoch 3/10:  36%|███▋      | 8/22 [00:15<00:25,  1.82s/it]\u001b[A\n",
      "Epoch 3/10:  41%|████      | 9/22 [00:17<00:23,  1.84s/it]\u001b[A\n",
      "Epoch 3/10:  45%|████▌     | 10/22 [00:20<00:27,  2.29s/it]\u001b[A\n",
      "Epoch 3/10:  50%|█████     | 11/22 [00:22<00:23,  2.14s/it]\u001b[A\n",
      "Epoch 3/10:  55%|█████▍    | 12/22 [00:24<00:20,  2.05s/it]\u001b[A\n",
      "Epoch 3/10:  59%|█████▉    | 13/22 [00:26<00:19,  2.13s/it]\u001b[A\n",
      "Epoch 3/10:  64%|██████▎   | 14/22 [00:28<00:17,  2.21s/it]\u001b[A\n",
      "Epoch 3/10:  68%|██████▊   | 15/22 [00:30<00:14,  2.14s/it]\u001b[A\n",
      "Epoch 3/10:  73%|███████▎  | 16/22 [00:32<00:12,  2.05s/it]\u001b[A\n",
      "Epoch 3/10:  77%|███████▋  | 17/22 [00:34<00:10,  2.01s/it]\u001b[A\n",
      "Epoch 3/10:  82%|████████▏ | 18/22 [00:36<00:08,  2.05s/it]\u001b[A\n",
      "Epoch 3/10:  86%|████████▋ | 19/22 [00:38<00:06,  2.10s/it]\u001b[A\n",
      "Epoch 3/10:  91%|█████████ | 20/22 [00:40<00:03,  1.96s/it]\u001b[A\n",
      "Epoch 3/10:  95%|█████████▌| 21/22 [00:42<00:01,  1.89s/it]\u001b[A\n",
      "Epoch 3/10: 100%|██████████| 22/22 [00:43<00:00,  1.86s/it]\u001b[A\n",
      " 30%|███       | 3/10 [02:24<05:37, 48.17s/it]             \u001b[A\n",
      "Epoch 4/10:   0%|          | 0/22 [00:00<?, ?it/s]\u001b[A\n",
      "Epoch 4/10:   5%|▍         | 1/22 [00:02<00:55,  2.63s/it]\u001b[A\n",
      "Epoch 4/10:   9%|▉         | 2/22 [00:04<00:41,  2.07s/it]\u001b[A\n",
      "Epoch 4/10:  14%|█▎        | 3/22 [00:06<00:36,  1.94s/it]\u001b[A\n",
      "Epoch 4/10:  18%|█▊        | 4/22 [00:08<00:34,  1.93s/it]\u001b[A\n",
      "Epoch 4/10:  23%|██▎       | 5/22 [00:09<00:32,  1.89s/it]\u001b[A\n",
      "Epoch 4/10:  27%|██▋       | 6/22 [00:11<00:31,  1.94s/it]\u001b[A\n",
      "Epoch 4/10:  32%|███▏      | 7/22 [00:14<00:30,  2.02s/it]\u001b[A\n",
      "Epoch 4/10:  36%|███▋      | 8/22 [00:16<00:29,  2.12s/it]\u001b[A\n",
      "Epoch 4/10:  41%|████      | 9/22 [00:18<00:26,  2.02s/it]\u001b[A\n",
      "Epoch 4/10:  45%|████▌     | 10/22 [00:19<00:21,  1.83s/it]\u001b[A\n",
      "Epoch 4/10:  50%|█████     | 11/22 [00:21<00:20,  1.84s/it]\u001b[A\n",
      "Epoch 4/10:  55%|█████▍    | 12/22 [00:24<00:21,  2.14s/it]\u001b[A\n",
      "Epoch 4/10:  59%|█████▉    | 13/22 [00:26<00:18,  2.03s/it]\u001b[A\n",
      "Epoch 4/10:  64%|██████▎   | 14/22 [00:27<00:15,  1.96s/it]\u001b[A\n",
      "Epoch 4/10:  68%|██████▊   | 15/22 [00:30<00:14,  2.10s/it]\u001b[A\n",
      "Epoch 4/10:  73%|███████▎  | 16/22 [00:32<00:12,  2.15s/it]\u001b[A\n",
      "Epoch 4/10:  77%|███████▋  | 17/22 [00:34<00:10,  2.06s/it]\u001b[A\n",
      "Epoch 4/10:  82%|████████▏ | 18/22 [00:36<00:08,  2.02s/it]\u001b[A\n",
      "Epoch 4/10:  86%|████████▋ | 19/22 [00:38<00:06,  2.10s/it]\u001b[A\n",
      "Epoch 4/10:  91%|█████████ | 20/22 [00:40<00:03,  2.00s/it]\u001b[A\n",
      "Epoch 4/10:  95%|█████████▌| 21/22 [00:41<00:01,  1.86s/it]\u001b[A\n",
      "Epoch 4/10: 100%|██████████| 22/22 [00:43<00:00,  1.83s/it]\u001b[A\n",
      " 40%|████      | 4/10 [03:12<04:48, 48.11s/it]             \u001b[A\n",
      "Epoch 5/10:   0%|          | 0/22 [00:00<?, ?it/s]\u001b[A\n",
      "Epoch 5/10:   5%|▍         | 1/22 [00:02<00:49,  2.34s/it]\u001b[A\n",
      "Epoch 5/10:   9%|▉         | 2/22 [00:04<00:47,  2.38s/it]\u001b[A\n",
      "Epoch 5/10:  14%|█▎        | 3/22 [00:07<00:44,  2.33s/it]\u001b[A\n",
      "Epoch 5/10:  18%|█▊        | 4/22 [00:08<00:33,  1.85s/it]\u001b[A\n",
      "Epoch 5/10:  23%|██▎       | 5/22 [00:10<00:33,  1.97s/it]\u001b[A\n",
      "Epoch 5/10:  27%|██▋       | 6/22 [00:12<00:31,  1.96s/it]\u001b[A\n",
      "Epoch 5/10:  32%|███▏      | 7/22 [00:14<00:30,  2.03s/it]\u001b[A\n",
      "Epoch 5/10:  36%|███▋      | 8/22 [00:16<00:26,  1.93s/it]\u001b[A\n",
      "Epoch 5/10:  41%|████      | 9/22 [00:18<00:25,  1.96s/it]\u001b[A\n",
      "Epoch 5/10:  45%|████▌     | 10/22 [00:20<00:23,  1.98s/it]\u001b[A\n",
      "Epoch 5/10:  50%|█████     | 11/22 [00:22<00:21,  1.96s/it]\u001b[A\n",
      "Epoch 5/10:  55%|█████▍    | 12/22 [00:24<00:19,  1.94s/it]\u001b[A\n",
      "Epoch 5/10:  59%|█████▉    | 13/22 [00:25<00:17,  1.93s/it]\u001b[A\n",
      "Epoch 5/10:  64%|██████▎   | 14/22 [00:27<00:15,  1.89s/it]\u001b[A\n",
      "Epoch 5/10:  68%|██████▊   | 15/22 [00:29<00:13,  1.90s/it]\u001b[A\n",
      "Epoch 5/10:  73%|███████▎  | 16/22 [00:31<00:11,  1.87s/it]\u001b[A\n",
      "Epoch 5/10:  77%|███████▋  | 17/22 [00:33<00:09,  1.87s/it]\u001b[A\n",
      "Epoch 5/10:  82%|████████▏ | 18/22 [00:35<00:07,  1.87s/it]\u001b[A\n",
      "Epoch 5/10:  86%|████████▋ | 19/22 [00:36<00:05,  1.84s/it]\u001b[A\n",
      "Epoch 5/10:  91%|█████████ | 20/22 [00:39<00:04,  2.02s/it]\u001b[A\n",
      "Epoch 5/10:  95%|█████████▌| 21/22 [00:42<00:02,  2.25s/it]\u001b[A\n",
      "Epoch 5/10: 100%|██████████| 22/22 [00:43<00:00,  2.08s/it]\u001b[A\n",
      " 50%|█████     | 5/10 [04:00<04:00, 48.15s/it]             \u001b[A\n",
      "Epoch 6/10:   0%|          | 0/22 [00:00<?, ?it/s]\u001b[A\n",
      "Epoch 6/10:   5%|▍         | 1/22 [00:01<00:38,  1.84s/it]\u001b[A\n",
      "Epoch 6/10:   9%|▉         | 2/22 [00:03<00:39,  1.95s/it]\u001b[A\n",
      "Epoch 6/10:  14%|█▎        | 3/22 [00:05<00:32,  1.73s/it]\u001b[A\n",
      "Epoch 6/10:  18%|█▊        | 4/22 [00:07<00:34,  1.91s/it]\u001b[A\n",
      "Epoch 6/10:  23%|██▎       | 5/22 [00:09<00:32,  1.94s/it]\u001b[A\n",
      "Epoch 6/10:  27%|██▋       | 6/22 [00:12<00:35,  2.20s/it]\u001b[A\n",
      "Epoch 6/10:  32%|███▏      | 7/22 [00:14<00:31,  2.08s/it]\u001b[A\n",
      "Epoch 6/10:  36%|███▋      | 8/22 [00:15<00:26,  1.91s/it]\u001b[A\n",
      "Epoch 6/10:  41%|████      | 9/22 [00:17<00:25,  1.96s/it]\u001b[A\n",
      "Epoch 6/10:  45%|████▌     | 10/22 [00:19<00:23,  1.97s/it]\u001b[A\n",
      "Epoch 6/10:  50%|█████     | 11/22 [00:22<00:23,  2.16s/it]\u001b[A\n",
      "Epoch 6/10:  55%|█████▍    | 12/22 [00:23<00:20,  2.02s/it]\u001b[A\n",
      "Epoch 6/10:  59%|█████▉    | 13/22 [00:25<00:18,  2.01s/it]\u001b[A\n",
      "Epoch 6/10:  64%|██████▎   | 14/22 [00:27<00:15,  1.97s/it]\u001b[A\n",
      "Epoch 6/10:  68%|██████▊   | 15/22 [00:29<00:13,  1.92s/it]\u001b[A\n",
      "Epoch 6/10:  73%|███████▎  | 16/22 [00:31<00:11,  1.84s/it]\u001b[A\n",
      "Epoch 6/10:  77%|███████▋  | 17/22 [00:33<00:09,  1.97s/it]\u001b[A\n",
      "Epoch 6/10:  82%|████████▏ | 18/22 [00:35<00:07,  1.96s/it]\u001b[A\n",
      "Epoch 6/10:  86%|████████▋ | 19/22 [00:37<00:06,  2.06s/it]\u001b[A\n",
      "Epoch 6/10:  91%|█████████ | 20/22 [00:39<00:04,  2.02s/it]\u001b[A\n",
      "Epoch 6/10:  95%|█████████▌| 21/22 [00:41<00:01,  1.94s/it]\u001b[A\n",
      "Epoch 6/10: 100%|██████████| 22/22 [00:43<00:00,  2.06s/it]\u001b[A\n",
      " 60%|██████    | 6/10 [04:48<03:12, 48.16s/it]             \u001b[A\n",
      "Epoch 7/10:   0%|          | 0/22 [00:00<?, ?it/s]\u001b[A\n",
      "Epoch 7/10:   5%|▍         | 1/22 [00:02<00:48,  2.33s/it]\u001b[A\n",
      "Epoch 7/10:   9%|▉         | 2/22 [00:03<00:38,  1.91s/it]\u001b[A\n",
      "Epoch 7/10:  14%|█▎        | 3/22 [00:05<00:36,  1.91s/it]\u001b[A\n",
      "Epoch 7/10:  18%|█▊        | 4/22 [00:08<00:39,  2.20s/it]\u001b[A\n",
      "Epoch 7/10:  23%|██▎       | 5/22 [00:10<00:33,  1.98s/it]\u001b[A\n",
      "Epoch 7/10:  27%|██▋       | 6/22 [00:12<00:32,  2.01s/it]\u001b[A\n",
      "Epoch 7/10:  32%|███▏      | 7/22 [00:13<00:28,  1.89s/it]\u001b[A\n",
      "Epoch 7/10:  36%|███▋      | 8/22 [00:15<00:27,  1.93s/it]\u001b[A\n",
      "Epoch 7/10:  41%|████      | 9/22 [00:17<00:24,  1.86s/it]\u001b[A\n",
      "Epoch 7/10:  45%|████▌     | 10/22 [00:19<00:23,  1.93s/it]\u001b[A\n",
      "Epoch 7/10:  50%|█████     | 11/22 [00:21<00:22,  2.05s/it]\u001b[A\n",
      "Epoch 7/10:  55%|█████▍    | 12/22 [00:24<00:20,  2.07s/it]\u001b[A\n",
      "Epoch 7/10:  59%|█████▉    | 13/22 [00:25<00:17,  1.92s/it]\u001b[A\n",
      "Epoch 7/10:  64%|██████▎   | 14/22 [00:28<00:16,  2.10s/it]\u001b[A\n",
      "Epoch 7/10:  68%|██████▊   | 15/22 [00:30<00:15,  2.21s/it]\u001b[A\n",
      "Epoch 7/10:  73%|███████▎  | 16/22 [00:32<00:11,  1.97s/it]\u001b[A\n",
      "Epoch 7/10:  77%|███████▋  | 17/22 [00:34<00:09,  2.00s/it]\u001b[A\n",
      "Epoch 7/10:  82%|████████▏ | 18/22 [00:36<00:08,  2.09s/it]\u001b[A\n",
      "Epoch 7/10:  86%|████████▋ | 19/22 [00:38<00:06,  2.07s/it]\u001b[A\n",
      "Epoch 7/10:  91%|█████████ | 20/22 [00:40<00:04,  2.08s/it]\u001b[A\n",
      "Epoch 7/10:  95%|█████████▌| 21/22 [00:42<00:01,  1.95s/it]\u001b[A\n",
      "Epoch 7/10: 100%|██████████| 22/22 [00:43<00:00,  1.84s/it]\u001b[A\n",
      " 70%|███████   | 7/10 [05:36<02:24, 48.14s/it]             \u001b[A\n",
      "Epoch 8/10:   0%|          | 0/22 [00:00<?, ?it/s]\u001b[A\n",
      "Epoch 8/10:   5%|▍         | 1/22 [00:01<00:40,  1.94s/it]\u001b[A\n",
      "Epoch 8/10:   9%|▉         | 2/22 [00:04<00:46,  2.30s/it]\u001b[A\n",
      "Epoch 8/10:  14%|█▎        | 3/22 [00:06<00:42,  2.23s/it]\u001b[A\n",
      "Epoch 8/10:  18%|█▊        | 4/22 [00:08<00:36,  2.02s/it]\u001b[A\n",
      "Epoch 8/10:  23%|██▎       | 5/22 [00:10<00:34,  2.02s/it]\u001b[A\n",
      "Epoch 8/10:  27%|██▋       | 6/22 [00:13<00:36,  2.26s/it]\u001b[A\n",
      "Epoch 8/10:  32%|███▏      | 7/22 [00:14<00:30,  2.03s/it]\u001b[A\n",
      "Epoch 8/10:  36%|███▋      | 8/22 [00:16<00:28,  2.05s/it]\u001b[A\n",
      "Epoch 8/10:  41%|████      | 9/22 [00:18<00:26,  2.06s/it]\u001b[A\n",
      "Epoch 8/10:  45%|████▌     | 10/22 [00:20<00:23,  1.99s/it]\u001b[A\n",
      "Epoch 8/10:  50%|█████     | 11/22 [00:22<00:21,  1.99s/it]\u001b[A\n",
      "Epoch 8/10:  55%|█████▍    | 12/22 [00:24<00:19,  1.94s/it]\u001b[A\n",
      "Epoch 8/10:  59%|█████▉    | 13/22 [00:27<00:20,  2.23s/it]\u001b[A\n",
      "Epoch 8/10:  64%|██████▎   | 14/22 [00:28<00:15,  1.97s/it]\u001b[A\n",
      "Epoch 8/10:  68%|██████▊   | 15/22 [00:31<00:14,  2.07s/it]\u001b[A\n",
      "Epoch 8/10:  73%|███████▎  | 16/22 [00:33<00:13,  2.20s/it]\u001b[A\n",
      "Epoch 8/10:  77%|███████▋  | 17/22 [00:35<00:10,  2.12s/it]\u001b[A\n",
      "Epoch 8/10:  82%|████████▏ | 18/22 [00:36<00:07,  1.92s/it]\u001b[A\n",
      "Epoch 8/10:  86%|████████▋ | 19/22 [00:38<00:05,  1.84s/it]\u001b[A\n",
      "Epoch 8/10:  91%|█████████ | 20/22 [00:39<00:03,  1.70s/it]\u001b[A\n",
      "Epoch 8/10:  95%|█████████▌| 21/22 [00:42<00:01,  1.91s/it]\u001b[A\n",
      "Epoch 8/10: 100%|██████████| 22/22 [00:43<00:00,  1.79s/it]\u001b[A\n",
      " 80%|████████  | 8/10 [06:25<01:36, 48.16s/it]             \u001b[A\n",
      "Epoch 9/10:   0%|          | 0/22 [00:00<?, ?it/s]\u001b[A\n",
      "Epoch 9/10:   5%|▍         | 1/22 [00:01<00:36,  1.73s/it]\u001b[A\n",
      "Epoch 9/10:   9%|▉         | 2/22 [00:03<00:36,  1.81s/it]\u001b[A\n",
      "Epoch 9/10:  14%|█▎        | 3/22 [00:05<00:30,  1.63s/it]\u001b[A\n",
      "Epoch 9/10:  18%|█▊        | 4/22 [00:07<00:35,  2.00s/it]\u001b[A\n",
      "Epoch 9/10:  23%|██▎       | 5/22 [00:09<00:33,  1.98s/it]\u001b[A\n",
      "Epoch 9/10:  27%|██▋       | 6/22 [00:11<00:30,  1.94s/it]\u001b[A\n",
      "Epoch 9/10:  32%|███▏      | 7/22 [00:13<00:31,  2.07s/it]\u001b[A\n",
      "Epoch 9/10:  36%|███▋      | 8/22 [00:15<00:26,  1.91s/it]\u001b[A\n",
      "Epoch 9/10:  41%|████      | 9/22 [00:17<00:24,  1.86s/it]\u001b[A\n",
      "Epoch 9/10:  45%|████▌     | 10/22 [00:19<00:23,  2.00s/it]\u001b[A\n",
      "Epoch 9/10:  50%|█████     | 11/22 [00:21<00:21,  1.99s/it]\u001b[A\n",
      "Epoch 9/10:  55%|█████▍    | 12/22 [00:22<00:18,  1.90s/it]\u001b[A\n",
      "Epoch 9/10:  59%|█████▉    | 13/22 [00:24<00:17,  1.91s/it]\u001b[A\n",
      "Epoch 9/10:  64%|██████▎   | 14/22 [00:26<00:15,  1.91s/it]\u001b[A\n",
      "Epoch 9/10:  68%|██████▊   | 15/22 [00:29<00:15,  2.19s/it]\u001b[A\n",
      "Epoch 9/10:  73%|███████▎  | 16/22 [00:31<00:12,  2.15s/it]\u001b[A\n",
      "Epoch 9/10:  77%|███████▋  | 17/22 [00:33<00:10,  2.07s/it]\u001b[A\n",
      "Epoch 9/10:  82%|████████▏ | 18/22 [00:35<00:08,  2.15s/it]\u001b[A\n",
      "Epoch 9/10:  86%|████████▋ | 19/22 [00:38<00:06,  2.19s/it]\u001b[A\n",
      "Epoch 9/10:  91%|█████████ | 20/22 [00:39<00:04,  2.02s/it]\u001b[A\n",
      "Epoch 9/10:  95%|█████████▌| 21/22 [00:41<00:02,  2.04s/it]\u001b[A\n",
      "Epoch 9/10: 100%|██████████| 22/22 [00:43<00:00,  1.94s/it]\u001b[A\n",
      " 90%|█████████ | 9/10 [07:13<00:48, 48.12s/it]             \u001b[A\n",
      "Epoch 10/10:   0%|          | 0/22 [00:00<?, ?it/s]\u001b[A\n",
      "Epoch 10/10:   5%|▍         | 1/22 [00:01<00:32,  1.54s/it]\u001b[A\n",
      "Epoch 10/10:   9%|▉         | 2/22 [00:04<00:42,  2.12s/it]\u001b[A\n",
      "Epoch 10/10:  14%|█▎        | 3/22 [00:05<00:37,  1.97s/it]\u001b[A\n",
      "Epoch 10/10:  18%|█▊        | 4/22 [00:08<00:37,  2.09s/it]\u001b[A\n",
      "Epoch 10/10:  23%|██▎       | 5/22 [00:10<00:34,  2.02s/it]\u001b[A\n",
      "Epoch 10/10:  27%|██▋       | 6/22 [00:11<00:31,  1.96s/it]\u001b[A\n",
      "Epoch 10/10:  32%|███▏      | 7/22 [00:13<00:29,  1.93s/it]\u001b[A\n",
      "Epoch 10/10:  36%|███▋      | 8/22 [00:15<00:25,  1.85s/it]\u001b[A\n",
      "Epoch 10/10:  41%|████      | 9/22 [00:17<00:25,  1.93s/it]\u001b[A\n",
      "Epoch 10/10:  45%|████▌     | 10/22 [00:19<00:24,  2.02s/it]\u001b[A\n",
      "Epoch 10/10:  50%|█████     | 11/22 [00:21<00:21,  1.94s/it]\u001b[A\n",
      "Epoch 10/10:  55%|█████▍    | 12/22 [00:23<00:19,  1.91s/it]\u001b[A\n",
      "Epoch 10/10:  59%|█████▉    | 13/22 [00:25<00:17,  1.94s/it]\u001b[A\n",
      "Epoch 10/10:  64%|██████▎   | 14/22 [00:27<00:15,  1.89s/it]\u001b[A\n",
      "Epoch 10/10:  68%|██████▊   | 15/22 [00:28<00:12,  1.80s/it]\u001b[A\n",
      "Epoch 10/10:  73%|███████▎  | 16/22 [00:30<00:11,  1.84s/it]\u001b[A\n",
      "Epoch 10/10:  77%|███████▋  | 17/22 [00:33<00:10,  2.03s/it]\u001b[A\n",
      "Epoch 10/10:  82%|████████▏ | 18/22 [00:35<00:08,  2.14s/it]\u001b[A\n",
      "Epoch 10/10:  86%|████████▋ | 19/22 [00:37<00:06,  2.17s/it]\u001b[A\n",
      "Epoch 10/10:  91%|█████████ | 20/22 [00:40<00:04,  2.29s/it]\u001b[A\n",
      "Epoch 10/10:  95%|█████████▌| 21/22 [00:42<00:02,  2.17s/it]\u001b[A\n",
      "Epoch 10/10: 100%|██████████| 22/22 [00:43<00:00,  1.99s/it]\u001b[A\n",
      "100%|██████████| 10/10 [08:01<00:00, 48.14s/it]             \u001b[A\n",
      "[I 2024-08-16 00:31:17,480] Trial 0 finished with value: 0.01637849733233452 and parameters: {'hidden_channels': 64, 'num_layers': 4, 'heads': 4, 'dropout_rate': 0.00034387369884014696, 'lr': 1.9044244634951747e-05}. Best is trial 0 with value: 0.01637849733233452.\n"
     ]
    },
    {
     "name": "stdout",
     "output_type": "stream",
     "text": [
      "\n",
      "--- Trial 0 Results ---\n",
      "Hyperparameters:\n",
      "  hidden_channels: 64\n",
      "  num_layers: 4\n",
      "  heads: 4\n",
      "  dropout_rate: 0.00034387369884014696\n",
      "  lr: 1.9044244634951747e-05\n",
      "\n",
      "Current Model Architecture:\n",
      "ComplexGAT(\n",
      "  (conv1): GATConv(5, 64, heads=4)\n",
      "  (convs): ModuleList(\n",
      "    (0-1): 2 x GATConv(256, 64, heads=4)\n",
      "  )\n",
      "  (conv_last): GATConv(256, 64, heads=1)\n",
      "  (fc1): Linear(in_features=64, out_features=64, bias=True)\n",
      "  (fc2): Linear(in_features=64, out_features=1, bias=True)\n",
      ")\n",
      "\n",
      "Best Validation Loss for this trial: 1.63785e-02\n",
      "Best Overall Validation Loss: 1.63785e-02 (Trial 0)\n"
     ]
    },
    {
     "name": "stderr",
     "output_type": "stream",
     "text": [
      "  0%|          | 0/10 [00:00<?, ?it/s]\n",
      "Epoch 1/10:   0%|          | 0/22 [00:00<?, ?it/s]\u001b[A\n",
      "Epoch 1/10:   5%|▍         | 1/22 [00:05<01:51,  5.30s/it]\u001b[A\n",
      "Epoch 1/10:   9%|▉         | 2/22 [00:09<01:38,  4.92s/it]\u001b[A\n",
      "Epoch 1/10:  14%|█▎        | 3/22 [00:15<01:38,  5.18s/it]\u001b[A\n",
      "Epoch 1/10:  18%|█▊        | 4/22 [00:19<01:26,  4.81s/it]\u001b[A\n",
      "Epoch 1/10:  23%|██▎       | 5/22 [00:25<01:29,  5.28s/it]\u001b[A\n",
      "Epoch 1/10:  27%|██▋       | 6/22 [00:29<01:15,  4.74s/it]\u001b[A\n",
      "Epoch 1/10:  32%|███▏      | 7/22 [00:32<01:04,  4.33s/it]\u001b[A\n",
      "Epoch 1/10:  36%|███▋      | 8/22 [00:36<00:58,  4.16s/it]\u001b[A\n",
      "Epoch 1/10:  41%|████      | 9/22 [00:41<00:56,  4.33s/it]\u001b[A\n",
      "Epoch 1/10:  45%|████▌     | 10/22 [00:48<01:01,  5.14s/it]\u001b[A\n",
      "Epoch 1/10:  50%|█████     | 11/22 [00:53<00:56,  5.15s/it]\u001b[A\n",
      "Epoch 1/10:  55%|█████▍    | 12/22 [00:59<00:52,  5.23s/it]\u001b[A\n",
      "Epoch 1/10:  59%|█████▉    | 13/22 [01:03<00:44,  4.92s/it]\u001b[A\n",
      "Epoch 1/10:  64%|██████▎   | 14/22 [01:08<00:41,  5.18s/it]\u001b[A\n",
      "Epoch 1/10:  68%|██████▊   | 15/22 [01:12<00:33,  4.75s/it]\u001b[A\n",
      "Epoch 1/10:  73%|███████▎  | 16/22 [01:17<00:29,  4.87s/it]\u001b[A\n",
      "Epoch 1/10:  77%|███████▋  | 17/22 [01:21<00:23,  4.61s/it]\u001b[A\n",
      "Epoch 1/10:  82%|████████▏ | 18/22 [01:27<00:19,  4.97s/it]\u001b[A\n",
      "Epoch 1/10:  86%|████████▋ | 19/22 [01:32<00:15,  5.01s/it]\u001b[A\n",
      "Epoch 1/10:  91%|█████████ | 20/22 [01:37<00:09,  4.92s/it]\u001b[A\n",
      "Epoch 1/10:  95%|█████████▌| 21/22 [01:42<00:04,  4.79s/it]\u001b[A\n",
      "Epoch 1/10: 100%|██████████| 22/22 [01:45<00:00,  4.44s/it]\u001b[A\n",
      " 10%|█         | 1/10 [01:55<17:16, 115.13s/it]            \u001b[A\n",
      "Epoch 2/10:   0%|          | 0/22 [00:00<?, ?it/s]\u001b[A\n",
      "Epoch 2/10:   5%|▍         | 1/22 [00:04<01:35,  4.53s/it]\u001b[A\n",
      "Epoch 2/10:   9%|▉         | 2/22 [00:08<01:18,  3.93s/it]\u001b[A\n",
      "Epoch 2/10:  14%|█▎        | 3/22 [00:13<01:30,  4.77s/it]\u001b[A\n",
      "Epoch 2/10:  18%|█▊        | 4/22 [00:19<01:33,  5.19s/it]\u001b[A\n",
      "Epoch 2/10:  23%|██▎       | 5/22 [00:25<01:31,  5.39s/it]\u001b[A\n",
      "Epoch 2/10:  27%|██▋       | 6/22 [00:30<01:22,  5.13s/it]\u001b[A\n",
      "Epoch 2/10:  32%|███▏      | 7/22 [00:35<01:16,  5.11s/it]\u001b[A\n",
      "Epoch 2/10:  36%|███▋      | 8/22 [00:39<01:06,  4.78s/it]\u001b[A\n",
      "Epoch 2/10:  41%|████      | 9/22 [00:44<01:05,  5.04s/it]\u001b[A\n",
      "Epoch 2/10:  45%|████▌     | 10/22 [00:48<00:56,  4.74s/it]\u001b[A\n",
      "Epoch 2/10:  50%|█████     | 11/22 [00:54<00:54,  4.92s/it]\u001b[A\n",
      "Epoch 2/10:  55%|█████▍    | 12/22 [00:58<00:46,  4.68s/it]\u001b[A\n",
      "Epoch 2/10:  59%|█████▉    | 13/22 [01:03<00:43,  4.85s/it]\u001b[A\n",
      "Epoch 2/10:  64%|██████▎   | 14/22 [01:09<00:40,  5.11s/it]\u001b[A\n",
      "Epoch 2/10:  68%|██████▊   | 15/22 [01:15<00:37,  5.31s/it]\u001b[A\n",
      "Epoch 2/10:  73%|███████▎  | 16/22 [01:19<00:30,  5.11s/it]\u001b[A\n",
      "Epoch 2/10:  77%|███████▋  | 17/22 [01:24<00:25,  5.14s/it]\u001b[A\n",
      "Epoch 2/10:  82%|████████▏ | 18/22 [01:28<00:19,  4.76s/it]\u001b[A\n",
      "Epoch 2/10:  86%|████████▋ | 19/22 [01:34<00:14,  4.96s/it]\u001b[A\n",
      "Epoch 2/10:  91%|█████████ | 20/22 [01:38<00:09,  4.65s/it]\u001b[A\n",
      "Epoch 2/10:  95%|█████████▌| 21/22 [01:42<00:04,  4.44s/it]\u001b[A\n",
      "Epoch 2/10: 100%|██████████| 22/22 [01:45<00:00,  4.19s/it]\u001b[A\n",
      " 20%|██        | 2/10 [03:50<15:21, 115.14s/it]            \u001b[A\n",
      "Epoch 3/10:   0%|          | 0/22 [00:00<?, ?it/s]\u001b[A\n",
      "Epoch 3/10:   5%|▍         | 1/22 [00:05<01:50,  5.25s/it]\u001b[A\n",
      "Epoch 3/10:   9%|▉         | 2/22 [00:10<01:43,  5.16s/it]\u001b[A\n",
      "Epoch 3/10:  14%|█▎        | 3/22 [00:16<01:43,  5.45s/it]\u001b[A\n",
      "Epoch 3/10:  18%|█▊        | 4/22 [00:20<01:32,  5.12s/it]\u001b[A\n",
      "Epoch 3/10:  23%|██▎       | 5/22 [00:25<01:27,  5.16s/it]\u001b[A\n",
      "Epoch 3/10:  27%|██▋       | 6/22 [00:29<01:11,  4.50s/it]\u001b[A\n",
      "Epoch 3/10:  32%|███▏      | 7/22 [00:34<01:10,  4.70s/it]\u001b[A\n",
      "Epoch 3/10:  36%|███▋      | 8/22 [00:39<01:07,  4.79s/it]\u001b[A\n",
      "Epoch 3/10:  41%|████      | 9/22 [00:43<01:01,  4.73s/it]\u001b[A\n",
      "Epoch 3/10:  45%|████▌     | 10/22 [00:48<00:54,  4.55s/it]\u001b[A\n",
      "Epoch 3/10:  50%|█████     | 11/22 [00:51<00:47,  4.29s/it]\u001b[A\n",
      "Epoch 3/10:  55%|█████▍    | 12/22 [00:56<00:43,  4.37s/it]\u001b[A\n",
      "Epoch 3/10:  59%|█████▉    | 13/22 [01:00<00:38,  4.32s/it]\u001b[A\n",
      "Epoch 3/10:  64%|██████▎   | 14/22 [01:04<00:34,  4.30s/it]\u001b[A\n",
      "Epoch 3/10:  68%|██████▊   | 15/22 [01:10<00:33,  4.84s/it]\u001b[A\n",
      "Epoch 3/10:  73%|███████▎  | 16/22 [01:15<00:29,  4.86s/it]\u001b[A\n",
      "Epoch 3/10:  77%|███████▋  | 17/22 [01:20<00:24,  4.92s/it]\u001b[A\n",
      "Epoch 3/10:  82%|████████▏ | 18/22 [01:27<00:21,  5.33s/it]\u001b[A\n",
      "Epoch 3/10:  86%|████████▋ | 19/22 [01:31<00:14,  4.92s/it]\u001b[A\n",
      "Epoch 3/10:  91%|█████████ | 20/22 [01:35<00:09,  4.84s/it]\u001b[A\n",
      "Epoch 3/10:  95%|█████████▌| 21/22 [01:41<00:04,  5.00s/it]\u001b[A\n",
      "Epoch 3/10: 100%|██████████| 22/22 [01:45<00:00,  4.84s/it]\u001b[A\n",
      " 30%|███       | 3/10 [05:45<13:25, 115.09s/it]            \u001b[A\n",
      "Epoch 4/10:   0%|          | 0/22 [00:00<?, ?it/s]\u001b[A\n",
      "Epoch 4/10:   5%|▍         | 1/22 [00:05<01:50,  5.27s/it]\u001b[A\n",
      "Epoch 4/10:   9%|▉         | 2/22 [00:08<01:24,  4.24s/it]\u001b[A\n",
      "Epoch 4/10:  14%|█▎        | 3/22 [00:14<01:32,  4.86s/it]\u001b[A\n",
      "Epoch 4/10:  18%|█▊        | 4/22 [00:19<01:27,  4.88s/it]\u001b[A\n",
      "Epoch 4/10:  23%|██▎       | 5/22 [00:24<01:27,  5.15s/it]\u001b[A\n",
      "Epoch 4/10:  27%|██▋       | 6/22 [00:30<01:23,  5.19s/it]\u001b[A\n",
      "Epoch 4/10:  32%|███▏      | 7/22 [00:36<01:23,  5.55s/it]\u001b[A\n",
      "Epoch 4/10:  36%|███▋      | 8/22 [00:39<01:08,  4.90s/it]\u001b[A\n",
      "Epoch 4/10:  41%|████      | 9/22 [00:44<01:02,  4.78s/it]\u001b[A\n",
      "Epoch 4/10:  45%|████▌     | 10/22 [00:47<00:51,  4.31s/it]\u001b[A\n",
      "Epoch 4/10:  50%|█████     | 11/22 [00:51<00:46,  4.21s/it]\u001b[A\n",
      "Epoch 4/10:  55%|█████▍    | 12/22 [00:56<00:42,  4.23s/it]\u001b[A\n",
      "Epoch 4/10:  59%|█████▉    | 13/22 [01:00<00:39,  4.43s/it]\u001b[A\n",
      "Epoch 4/10:  64%|██████▎   | 14/22 [01:04<00:33,  4.13s/it]\u001b[A\n",
      "Epoch 4/10:  68%|██████▊   | 15/22 [01:08<00:29,  4.25s/it]\u001b[A\n",
      "Epoch 4/10:  73%|███████▎  | 16/22 [01:14<00:28,  4.71s/it]\u001b[A\n",
      "Epoch 4/10:  77%|███████▋  | 17/22 [01:20<00:25,  5.07s/it]\u001b[A\n",
      "Epoch 4/10:  82%|████████▏ | 18/22 [01:25<00:20,  5.05s/it]\u001b[A\n",
      "Epoch 4/10:  86%|████████▋ | 19/22 [01:30<00:15,  5.15s/it]\u001b[A\n",
      "Epoch 4/10:  91%|█████████ | 20/22 [01:36<00:10,  5.40s/it]\u001b[A\n",
      "Epoch 4/10:  95%|█████████▌| 21/22 [01:41<00:05,  5.03s/it]\u001b[A\n",
      "Epoch 4/10: 100%|██████████| 22/22 [01:45<00:00,  4.92s/it]\u001b[A\n",
      " 40%|████      | 4/10 [07:40<11:31, 115.17s/it]            \u001b[A\n",
      "Epoch 5/10:   0%|          | 0/22 [00:00<?, ?it/s]\u001b[A\n",
      "Epoch 5/10:   5%|▍         | 1/22 [00:04<01:34,  4.49s/it]\u001b[A\n",
      "Epoch 5/10:   9%|▉         | 2/22 [00:10<01:49,  5.46s/it]\u001b[A\n",
      "Epoch 5/10:  14%|█▎        | 3/22 [00:16<01:45,  5.54s/it]\u001b[A\n",
      "Epoch 5/10:  18%|█▊        | 4/22 [00:19<01:26,  4.82s/it]\u001b[A\n",
      "Epoch 5/10:  23%|██▎       | 5/22 [00:24<01:20,  4.74s/it]\u001b[A\n",
      "Epoch 5/10:  27%|██▋       | 6/22 [00:29<01:18,  4.89s/it]\u001b[A\n",
      "Epoch 5/10:  32%|███▏      | 7/22 [00:32<01:04,  4.29s/it]\u001b[A\n",
      "Epoch 5/10:  36%|███▋      | 8/22 [00:38<01:06,  4.75s/it]\u001b[A\n",
      "Epoch 5/10:  41%|████      | 9/22 [00:42<00:57,  4.41s/it]\u001b[A\n",
      "Epoch 5/10:  45%|████▌     | 10/22 [00:46<00:51,  4.26s/it]\u001b[A\n",
      "Epoch 5/10:  50%|█████     | 11/22 [00:51<00:49,  4.50s/it]\u001b[A\n",
      "Epoch 5/10:  55%|█████▍    | 12/22 [00:55<00:45,  4.59s/it]\u001b[A\n",
      "Epoch 5/10:  59%|█████▉    | 13/22 [01:02<00:45,  5.04s/it]\u001b[A\n",
      "Epoch 5/10:  64%|██████▎   | 14/22 [01:07<00:40,  5.09s/it]\u001b[A\n",
      "Epoch 5/10:  68%|██████▊   | 15/22 [01:13<00:37,  5.36s/it]\u001b[A\n",
      "Epoch 5/10:  73%|███████▎  | 16/22 [01:18<00:32,  5.43s/it]\u001b[A\n",
      "Epoch 5/10:  77%|███████▋  | 17/22 [01:23<00:25,  5.11s/it]\u001b[A\n",
      "Epoch 5/10:  82%|████████▏ | 18/22 [01:27<00:20,  5.00s/it]\u001b[A\n",
      "Epoch 5/10:  86%|████████▋ | 19/22 [01:32<00:14,  4.86s/it]\u001b[A\n",
      "Epoch 5/10:  91%|█████████ | 20/22 [01:37<00:09,  4.82s/it]\u001b[A\n",
      "Epoch 5/10:  95%|█████████▌| 21/22 [01:42<00:04,  4.82s/it]\u001b[A\n",
      "Epoch 5/10: 100%|██████████| 22/22 [01:45<00:00,  4.50s/it]\u001b[A\n",
      " 50%|█████     | 5/10 [09:35<09:36, 115.21s/it]            \u001b[A\n",
      "Epoch 6/10:   0%|          | 0/22 [00:00<?, ?it/s]\u001b[A\n",
      "Epoch 6/10:   5%|▍         | 1/22 [00:04<01:44,  4.98s/it]\u001b[A\n",
      "Epoch 6/10:   9%|▉         | 2/22 [00:09<01:39,  4.98s/it]\u001b[A\n",
      "Epoch 6/10:  14%|█▎        | 3/22 [00:14<01:31,  4.82s/it]\u001b[A\n",
      "Epoch 6/10:  18%|█▊        | 4/22 [00:19<01:30,  5.05s/it]\u001b[A\n",
      "Epoch 6/10:  23%|██▎       | 5/22 [00:25<01:26,  5.11s/it]\u001b[A\n",
      "Epoch 6/10:  27%|██▋       | 6/22 [00:28<01:13,  4.58s/it]\u001b[A\n",
      "Epoch 6/10:  32%|███▏      | 7/22 [00:33<01:09,  4.64s/it]\u001b[A\n",
      "Epoch 6/10:  36%|███▋      | 8/22 [00:38<01:08,  4.88s/it]\u001b[A\n",
      "Epoch 6/10:  41%|████      | 9/22 [00:44<01:04,  4.99s/it]\u001b[A\n",
      "Epoch 6/10:  45%|████▌     | 10/22 [00:48<00:59,  4.93s/it]\u001b[A\n",
      "Epoch 6/10:  50%|█████     | 11/22 [00:53<00:51,  4.71s/it]\u001b[A\n",
      "Epoch 6/10:  55%|█████▍    | 12/22 [00:57<00:46,  4.66s/it]\u001b[A\n",
      "Epoch 6/10:  59%|█████▉    | 13/22 [01:01<00:39,  4.42s/it]\u001b[A\n",
      "Epoch 6/10:  64%|██████▎   | 14/22 [01:06<00:36,  4.54s/it]\u001b[A\n",
      "Epoch 6/10:  68%|██████▊   | 15/22 [01:12<00:35,  5.05s/it]\u001b[A\n",
      "Epoch 6/10:  73%|███████▎  | 16/22 [01:17<00:29,  4.99s/it]\u001b[A\n",
      "Epoch 6/10:  77%|███████▋  | 17/22 [01:21<00:24,  4.82s/it]\u001b[A\n",
      "Epoch 6/10:  82%|████████▏ | 18/22 [01:25<00:18,  4.54s/it]\u001b[A\n",
      "Epoch 6/10:  86%|████████▋ | 19/22 [01:30<00:13,  4.60s/it]\u001b[A\n",
      "Epoch 6/10:  91%|█████████ | 20/22 [01:35<00:09,  4.73s/it]\u001b[A\n",
      "Epoch 6/10:  95%|█████████▌| 21/22 [01:41<00:05,  5.12s/it]\u001b[A\n",
      "Epoch 6/10: 100%|██████████| 22/22 [01:45<00:00,  4.82s/it]\u001b[A\n",
      " 60%|██████    | 6/10 [11:31<07:40, 115.21s/it]            \u001b[A\n",
      "Epoch 7/10:   0%|          | 0/22 [00:00<?, ?it/s]\u001b[A\n",
      "Epoch 7/10:   5%|▍         | 1/22 [00:04<01:34,  4.50s/it]\u001b[A\n",
      "Epoch 7/10:   9%|▉         | 2/22 [00:08<01:26,  4.35s/it]\u001b[A\n",
      "Epoch 7/10:  14%|█▎        | 3/22 [00:14<01:32,  4.88s/it]\u001b[A\n",
      "Epoch 7/10:  18%|█▊        | 4/22 [00:19<01:28,  4.90s/it]\u001b[A\n",
      "Epoch 7/10:  23%|██▎       | 5/22 [00:24<01:23,  4.90s/it]\u001b[A\n",
      "Epoch 7/10:  27%|██▋       | 6/22 [00:29<01:23,  5.22s/it]\u001b[A\n",
      "Epoch 7/10:  32%|███▏      | 7/22 [00:36<01:23,  5.55s/it]\u001b[A\n",
      "Epoch 7/10:  36%|███▋      | 8/22 [00:41<01:16,  5.45s/it]\u001b[A\n",
      "Epoch 7/10:  41%|████      | 9/22 [00:45<01:05,  5.06s/it]\u001b[A\n",
      "Epoch 7/10:  45%|████▌     | 10/22 [00:50<01:00,  5.05s/it]\u001b[A\n",
      "Epoch 7/10:  50%|█████     | 11/22 [00:55<00:54,  4.98s/it]\u001b[A\n",
      "Epoch 7/10:  55%|█████▍    | 12/22 [01:00<00:49,  4.90s/it]\u001b[A\n",
      "Epoch 7/10:  59%|█████▉    | 13/22 [01:05<00:44,  4.91s/it]\u001b[A\n",
      "Epoch 7/10:  64%|██████▎   | 14/22 [01:09<00:38,  4.79s/it]\u001b[A\n",
      "Epoch 7/10:  68%|██████▊   | 15/22 [01:13<00:30,  4.39s/it]\u001b[A\n",
      "Epoch 7/10:  73%|███████▎  | 16/22 [01:17<00:26,  4.43s/it]\u001b[A\n",
      "Epoch 7/10:  77%|███████▋  | 17/22 [01:22<00:23,  4.65s/it]\u001b[A\n",
      "Epoch 7/10:  82%|████████▏ | 18/22 [01:28<00:20,  5.09s/it]\u001b[A\n",
      "Epoch 7/10:  86%|████████▋ | 19/22 [01:33<00:15,  5.04s/it]\u001b[A\n",
      "Epoch 7/10:  91%|█████████ | 20/22 [01:37<00:09,  4.75s/it]\u001b[A\n",
      "Epoch 7/10:  95%|█████████▌| 21/22 [01:41<00:04,  4.47s/it]\u001b[A\n",
      "Epoch 7/10: 100%|██████████| 22/22 [01:45<00:00,  4.34s/it]\u001b[A\n",
      " 70%|███████   | 7/10 [13:26<05:45, 115.22s/it]            \u001b[A\n",
      "Epoch 8/10:   0%|          | 0/22 [00:00<?, ?it/s]\u001b[A\n",
      "Epoch 8/10:   5%|▍         | 1/22 [00:05<02:04,  5.91s/it]\u001b[A\n",
      "Epoch 8/10:   9%|▉         | 2/22 [00:09<01:35,  4.77s/it]\u001b[A\n",
      "Epoch 8/10:  14%|█▎        | 3/22 [00:14<01:25,  4.48s/it]\u001b[A\n",
      "Epoch 8/10:  18%|█▊        | 4/22 [00:18<01:23,  4.61s/it]\u001b[A\n",
      "Epoch 8/10:  23%|██▎       | 5/22 [00:24<01:24,  4.95s/it]\u001b[A\n",
      "Epoch 8/10:  27%|██▋       | 6/22 [00:30<01:23,  5.24s/it]\u001b[A\n",
      "Epoch 8/10:  32%|███▏      | 7/22 [00:34<01:14,  4.99s/it]\u001b[A\n",
      "Epoch 8/10:  36%|███▋      | 8/22 [00:39<01:08,  4.89s/it]\u001b[A\n",
      "Epoch 8/10:  41%|████      | 9/22 [00:43<01:01,  4.76s/it]\u001b[A\n",
      "Epoch 8/10:  45%|████▌     | 10/22 [00:47<00:54,  4.54s/it]\u001b[A\n",
      "Epoch 8/10:  50%|█████     | 11/22 [00:53<00:53,  4.89s/it]\u001b[A\n",
      "Epoch 8/10:  55%|█████▍    | 12/22 [00:58<00:47,  4.77s/it]\u001b[A\n",
      "Epoch 8/10:  59%|█████▉    | 13/22 [01:02<00:42,  4.75s/it]\u001b[A\n",
      "Epoch 8/10:  64%|██████▎   | 14/22 [01:07<00:38,  4.87s/it]\u001b[A\n",
      "Epoch 8/10:  68%|██████▊   | 15/22 [01:11<00:32,  4.58s/it]\u001b[A\n",
      "Epoch 8/10:  73%|███████▎  | 16/22 [01:17<00:30,  5.00s/it]\u001b[A\n",
      "Epoch 8/10:  77%|███████▋  | 17/22 [01:21<00:23,  4.67s/it]\u001b[A\n",
      "Epoch 8/10:  82%|████████▏ | 18/22 [01:27<00:19,  4.91s/it]\u001b[A\n",
      "Epoch 8/10:  86%|████████▋ | 19/22 [01:32<00:14,  4.91s/it]\u001b[A\n",
      "Epoch 8/10:  91%|█████████ | 20/22 [01:37<00:09,  4.93s/it]\u001b[A\n",
      "Epoch 8/10:  95%|█████████▌| 21/22 [01:41<00:04,  4.70s/it]\u001b[A\n",
      "Epoch 8/10: 100%|██████████| 22/22 [01:45<00:00,  4.65s/it]\u001b[A\n",
      " 80%|████████  | 8/10 [15:21<03:50, 115.21s/it]            \u001b[A\n",
      "Epoch 9/10:   0%|          | 0/22 [00:00<?, ?it/s]\u001b[A\n",
      "Epoch 9/10:   5%|▍         | 1/22 [00:03<01:21,  3.90s/it]\u001b[A\n",
      "Epoch 9/10:   9%|▉         | 2/22 [00:08<01:27,  4.39s/it]\u001b[A\n",
      "Epoch 9/10:  14%|█▎        | 3/22 [00:14<01:34,  4.97s/it]\u001b[A\n",
      "Epoch 9/10:  18%|█▊        | 4/22 [00:18<01:25,  4.76s/it]\u001b[A\n",
      "Epoch 9/10:  23%|██▎       | 5/22 [00:23<01:21,  4.78s/it]\u001b[A\n",
      "Epoch 9/10:  27%|██▋       | 6/22 [00:29<01:22,  5.19s/it]\u001b[A\n",
      "Epoch 9/10:  32%|███▏      | 7/22 [00:34<01:14,  4.98s/it]\u001b[A\n",
      "Epoch 9/10:  36%|███▋      | 8/22 [00:39<01:12,  5.19s/it]\u001b[A\n",
      "Epoch 9/10:  41%|████      | 9/22 [00:43<01:03,  4.88s/it]\u001b[A\n",
      "Epoch 9/10:  45%|████▌     | 10/22 [00:48<00:56,  4.69s/it]\u001b[A\n",
      "Epoch 9/10:  50%|█████     | 11/22 [00:54<00:57,  5.21s/it]\u001b[A\n",
      "Epoch 9/10:  55%|█████▍    | 12/22 [00:58<00:48,  4.86s/it]\u001b[A\n",
      "Epoch 9/10:  59%|█████▉    | 13/22 [01:03<00:43,  4.83s/it]\u001b[A\n",
      "Epoch 9/10:  64%|██████▎   | 14/22 [01:08<00:39,  4.89s/it]\u001b[A\n",
      "Epoch 9/10:  68%|██████▊   | 15/22 [01:13<00:33,  4.81s/it]\u001b[A\n",
      "Epoch 9/10:  73%|███████▎  | 16/22 [01:17<00:28,  4.75s/it]\u001b[A\n",
      "Epoch 9/10:  77%|███████▋  | 17/22 [01:21<00:22,  4.56s/it]\u001b[A\n",
      "Epoch 9/10:  82%|████████▏ | 18/22 [01:26<00:18,  4.64s/it]\u001b[A\n",
      "Epoch 9/10:  86%|████████▋ | 19/22 [01:31<00:14,  4.69s/it]\u001b[A\n",
      "Epoch 9/10:  91%|█████████ | 20/22 [01:35<00:09,  4.58s/it]\u001b[A\n",
      "Epoch 9/10:  95%|█████████▌| 21/22 [01:41<00:04,  4.98s/it]\u001b[A\n",
      "Epoch 9/10: 100%|██████████| 22/22 [01:45<00:00,  4.71s/it]\u001b[A\n",
      " 90%|█████████ | 9/10 [17:16<01:55, 115.21s/it]            \u001b[A\n",
      "Epoch 10/10:   0%|          | 0/22 [00:00<?, ?it/s]\u001b[A\n",
      "Epoch 10/10:   5%|▍         | 1/22 [00:04<01:39,  4.73s/it]\u001b[A\n",
      "Epoch 10/10:   9%|▉         | 2/22 [00:10<01:46,  5.35s/it]\u001b[A\n",
      "Epoch 10/10:  14%|█▎        | 3/22 [00:15<01:35,  5.02s/it]\u001b[A\n",
      "Epoch 10/10:  18%|█▊        | 4/22 [00:20<01:35,  5.30s/it]\u001b[A\n",
      "Epoch 10/10:  23%|██▎       | 5/22 [00:26<01:30,  5.34s/it]\u001b[A\n",
      "Epoch 10/10:  27%|██▋       | 6/22 [00:30<01:17,  4.87s/it]\u001b[A\n",
      "Epoch 10/10:  32%|███▏      | 7/22 [00:34<01:09,  4.62s/it]\u001b[A\n",
      "Epoch 10/10:  36%|███▋      | 8/22 [00:39<01:07,  4.81s/it]\u001b[A\n",
      "Epoch 10/10:  41%|████      | 9/22 [00:44<01:02,  4.78s/it]\u001b[A\n",
      "Epoch 10/10:  45%|████▌     | 10/22 [00:49<00:58,  4.89s/it]\u001b[A\n",
      "Epoch 10/10:  50%|█████     | 11/22 [00:54<00:53,  4.84s/it]\u001b[A\n",
      "Epoch 10/10:  55%|█████▍    | 12/22 [00:58<00:47,  4.73s/it]\u001b[A\n",
      "Epoch 10/10:  59%|█████▉    | 13/22 [01:02<00:39,  4.43s/it]\u001b[A\n",
      "Epoch 10/10:  64%|██████▎   | 14/22 [01:06<00:34,  4.37s/it]\u001b[A\n",
      "Epoch 10/10:  68%|██████▊   | 15/22 [01:10<00:30,  4.38s/it]\u001b[A\n",
      "Epoch 10/10:  73%|███████▎  | 16/22 [01:15<00:26,  4.39s/it]\u001b[A\n",
      "Epoch 10/10:  77%|███████▋  | 17/22 [01:20<00:23,  4.65s/it]\u001b[A\n",
      "Epoch 10/10:  82%|████████▏ | 18/22 [01:25<00:19,  4.77s/it]\u001b[A\n",
      "Epoch 10/10:  86%|████████▋ | 19/22 [01:31<00:15,  5.17s/it]\u001b[A\n",
      "Epoch 10/10:  91%|█████████ | 20/22 [01:35<00:09,  4.81s/it]\u001b[A\n",
      "Epoch 10/10:  95%|█████████▌| 21/22 [01:40<00:04,  4.92s/it]\u001b[A\n",
      "Epoch 10/10: 100%|██████████| 22/22 [01:45<00:00,  4.88s/it]\u001b[A\n",
      "100%|██████████| 10/10 [19:11<00:00, 115.20s/it]            \u001b[A\n",
      "[I 2024-08-16 00:50:29,683] Trial 1 finished with value: 0.010871088691055774 and parameters: {'hidden_channels': 128, 'num_layers': 2, 'heads': 16, 'dropout_rate': 0.46064895467319084, 'lr': 6.74975330801571e-05}. Best is trial 1 with value: 0.010871088691055774.\n"
     ]
    },
    {
     "name": "stdout",
     "output_type": "stream",
     "text": [
      "\n",
      "--- Trial 1 Results ---\n",
      "Hyperparameters:\n",
      "  hidden_channels: 128\n",
      "  num_layers: 2\n",
      "  heads: 16\n",
      "  dropout_rate: 0.46064895467319084\n",
      "  lr: 6.74975330801571e-05\n",
      "\n",
      "Current Model Architecture:\n",
      "ComplexGAT(\n",
      "  (conv1): GATConv(5, 128, heads=16)\n",
      "  (convs): ModuleList()\n",
      "  (conv_last): GATConv(2048, 128, heads=1)\n",
      "  (fc1): Linear(in_features=128, out_features=128, bias=True)\n",
      "  (fc2): Linear(in_features=128, out_features=1, bias=True)\n",
      ")\n",
      "\n",
      "Best Validation Loss for this trial: 1.08711e-02\n",
      "Best Overall Validation Loss: 1.08711e-02 (Trial 1)\n"
     ]
    },
    {
     "name": "stderr",
     "output_type": "stream",
     "text": [
      "  0%|          | 0/10 [00:00<?, ?it/s]\n",
      "Epoch 1/10:   0%|          | 0/22 [00:00<?, ?it/s]\u001b[A\n",
      "Epoch 1/10:   5%|▍         | 1/22 [00:10<03:44, 10.71s/it]\u001b[A\n",
      "Epoch 1/10:   9%|▉         | 2/22 [00:24<04:10, 12.53s/it]\u001b[A\n",
      "Epoch 1/10:  14%|█▎        | 3/22 [00:35<03:44, 11.84s/it]\u001b[A\n",
      "Epoch 1/10:  18%|█▊        | 4/22 [00:51<04:02, 13.46s/it]\u001b[A\n",
      "Epoch 1/10:  23%|██▎       | 5/22 [01:05<03:49, 13.50s/it]\u001b[A\n",
      "Epoch 1/10:  27%|██▋       | 6/22 [01:13<03:06, 11.65s/it]\u001b[A\n",
      "Epoch 1/10:  32%|███▏      | 7/22 [01:28<03:13, 12.90s/it]\u001b[A\n",
      "Epoch 1/10:  36%|███▋      | 8/22 [01:40<02:56, 12.60s/it]\u001b[A\n",
      "Epoch 1/10:  41%|████      | 9/22 [01:50<02:31, 11.65s/it]\u001b[A\n",
      "Epoch 1/10:  45%|████▌     | 10/22 [02:01<02:17, 11.42s/it]\u001b[A\n",
      "Epoch 1/10:  50%|█████     | 11/22 [02:12<02:06, 11.48s/it]\u001b[A\n",
      "Epoch 1/10:  55%|█████▍    | 12/22 [02:25<01:59, 11.97s/it]\u001b[A\n",
      "Epoch 1/10:  59%|█████▉    | 13/22 [02:40<01:54, 12.73s/it]\u001b[A\n",
      "Epoch 1/10:  64%|██████▎   | 14/22 [02:53<01:43, 12.94s/it]\u001b[A\n",
      "Epoch 1/10:  68%|██████▊   | 15/22 [03:06<01:29, 12.85s/it]\u001b[A\n",
      "Epoch 1/10:  73%|███████▎  | 16/22 [03:20<01:19, 13.18s/it]\u001b[A\n",
      "Epoch 1/10:  77%|███████▋  | 17/22 [03:35<01:08, 13.72s/it]\u001b[A\n",
      "Epoch 1/10:  82%|████████▏ | 18/22 [03:47<00:52, 13.19s/it]\u001b[A\n",
      "Epoch 1/10:  86%|████████▋ | 19/22 [03:59<00:38, 12.98s/it]\u001b[A\n",
      "Epoch 1/10:  91%|█████████ | 20/22 [04:13<00:26, 13.23s/it]\u001b[A\n",
      "Epoch 1/10:  95%|█████████▌| 21/22 [04:25<00:13, 13.03s/it]\u001b[A\n",
      "Epoch 1/10: 100%|██████████| 22/22 [04:35<00:00, 11.84s/it]\u001b[A\n",
      " 10%|█         | 1/10 [05:00<45:04, 300.50s/it]            \u001b[A\n",
      "Epoch 2/10:   0%|          | 0/22 [00:00<?, ?it/s]\u001b[A\n",
      "Epoch 2/10:   5%|▍         | 1/22 [00:09<03:18,  9.44s/it]\u001b[A\n",
      "Epoch 2/10:   9%|▉         | 2/22 [00:23<04:04, 12.21s/it]\u001b[A\n",
      "Epoch 2/10:  14%|█▎        | 3/22 [00:36<03:59, 12.59s/it]\u001b[A\n",
      "Epoch 2/10:  18%|█▊        | 4/22 [00:51<04:02, 13.47s/it]\u001b[A\n",
      "Epoch 2/10:  23%|██▎       | 5/22 [01:03<03:41, 13.00s/it]\u001b[A\n",
      "Epoch 2/10:  27%|██▋       | 6/22 [01:16<03:29, 13.12s/it]\u001b[A\n",
      "Epoch 2/10:  32%|███▏      | 7/22 [01:31<03:25, 13.69s/it]\u001b[A\n",
      "Epoch 2/10:  36%|███▋      | 8/22 [01:44<03:05, 13.22s/it]\u001b[A\n",
      "Epoch 2/10:  41%|████      | 9/22 [01:53<02:36, 12.01s/it]\u001b[A\n",
      "Epoch 2/10:  45%|████▌     | 10/22 [02:07<02:33, 12.78s/it]\u001b[A\n",
      "Epoch 2/10:  50%|█████     | 11/22 [02:20<02:20, 12.74s/it]\u001b[A\n",
      "Epoch 2/10:  55%|█████▍    | 12/22 [02:29<01:54, 11.50s/it]\u001b[A\n",
      "Epoch 2/10:  59%|█████▉    | 13/22 [02:41<01:46, 11.83s/it]\u001b[A\n",
      "Epoch 2/10:  64%|██████▎   | 14/22 [02:55<01:40, 12.54s/it]\u001b[A\n",
      "Epoch 2/10:  68%|██████▊   | 15/22 [03:12<01:35, 13.61s/it]\u001b[A\n",
      "Epoch 2/10:  73%|███████▎  | 16/22 [03:24<01:18, 13.13s/it]\u001b[A\n",
      "Epoch 2/10:  77%|███████▋  | 17/22 [03:36<01:04, 12.97s/it]\u001b[A\n",
      "Epoch 2/10:  82%|████████▏ | 18/22 [03:49<00:51, 12.85s/it]\u001b[A\n",
      "Epoch 2/10:  86%|████████▋ | 19/22 [04:05<00:41, 13.74s/it]\u001b[A\n",
      "Epoch 2/10:  91%|█████████ | 20/22 [04:16<00:26, 13.18s/it]\u001b[A\n",
      "Epoch 2/10:  95%|█████████▌| 21/22 [04:26<00:11, 11.99s/it]\u001b[A\n",
      "Epoch 2/10: 100%|██████████| 22/22 [04:34<00:00, 11.04s/it]\u001b[A\n",
      " 20%|██        | 2/10 [10:00<40:03, 300.39s/it]            \u001b[A\n",
      "Epoch 3/10:   0%|          | 0/22 [00:00<?, ?it/s]\u001b[A\n",
      "Epoch 3/10:   5%|▍         | 1/22 [00:15<05:31, 15.77s/it]\u001b[A\n",
      "Epoch 3/10:   9%|▉         | 2/22 [00:31<05:10, 15.52s/it]\u001b[A\n",
      "Epoch 3/10:  14%|█▎        | 3/22 [00:46<04:57, 15.64s/it]\u001b[A\n",
      "Epoch 3/10:  18%|█▊        | 4/22 [00:56<03:59, 13.30s/it]\u001b[A\n",
      "Epoch 3/10:  23%|██▎       | 5/22 [01:07<03:31, 12.47s/it]\u001b[A\n",
      "Epoch 3/10:  27%|██▋       | 6/22 [01:19<03:17, 12.35s/it]\u001b[A\n",
      "Epoch 3/10:  32%|███▏      | 7/22 [01:30<02:58, 11.87s/it]\u001b[A\n",
      "Epoch 3/10:  36%|███▋      | 8/22 [01:44<02:55, 12.56s/it]\u001b[A\n",
      "Epoch 3/10:  41%|████      | 9/22 [01:55<02:35, 11.95s/it]\u001b[A\n",
      "Epoch 3/10:  45%|████▌     | 10/22 [02:08<02:28, 12.41s/it]\u001b[A\n",
      "Epoch 3/10:  50%|█████     | 11/22 [02:21<02:18, 12.61s/it]\u001b[A\n",
      "Epoch 3/10:  55%|█████▍    | 12/22 [02:35<02:09, 12.97s/it]\u001b[A\n",
      "Epoch 3/10:  59%|█████▉    | 13/22 [02:45<01:49, 12.15s/it]\u001b[A\n",
      "Epoch 3/10:  64%|██████▎   | 14/22 [02:57<01:36, 12.09s/it]\u001b[A\n",
      "Epoch 3/10:  68%|██████▊   | 15/22 [03:10<01:25, 12.19s/it]\u001b[A\n",
      "Epoch 3/10:  73%|███████▎  | 16/22 [03:21<01:11, 11.91s/it]\u001b[A\n",
      "Epoch 3/10:  77%|███████▋  | 17/22 [03:34<01:01, 12.35s/it]\u001b[A\n",
      "Epoch 3/10:  82%|████████▏ | 18/22 [03:46<00:48, 12.12s/it]\u001b[A\n",
      "Epoch 3/10:  86%|████████▋ | 19/22 [03:59<00:37, 12.45s/it]\u001b[A\n",
      "Epoch 3/10:  91%|█████████ | 20/22 [04:10<00:24, 12.11s/it]\u001b[A\n",
      "Epoch 3/10:  95%|█████████▌| 21/22 [04:21<00:11, 11.69s/it]\u001b[A\n",
      "Epoch 3/10: 100%|██████████| 22/22 [04:34<00:00, 12.10s/it]\u001b[A\n",
      " 30%|███       | 3/10 [15:00<35:01, 300.24s/it]            \u001b[A\n",
      "Epoch 4/10:   0%|          | 0/22 [00:00<?, ?it/s]\u001b[A\n",
      "Epoch 4/10:   5%|▍         | 1/22 [00:12<04:15, 12.19s/it]\u001b[A\n",
      "Epoch 4/10:   9%|▉         | 2/22 [00:24<04:07, 12.40s/it]\u001b[A\n",
      "Epoch 4/10:  14%|█▎        | 3/22 [00:36<03:47, 11.97s/it]\u001b[A\n",
      "Epoch 4/10:  18%|█▊        | 4/22 [00:50<03:52, 12.93s/it]\u001b[A\n",
      "Epoch 4/10:  23%|██▎       | 5/22 [01:01<03:30, 12.36s/it]\u001b[A\n",
      "Epoch 4/10:  27%|██▋       | 6/22 [01:14<03:19, 12.47s/it]\u001b[A\n",
      "Epoch 4/10:  32%|███▏      | 7/22 [01:26<03:05, 12.38s/it]\u001b[A\n",
      "Epoch 4/10:  36%|███▋      | 8/22 [01:40<02:57, 12.69s/it]\u001b[A\n",
      "Epoch 4/10:  41%|████      | 9/22 [01:51<02:40, 12.31s/it]\u001b[A\n",
      "Epoch 4/10:  45%|████▌     | 10/22 [02:03<02:25, 12.11s/it]\u001b[A\n",
      "Epoch 4/10:  50%|█████     | 11/22 [02:17<02:18, 12.63s/it]\u001b[A\n",
      "Epoch 4/10:  55%|█████▍    | 12/22 [02:31<02:10, 13.02s/it]\u001b[A\n",
      "Epoch 4/10:  59%|█████▉    | 13/22 [02:43<01:55, 12.82s/it]\u001b[A\n",
      "Epoch 4/10:  64%|██████▎   | 14/22 [02:57<01:45, 13.25s/it]\u001b[A\n",
      "Epoch 4/10:  68%|██████▊   | 15/22 [03:10<01:32, 13.22s/it]\u001b[A\n",
      "Epoch 4/10:  73%|███████▎  | 16/22 [03:22<01:16, 12.72s/it]\u001b[A\n",
      "Epoch 4/10:  77%|███████▋  | 17/22 [03:35<01:04, 12.87s/it]\u001b[A\n",
      "Epoch 4/10:  82%|████████▏ | 18/22 [03:46<00:48, 12.18s/it]\u001b[A\n",
      "Epoch 4/10:  86%|████████▋ | 19/22 [03:57<00:35, 11.82s/it]\u001b[A\n",
      "Epoch 4/10:  91%|█████████ | 20/22 [04:08<00:23, 11.61s/it]\u001b[A\n",
      "Epoch 4/10:  95%|█████████▌| 21/22 [04:20<00:11, 11.69s/it]\u001b[A\n",
      "Epoch 4/10: 100%|██████████| 22/22 [04:34<00:00, 12.63s/it]\u001b[A\n",
      " 40%|████      | 4/10 [20:01<30:01, 300.29s/it]            \u001b[A\n",
      "Epoch 5/10:   0%|          | 0/22 [00:00<?, ?it/s]\u001b[A\n",
      "Epoch 5/10:   5%|▍         | 1/22 [00:12<04:18, 12.30s/it]\u001b[A\n",
      "Epoch 5/10:   9%|▉         | 2/22 [00:23<03:57, 11.86s/it]\u001b[A\n",
      "Epoch 5/10:  14%|█▎        | 3/22 [00:35<03:45, 11.84s/it]\u001b[A\n",
      "Epoch 5/10:  18%|█▊        | 4/22 [00:47<03:31, 11.76s/it]\u001b[A\n",
      "Epoch 5/10:  23%|██▎       | 5/22 [01:04<03:51, 13.65s/it]\u001b[A\n",
      "Epoch 5/10:  27%|██▋       | 6/22 [01:19<03:46, 14.15s/it]\u001b[A\n",
      "Epoch 5/10:  32%|███▏      | 7/22 [01:32<03:27, 13.83s/it]\u001b[A\n",
      "Epoch 5/10:  36%|███▋      | 8/22 [01:45<03:08, 13.49s/it]\u001b[A\n",
      "Epoch 5/10:  41%|████      | 9/22 [01:54<02:35, 11.98s/it]\u001b[A\n",
      "Epoch 5/10:  45%|████▌     | 10/22 [02:04<02:17, 11.48s/it]\u001b[A\n",
      "Epoch 5/10:  50%|█████     | 11/22 [02:17<02:11, 11.97s/it]\u001b[A\n",
      "Epoch 5/10:  55%|█████▍    | 12/22 [02:30<02:02, 12.29s/it]\u001b[A\n",
      "Epoch 5/10:  59%|█████▉    | 13/22 [02:42<01:48, 12.10s/it]\u001b[A\n",
      "Epoch 5/10:  64%|██████▎   | 14/22 [02:53<01:36, 12.02s/it]\u001b[A\n",
      "Epoch 5/10:  68%|██████▊   | 15/22 [03:04<01:21, 11.69s/it]\u001b[A\n",
      "Epoch 5/10:  73%|███████▎  | 16/22 [03:22<01:20, 13.47s/it]\u001b[A\n",
      "Epoch 5/10:  77%|███████▋  | 17/22 [03:33<01:03, 12.76s/it]\u001b[A\n",
      "Epoch 5/10:  82%|████████▏ | 18/22 [03:42<00:46, 11.65s/it]\u001b[A\n",
      "Epoch 5/10:  86%|████████▋ | 19/22 [03:55<00:35, 11.93s/it]\u001b[A\n",
      "Epoch 5/10:  91%|█████████ | 20/22 [04:08<00:24, 12.20s/it]\u001b[A\n",
      "Epoch 5/10:  95%|█████████▌| 21/22 [04:24<00:13, 13.36s/it]\u001b[A\n",
      "Epoch 5/10: 100%|██████████| 22/22 [04:35<00:00, 12.66s/it]\u001b[A\n",
      " 50%|█████     | 5/10 [25:01<25:01, 300.39s/it]            \u001b[A\n",
      "Epoch 6/10:   0%|          | 0/22 [00:00<?, ?it/s]\u001b[A\n",
      "Epoch 6/10:   5%|▍         | 1/22 [00:10<03:48, 10.90s/it]\u001b[A\n",
      "Epoch 6/10:   9%|▉         | 2/22 [00:23<03:56, 11.82s/it]\u001b[A\n",
      "Epoch 6/10:  14%|█▎        | 3/22 [00:39<04:24, 13.94s/it]\u001b[A\n",
      "Epoch 6/10:  18%|█▊        | 4/22 [00:54<04:12, 14.05s/it]\u001b[A\n",
      "Epoch 6/10:  23%|██▎       | 5/22 [01:04<03:38, 12.88s/it]\u001b[A\n",
      "Epoch 6/10:  27%|██▋       | 6/22 [01:16<03:19, 12.49s/it]\u001b[A\n",
      "Epoch 6/10:  32%|███▏      | 7/22 [01:31<03:17, 13.18s/it]\u001b[A\n",
      "Epoch 6/10:  36%|███▋      | 8/22 [01:44<03:04, 13.15s/it]\u001b[A\n",
      "Epoch 6/10:  41%|████      | 9/22 [01:55<02:43, 12.58s/it]\u001b[A\n",
      "Epoch 6/10:  45%|████▌     | 10/22 [02:05<02:21, 11.77s/it]\u001b[A\n",
      "Epoch 6/10:  50%|█████     | 11/22 [02:18<02:13, 12.17s/it]\u001b[A\n",
      "Epoch 6/10:  55%|█████▍    | 12/22 [02:31<02:03, 12.35s/it]\u001b[A\n",
      "Epoch 6/10:  59%|█████▉    | 13/22 [02:42<01:48, 12.04s/it]\u001b[A\n",
      "Epoch 6/10:  64%|██████▎   | 14/22 [02:57<01:42, 12.77s/it]\u001b[A\n",
      "Epoch 6/10:  68%|██████▊   | 15/22 [03:11<01:32, 13.16s/it]\u001b[A\n",
      "Epoch 6/10:  73%|███████▎  | 16/22 [03:26<01:22, 13.77s/it]\u001b[A\n",
      "Epoch 6/10:  77%|███████▋  | 17/22 [03:41<01:10, 14.02s/it]\u001b[A\n",
      "Epoch 6/10:  82%|████████▏ | 18/22 [03:52<00:53, 13.29s/it]\u001b[A\n",
      "Epoch 6/10:  86%|████████▋ | 19/22 [04:02<00:36, 12.27s/it]\u001b[A\n",
      "Epoch 6/10:  91%|█████████ | 20/22 [04:15<00:25, 12.54s/it]\u001b[A\n",
      "Epoch 6/10:  95%|█████████▌| 21/22 [04:25<00:11, 11.83s/it]\u001b[A\n",
      "Epoch 6/10: 100%|██████████| 22/22 [04:35<00:00, 11.04s/it]\u001b[A\n",
      " 60%|██████    | 6/10 [30:02<20:01, 300.41s/it]            \u001b[A\n",
      "Epoch 7/10:   0%|          | 0/22 [00:00<?, ?it/s]\u001b[A\n",
      "Epoch 7/10:   5%|▍         | 1/22 [00:10<03:31, 10.10s/it]\u001b[A\n",
      "Epoch 7/10:   9%|▉         | 2/22 [00:20<03:28, 10.43s/it]\u001b[A\n",
      "Epoch 7/10:  14%|█▎        | 3/22 [00:34<03:47, 11.96s/it]\u001b[A\n",
      "Epoch 7/10:  18%|█▊        | 4/22 [00:49<03:56, 13.12s/it]\u001b[A\n",
      "Epoch 7/10:  23%|██▎       | 5/22 [01:02<03:43, 13.15s/it]\u001b[A\n",
      "Epoch 7/10:  27%|██▋       | 6/22 [01:11<03:09, 11.82s/it]\u001b[A\n",
      "Epoch 7/10:  32%|███▏      | 7/22 [01:23<02:58, 11.88s/it]\u001b[A\n",
      "Epoch 7/10:  36%|███▋      | 8/22 [01:37<02:53, 12.40s/it]\u001b[A\n",
      "Epoch 7/10:  41%|████      | 9/22 [01:51<02:46, 12.84s/it]\u001b[A\n",
      "Epoch 7/10:  45%|████▌     | 10/22 [02:04<02:34, 12.90s/it]\u001b[A\n",
      "Epoch 7/10:  50%|█████     | 11/22 [02:17<02:24, 13.13s/it]\u001b[A\n",
      "Epoch 7/10:  55%|█████▍    | 12/22 [02:28<02:04, 12.48s/it]\u001b[A\n",
      "Epoch 7/10:  59%|█████▉    | 13/22 [02:41<01:53, 12.61s/it]\u001b[A\n",
      "Epoch 7/10:  64%|██████▎   | 14/22 [02:53<01:38, 12.31s/it]\u001b[A\n",
      "Epoch 7/10:  68%|██████▊   | 15/22 [03:07<01:29, 12.78s/it]\u001b[A\n",
      "Epoch 7/10:  73%|███████▎  | 16/22 [03:21<01:18, 13.07s/it]\u001b[A\n",
      "Epoch 7/10:  77%|███████▋  | 17/22 [03:37<01:10, 14.04s/it]\u001b[A\n",
      "Epoch 7/10:  82%|████████▏ | 18/22 [03:50<00:55, 13.81s/it]\u001b[A\n",
      "Epoch 7/10:  86%|████████▋ | 19/22 [04:00<00:37, 12.64s/it]\u001b[A\n",
      "Epoch 7/10:  91%|█████████ | 20/22 [04:13<00:25, 12.73s/it]\u001b[A\n",
      "Epoch 7/10:  95%|█████████▌| 21/22 [04:25<00:12, 12.55s/it]\u001b[A\n",
      "Epoch 7/10: 100%|██████████| 22/22 [04:35<00:00, 11.69s/it]\u001b[A\n",
      " 70%|███████   | 7/10 [35:02<15:01, 300.49s/it]            \u001b[A\n",
      "Epoch 8/10:   0%|          | 0/22 [00:00<?, ?it/s]\u001b[A\n",
      "Epoch 8/10:   5%|▍         | 1/22 [00:15<05:19, 15.19s/it]\u001b[A\n",
      "Epoch 8/10:   9%|▉         | 2/22 [00:27<04:27, 13.38s/it]\u001b[A\n",
      "Epoch 8/10:  14%|█▎        | 3/22 [00:37<03:46, 11.90s/it]\u001b[A\n",
      "Epoch 8/10:  18%|█▊        | 4/22 [00:49<03:35, 11.96s/it]\u001b[A\n",
      "Epoch 8/10:  23%|██▎       | 5/22 [01:01<03:22, 11.90s/it]\u001b[A\n",
      "Epoch 8/10:  27%|██▋       | 6/22 [01:12<03:06, 11.64s/it]\u001b[A\n",
      "Epoch 8/10:  32%|███▏      | 7/22 [01:22<02:46, 11.10s/it]\u001b[A\n",
      "Epoch 8/10:  36%|███▋      | 8/22 [01:35<02:42, 11.60s/it]\u001b[A\n",
      "Epoch 8/10:  41%|████      | 9/22 [01:48<02:37, 12.08s/it]\u001b[A\n",
      "Epoch 8/10:  45%|████▌     | 10/22 [02:01<02:31, 12.58s/it]\u001b[A\n",
      "Epoch 8/10:  50%|█████     | 11/22 [02:14<02:16, 12.44s/it]\u001b[A\n",
      "Epoch 8/10:  55%|█████▍    | 12/22 [02:25<02:00, 12.06s/it]\u001b[A\n",
      "Epoch 8/10:  59%|█████▉    | 13/22 [02:39<01:55, 12.86s/it]\u001b[A\n",
      "Epoch 8/10:  64%|██████▎   | 14/22 [02:51<01:39, 12.41s/it]\u001b[A\n",
      "Epoch 8/10:  68%|██████▊   | 15/22 [03:03<01:27, 12.44s/it]\u001b[A\n",
      "Epoch 8/10:  73%|███████▎  | 16/22 [03:17<01:17, 12.88s/it]\u001b[A\n",
      "Epoch 8/10:  77%|███████▋  | 17/22 [03:29<01:03, 12.64s/it]\u001b[A\n",
      "Epoch 8/10:  82%|████████▏ | 18/22 [03:41<00:50, 12.51s/it]\u001b[A\n",
      "Epoch 8/10:  86%|████████▋ | 19/22 [03:57<00:40, 13.50s/it]\u001b[A\n",
      "Epoch 8/10:  91%|█████████ | 20/22 [04:12<00:27, 13.98s/it]\u001b[A\n",
      "Epoch 8/10:  95%|█████████▌| 21/22 [04:23<00:13, 13.09s/it]\u001b[A\n",
      "Epoch 8/10: 100%|██████████| 22/22 [04:35<00:00, 12.52s/it]\u001b[A\n",
      " 80%|████████  | 8/10 [40:03<10:00, 300.48s/it]            \u001b[A\n",
      "Epoch 9/10:   0%|          | 0/22 [00:00<?, ?it/s]\u001b[A\n",
      "Epoch 9/10:   5%|▍         | 1/22 [00:12<04:27, 12.74s/it]\u001b[A\n",
      "Epoch 9/10:   9%|▉         | 2/22 [00:25<04:12, 12.61s/it]\u001b[A\n",
      "Epoch 9/10:  14%|█▎        | 3/22 [00:37<03:58, 12.53s/it]\u001b[A\n",
      "Epoch 9/10:  18%|█▊        | 4/22 [00:47<03:28, 11.61s/it]\u001b[A\n",
      "Epoch 9/10:  23%|██▎       | 5/22 [00:59<03:14, 11.44s/it]\u001b[A\n",
      "Epoch 9/10:  27%|██▋       | 6/22 [01:14<03:25, 12.86s/it]\u001b[A\n",
      "Epoch 9/10:  32%|███▏      | 7/22 [01:28<03:17, 13.14s/it]\u001b[A\n",
      "Epoch 9/10:  36%|███▋      | 8/22 [01:42<03:10, 13.61s/it]\u001b[A\n",
      "Epoch 9/10:  41%|████      | 9/22 [01:53<02:45, 12.71s/it]\u001b[A\n",
      "Epoch 9/10:  45%|████▌     | 10/22 [02:08<02:39, 13.31s/it]\u001b[A\n",
      "Epoch 9/10:  50%|█████     | 11/22 [02:19<02:19, 12.67s/it]\u001b[A\n",
      "Epoch 9/10:  55%|█████▍    | 12/22 [02:31<02:03, 12.35s/it]\u001b[A\n",
      "Epoch 9/10:  59%|█████▉    | 13/22 [02:44<01:54, 12.69s/it]\u001b[A\n",
      "Epoch 9/10:  64%|██████▎   | 14/22 [02:59<01:46, 13.26s/it]\u001b[A\n",
      "Epoch 9/10:  68%|██████▊   | 15/22 [03:14<01:35, 13.71s/it]\u001b[A\n",
      "Epoch 9/10:  73%|███████▎  | 16/22 [03:25<01:17, 12.91s/it]\u001b[A\n",
      "Epoch 9/10:  77%|███████▋  | 17/22 [03:36<01:03, 12.61s/it]\u001b[A\n",
      "Epoch 9/10:  82%|████████▏ | 18/22 [03:47<00:48, 12.12s/it]\u001b[A\n",
      "Epoch 9/10:  86%|████████▋ | 19/22 [03:59<00:35, 11.86s/it]\u001b[A\n",
      "Epoch 9/10:  91%|█████████ | 20/22 [04:09<00:22, 11.48s/it]\u001b[A\n",
      "Epoch 9/10:  95%|█████████▌| 21/22 [04:22<00:11, 11.86s/it]\u001b[A\n",
      "Epoch 9/10: 100%|██████████| 22/22 [04:35<00:00, 12.06s/it]\u001b[A\n",
      " 90%|█████████ | 9/10 [45:03<05:00, 300.51s/it]            \u001b[A\n",
      "Epoch 10/10:   0%|          | 0/22 [00:00<?, ?it/s]\u001b[A\n",
      "Epoch 10/10:   5%|▍         | 1/22 [00:10<03:49, 10.94s/it]\u001b[A\n",
      "Epoch 10/10:   9%|▉         | 2/22 [00:23<04:01, 12.10s/it]\u001b[A\n",
      "Epoch 10/10:  14%|█▎        | 3/22 [00:38<04:13, 13.37s/it]\u001b[A\n",
      "Epoch 10/10:  18%|█▊        | 4/22 [00:50<03:46, 12.58s/it]\u001b[A\n",
      "Epoch 10/10:  23%|██▎       | 5/22 [01:04<03:42, 13.08s/it]\u001b[A"
     ]
    }
   ],
   "source": [
    "# Set up the study\n",
    "study_name = 'astrid_gnn_optimization'\n",
    "n_trials = 50  # Total number of trials to run (including previous ones if resuming)\n",
    "n_jobs = 1\n",
    "\n",
    "device = torch.device('cuda' if torch.cuda.is_available() else 'cpu')\n",
    "\n",
    "# Define the directory for saving files\n",
    "save_dir = '/scratch/gpfs/hk4638/astrid_optimization/'\n",
    "os.makedirs(save_dir, exist_ok=True)\n",
    "\n",
    "# Set up the storage\n",
    "storage_name = os.path.join(save_dir, 'astrid_study.db')\n",
    "storage = optuna.storages.RDBStorage(\n",
    "    url=f\"sqlite:///{storage_name}\",\n",
    "    engine_kwargs={\"connect_args\": {\"timeout\": 100}}\n",
    ")\n",
    "\n",
    "# Check if the study already exists\n",
    "try:\n",
    "    study = optuna.load_study(study_name=study_name, storage=storage)\n",
    "    print(f\"Resuming optimization from existing study '{study_name}'\")\n",
    "    print(f\"Number of completed trials: {len(study.trials)}\")\n",
    "except KeyError:\n",
    "    # If the study doesn't exist, create a new one\n",
    "    study = optuna.create_study(study_name=study_name, storage=storage, \n",
    "                                sampler=optuna.samplers.TPESampler(n_startup_trials=10),\n",
    "                                direction='minimize')\n",
    "    print(f\"Created new study '{study_name}'\")\n",
    "\n",
    "# Create the objective\n",
    "objective = Objective(num_features=normalized_data_list[0].num_node_features, device=device, epochs=10, \n",
    "                      train_loader=train_loader, val_loader=val_loader)\n",
    "\n",
    "# Calculate the number of trials to run\n",
    "n_trials_to_run = max(0, n_trials - len(study.trials))\n",
    "\n",
    "if n_trials_to_run > 0:\n",
    "    print(f\"Running {n_trials_to_run} additional trials...\")\n",
    "    study.optimize(objective, n_trials=n_trials_to_run, n_jobs=n_jobs)\n",
    "else:\n",
    "    print(\"No additional trials to run. The study has already completed the specified number of trials.\")\n",
    "\n"
   ]
  },
  {
   "cell_type": "code",
   "execution_count": 36,
   "metadata": {},
   "outputs": [],
   "source": [
    "'''\n",
    "import os\n",
    "import optuna\n",
    "\n",
    "def reset_optuna_database(study_name, storage_path):\n",
    "    \"\"\"\n",
    "    Reset the Optuna database by deleting the existing file and creating a new study.\n",
    "    \n",
    "    Args:\n",
    "    study_name (str): The name of the study.\n",
    "    storage_path (str): The path to the SQLite database file.\n",
    "    \n",
    "    Returns:\n",
    "    optuna.Study: A new Optuna study object.\n",
    "    \"\"\"\n",
    "    # Check if the database file exists\n",
    "    if os.path.exists(storage_path):\n",
    "        # Confirm with the user before deleting\n",
    "        confirm = input(f\"Are you sure you want to delete the existing study '{study_name}'? (y/n): \")\n",
    "        if confirm.lower() == 'y':\n",
    "            # Delete the existing database file\n",
    "            os.remove(storage_path)\n",
    "            print(f\"Deleted existing database: {storage_path}\")\n",
    "        else:\n",
    "            print(\"Database reset cancelled.\")\n",
    "            return None\n",
    "    \n",
    "    print(f\"Created new study '{study_name}' at {storage_path}\")\n",
    "    return study\n",
    "'''"
   ]
  },
  {
   "cell_type": "code",
   "execution_count": 37,
   "metadata": {},
   "outputs": [
    {
     "name": "stdin",
     "output_type": "stream",
     "text": [
      "Are you sure you want to delete the existing study 'astrid_gnn_optimization'? (y/n):  y\n"
     ]
    },
    {
     "name": "stdout",
     "output_type": "stream",
     "text": [
      "Deleted existing database: /scratch/gpfs/hk4638/astrid_optimization/astrid_study.db\n",
      "Created new study 'astrid_gnn_optimization' at /scratch/gpfs/hk4638/astrid_optimization/astrid_study.db\n"
     ]
    }
   ],
   "source": [
    "'''\n",
    "# Set up the study\n",
    "study_name = 'astrid_gnn_optimization'\n",
    "storage_path = '/scratch/gpfs/hk4638/astrid_optimization/astrid_study.db'\n",
    "\n",
    "# Reset the database if desired\n",
    "study = reset_optuna_database(study_name, storage_path)\n",
    "'''"
   ]
  },
  {
   "cell_type": "markdown",
   "metadata": {
    "id": "R0jimGzhBHUd"
   },
   "source": [
    "# Evaluating Model"
   ]
  },
  {
   "cell_type": "code",
   "execution_count": 24,
   "metadata": {},
   "outputs": [],
   "source": [
    "in_channels = normalized_data_list[0].num_node_features\n",
    "hidden_channels = 128\n",
    "num_layers = 3\n",
    "heads = 4\n",
    "dropout_rate = 0.4\n",
    "model = ComplexGAT(in_channels, hidden_channels, num_layers, heads, dropout_rate)\n",
    "model.load_state_dict(torch.load('/home/hk4638/ondemand/data/sys/AstridLH/best_model.pth'))\n",
    "device = torch.device('cuda' if torch.cuda.is_available() else 'cpu')\n",
    "trained_model = model"
   ]
  },
  {
   "cell_type": "code",
   "execution_count": 27,
   "metadata": {
    "id": "PJGIkgQzA-K8"
   },
   "outputs": [
    {
     "name": "stderr",
     "output_type": "stream",
     "text": [
      "Evaluating: 100%|██████████| 5/5 [00:05<00:00,  1.08s/it]\n"
     ]
    },
    {
     "name": "stdout",
     "output_type": "stream",
     "text": [
      "Test MSE: 0.0047, Test R2: 0.6252\n"
     ]
    },
    {
     "data": {
      "image/png": "[encoded data removed]",
      "text/plain": [
       "<Figure size 1000x600 with 1 Axes>"
      ]
     },
     "metadata": {},
     "output_type": "display_data"
    }
   ],
   "source": [
    "# Evaluate model\n",
    "import matplotlib.pyplot as plt\n",
    "test_predictions, test_true = evaluate_model(trained_model, test_loader, device)\n",
    "\n",
    "# Plot results\n",
    "plt.figure(figsize=(10, 6))\n",
    "plt.scatter(test_true, test_predictions, alpha=0.5)\n",
    "plt.plot([min(test_true), max(test_true)], [min(test_true), max(test_true)], 'r--', lw=2)\n",
    "plt.xlabel('True $\\Omega_{m}$')\n",
    "plt.ylabel('Predicted $\\Omega_{m}$')\n",
    "plt.title('True vs Predicted $\\Omega_{m}$')\n",
    "plt.show()"
   ]
  },
  {
   "cell_type": "code",
   "execution_count": null,
   "metadata": {},
   "outputs": [],
   "source": []
  }
 ],
 "metadata": {
  "accelerator": "GPU",
  "colab": {
   "gpuType": "A100",
   "machine_shape": "hm",
   "provenance": []
  },
  "kernelspec": {
   "display_name": "astridenv [~/.conda/envs/astridenv/]",
   "language": "python",
   "name": "conda_astridenv"
  },
  "language_info": {
   "codemirror_mode": {
    "name": "ipython",
    "version": 3
   },
   "file_extension": ".py",
   "mimetype": "text/x-python",
   "name": "python",
   "nbconvert_exporter": "python",
   "pygments_lexer": "ipython3",
   "version": "3.10.14"
  }
 },
 "nbformat": 4,
 "nbformat_minor": 4
}

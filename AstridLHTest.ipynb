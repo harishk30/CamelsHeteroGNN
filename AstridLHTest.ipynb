{
  "cells": [
    {
      "cell_type": "markdown",
      "metadata": {
        "id": "view-in-github",
        "colab_type": "text"
      },
      "source": [
        "<a href=\"https://colab.research.google.com/github/harishk30/CamelsHetroGNN/blob/main/AstridLHTest.ipynb\" target=\"_parent\"><img src=\"https://colab.research.google.com/assets/colab-badge.svg\" alt=\"Open In Colab\"/></a>"
      ]
    },
    {
      "cell_type": "code",
      "execution_count": 2,
      "metadata": {
        "colab": {
          "base_uri": "https://localhost:8080/"
        },
        "id": "90wz8D6UuSs9",
        "outputId": "9210b444-e2fa-40c2-bcf1-91612e2a9497"
      },
      "outputs": [
        {
          "output_type": "stream",
          "name": "stdout",
          "text": [
            "Requirement already satisfied: torch_geometric in /usr/local/lib/python3.10/dist-packages (2.5.3)\n",
            "Requirement already satisfied: tqdm in /usr/local/lib/python3.10/dist-packages (from torch_geometric) (4.66.5)\n",
            "Requirement already satisfied: numpy in /usr/local/lib/python3.10/dist-packages (from torch_geometric) (1.26.4)\n",
            "Requirement already satisfied: scipy in /usr/local/lib/python3.10/dist-packages (from torch_geometric) (1.13.1)\n",
            "Requirement already satisfied: fsspec in /usr/local/lib/python3.10/dist-packages (from torch_geometric) (2024.6.1)\n",
            "Requirement already satisfied: jinja2 in /usr/local/lib/python3.10/dist-packages (from torch_geometric) (3.1.4)\n",
            "Requirement already satisfied: aiohttp in /usr/local/lib/python3.10/dist-packages (from torch_geometric) (3.10.1)\n",
            "Requirement already satisfied: requests in /usr/local/lib/python3.10/dist-packages (from torch_geometric) (2.32.3)\n",
            "Requirement already satisfied: pyparsing in /usr/local/lib/python3.10/dist-packages (from torch_geometric) (3.1.2)\n",
            "Requirement already satisfied: scikit-learn in /usr/local/lib/python3.10/dist-packages (from torch_geometric) (1.3.2)\n",
            "Requirement already satisfied: psutil>=5.8.0 in /usr/local/lib/python3.10/dist-packages (from torch_geometric) (5.9.5)\n",
            "Requirement already satisfied: aiohappyeyeballs>=2.3.0 in /usr/local/lib/python3.10/dist-packages (from aiohttp->torch_geometric) (2.3.4)\n",
            "Requirement already satisfied: aiosignal>=1.1.2 in /usr/local/lib/python3.10/dist-packages (from aiohttp->torch_geometric) (1.3.1)\n",
            "Requirement already satisfied: attrs>=17.3.0 in /usr/local/lib/python3.10/dist-packages (from aiohttp->torch_geometric) (24.2.0)\n",
            "Requirement already satisfied: frozenlist>=1.1.1 in /usr/local/lib/python3.10/dist-packages (from aiohttp->torch_geometric) (1.4.1)\n",
            "Requirement already satisfied: multidict<7.0,>=4.5 in /usr/local/lib/python3.10/dist-packages (from aiohttp->torch_geometric) (6.0.5)\n",
            "Requirement already satisfied: yarl<2.0,>=1.0 in /usr/local/lib/python3.10/dist-packages (from aiohttp->torch_geometric) (1.9.4)\n",
            "Requirement already satisfied: async-timeout<5.0,>=4.0 in /usr/local/lib/python3.10/dist-packages (from aiohttp->torch_geometric) (4.0.3)\n",
            "Requirement already satisfied: MarkupSafe>=2.0 in /usr/local/lib/python3.10/dist-packages (from jinja2->torch_geometric) (2.1.5)\n",
            "Requirement already satisfied: charset-normalizer<4,>=2 in /usr/local/lib/python3.10/dist-packages (from requests->torch_geometric) (3.3.2)\n",
            "Requirement already satisfied: idna<4,>=2.5 in /usr/local/lib/python3.10/dist-packages (from requests->torch_geometric) (3.7)\n",
            "Requirement already satisfied: urllib3<3,>=1.21.1 in /usr/local/lib/python3.10/dist-packages (from requests->torch_geometric) (2.0.7)\n",
            "Requirement already satisfied: certifi>=2017.4.17 in /usr/local/lib/python3.10/dist-packages (from requests->torch_geometric) (2024.7.4)\n",
            "Requirement already satisfied: joblib>=1.1.1 in /usr/local/lib/python3.10/dist-packages (from scikit-learn->torch_geometric) (1.4.2)\n",
            "Requirement already satisfied: threadpoolctl>=2.0.0 in /usr/local/lib/python3.10/dist-packages (from scikit-learn->torch_geometric) (3.5.0)\n"
          ]
        }
      ],
      "source": [
        "pip install torch_geometric"
      ]
    },
    {
      "cell_type": "code",
      "execution_count": 3,
      "metadata": {
        "id": "JlLkEWbmiyYj"
      },
      "outputs": [],
      "source": [
        "import numpy as np\n",
        "import h5py"
      ]
    },
    {
      "cell_type": "code",
      "execution_count": 4,
      "metadata": {
        "colab": {
          "base_uri": "https://localhost:8080/"
        },
        "id": "T5y4nEnfSfbv",
        "outputId": "45a5b594-f441-42fc-ced6-b4183ca19a73"
      },
      "outputs": [
        {
          "output_type": "stream",
          "name": "stdout",
          "text": [
            "Drive already mounted at /content/drive; to attempt to forcibly remount, call drive.mount(\"/content/drive\", force_remount=True).\n"
          ]
        }
      ],
      "source": [
        "from google.colab import drive\n",
        "drive.mount('/content/drive')"
      ]
    },
    {
      "cell_type": "code",
      "execution_count": 5,
      "metadata": {
        "id": "V1stgVndkEQm"
      },
      "outputs": [],
      "source": [
        "catalog = '/content/drive/MyDrive/groups_090.hdf5'\n",
        "f = h5py.File(catalog, 'r')"
      ]
    },
    {
      "cell_type": "code",
      "execution_count": 6,
      "metadata": {
        "id": "THXTiqZQmCO0"
      },
      "outputs": [],
      "source": [
        "M_star = f['Subhalo/SubhaloMassType'][:,4]*1e10\n",
        "pos  = f['Subhalo/SubhaloPos'][:]/1e3\n",
        "vel = f['Subhalo/SubhaloVel'][:]\n",
        "met = f['Subhalo/SubhaloStarMetallicity'][:]"
      ]
    },
    {
      "cell_type": "code",
      "execution_count": 7,
      "metadata": {
        "id": "dgJ7wxu6sLUM"
      },
      "outputs": [],
      "source": [
        "def load_simulation_data(file):\n",
        "  with h5py.File(file, 'r') as f:\n",
        "    positions = f['Subhalo/SubhaloPos'][:]/1e3\n",
        "    vel = f['Subhalo/SubhaloVel'][:]\n",
        "    met = f['Subhalo/SubhaloStarMetallicity'][:]\n",
        "    mass = f['Subhalo/SubhaloMassType'][:,4]*1e10\n",
        "  return positions, vel, met, mass"
      ]
    },
    {
      "cell_type": "code",
      "execution_count": 8,
      "metadata": {
        "id": "--oaAn3kDLtU"
      },
      "outputs": [],
      "source": [
        "def apply_periodic_boundary_conditions(positions, box_size):\n",
        "    # Wrap positions to the box size\n",
        "    positions = positions % box_size\n",
        "    return positions"
      ]
    },
    {
      "cell_type": "code",
      "execution_count": 9,
      "metadata": {
        "id": "B7VnGquYDPRe"
      },
      "outputs": [],
      "source": [
        "def minimum_image_distance(pos1, pos2, box_size):\n",
        "    # Calculate the minimum image distance between two points\n",
        "    delta = np.abs(pos1 - pos2)\n",
        "    delta = np.where(delta > 0.5 * box_size, box_size - delta, delta)\n",
        "    return np.sqrt((delta ** 2).sum(axis=-1))"
      ]
    },
    {
      "cell_type": "code",
      "execution_count": 10,
      "metadata": {
        "id": "lKOyScsvstrg"
      },
      "outputs": [],
      "source": [
        "from scipy.spatial import KDTree\n",
        "\n",
        "def distance(point1, point2):\n",
        "    return np.linalg.norm(point1 - point2)\n",
        "\n",
        "def create_edges_knn(points, k=6):\n",
        "    edges = []\n",
        "    edge_value = []\n",
        "\n",
        "    # Create a KDTree for efficient nearest neighbor search\n",
        "    point_tree = KDTree(points)\n",
        "\n",
        "    for i in range(len(points)):\n",
        "        # Query the k nearest neighbors for each point\n",
        "        _, neighbors = point_tree.query(points[i], k=k+1)\n",
        "\n",
        "        for j in neighbors[1:]:  # Skip the first neighbor because it's the point itself\n",
        "            # Add an edge between the point and its neighbor\n",
        "            edges.append([i, j])\n",
        "\n",
        "            # Compute the distance between the points as the edge value\n",
        "            edge_value.append(distance(points[i], points[j]))\n",
        "\n",
        "    return [edges, edge_value]"
      ]
    },
    {
      "cell_type": "code",
      "execution_count": 11,
      "metadata": {
        "id": "ztRfbIqROn7N"
      },
      "outputs": [],
      "source": [
        "from tqdm import tqdm\n",
        "def min_distance(positions, box_size = 25):\n",
        "    min_distance = np.inf\n",
        "    max_distance = 0\n",
        "\n",
        "    # Iterate over all pairs of galaxies\n",
        "    for i in tqdm(range(len(positions))):\n",
        "        for j in range(i + 1, len(positions)):\n",
        "            dist = minimum_image_distance(positions[i], positions[j], box_size)\n",
        "            if dist < min_distance:\n",
        "                min_distance = dist\n",
        "            if dist > max_distance:\n",
        "                max_distance = dist\n",
        "\n",
        "    # Print the results\n",
        "    print(f\"Minimum distance: {min_distance} Mpc/h\")\n",
        "    print(f\"Maximum distance: {max_distance} Mpc/h\")"
      ]
    },
    {
      "cell_type": "code",
      "execution_count": 12,
      "metadata": {
        "id": "l40oy2_KRiWJ"
      },
      "outputs": [],
      "source": [
        "def minimum_image_distance_vectorized(positions, box_size = 25):\n",
        "    num_galaxies = positions.shape[0]\n",
        "\n",
        "    # Compute pairwise differences in each dimension\n",
        "    diff = positions[:, np.newaxis, :] - positions[np.newaxis, :, :]\n",
        "\n",
        "    # Apply periodic boundary conditions\n",
        "    diff = np.abs(diff)\n",
        "    diff = np.where(diff > 0.5 * box_size, box_size - diff, diff)\n",
        "\n",
        "    # Compute the Euclidean distance\n",
        "    dist = np.sqrt(np.sum(diff ** 2, axis=-1))\n",
        "\n",
        "    return dist"
      ]
    },
    {
      "cell_type": "code",
      "execution_count": 13,
      "metadata": {
        "id": "zPQB3MDzDcid"
      },
      "outputs": [],
      "source": [
        "from tqdm import tqdm\n",
        "from scipy.spatial import cKDTree\n",
        "def create_edges_knn_pbc(points, box_size = 25, k=6):\n",
        "    tree = KDTree(points, boxsize=box_size)\n",
        "\n",
        "    edges = []\n",
        "    edge_values = []\n",
        "    '''\n",
        "    distances = minimum_image_distance_vectorized(points, box_size)\n",
        "    # Mask the diagonal (self-distances which are zero)\n",
        "    np.fill_diagonal(distances, np.inf)\n",
        "    # Get the minimum and maximum distances\n",
        "    min_distance = np.min(distances)\n",
        "    max_distance = np.max(np.triu(distances, k=1))\n",
        "    print(min_distance, max_distance)\n",
        "    '''\n",
        "\n",
        "    min_distance = np.inf\n",
        "    max_distance = 0\n",
        "    large_distance_count = 0\n",
        "\n",
        "    for i in tqdm(range(len(points)), desc=\"Processing points\"):\n",
        "        distances, neighbors = tree.query(points[i], k=k+1)\n",
        "        for j, tree_dist in zip(neighbors[1:], distances[1:]):\n",
        "            if j != i and j < len(points):\n",
        "                actual_distance = minimum_image_distance(points[i], points[j], box_size)\n",
        "                edges.append([i, j])\n",
        "                edge_values.append(actual_distance)\n",
        "                min_distance = min(min_distance, actual_distance)\n",
        "                max_distance = max(max_distance, actual_distance)\n",
        "    print(min_distance, max_distance)\n",
        "    return np.array(edges), np.array(edge_values)\n"
      ]
    },
    {
      "cell_type": "code",
      "execution_count": 14,
      "metadata": {
        "id": "m5XiGu3wtkRA"
      },
      "outputs": [],
      "source": [
        "def create_points(positions, masses, vel, met):\n",
        "    point_features = []\n",
        "    for i, pos in enumerate(positions):\n",
        "        point_features.append(list(pos) + list(vel[i]) + [masses[i]] + [met[i]])\n",
        "    return point_features"
      ]
    },
    {
      "cell_type": "code",
      "execution_count": 15,
      "metadata": {
        "id": "3CE9AtwhuAKs"
      },
      "outputs": [],
      "source": [
        "from torch_geometric.data import Data\n",
        "import torch\n",
        "def create_graph(file_path, k_val=6):\n",
        "    positions, velocity, metallicities, masses = load_simulation_data(file_path)\n",
        "    edges, edge_values = create_edges_knn_pbc(positions, 25, k_val)\n",
        "    point_values = create_points(positions, masses, velocity, metallicities)\n",
        "\n",
        "    edge_index = torch.tensor(edges, dtype=torch.long).t().contiguous()\n",
        "    point_values = torch.tensor(point_values, dtype=torch.float)\n",
        "    edge_value = torch.tensor(edge_values, dtype=torch.float)\n",
        "\n",
        "    return [point_values, edge_index, edge_value]"
      ]
    },
    {
      "cell_type": "code",
      "execution_count": 16,
      "metadata": {
        "id": "mhxwN1mIub7M"
      },
      "outputs": [],
      "source": [
        "def turn_data(graph):\n",
        "    graph_data = Data(x=graph[0], edge_index=graph[1], edge_attr=graph[2])\n",
        "    return graph_data"
      ]
    },
    {
      "cell_type": "code",
      "execution_count": null,
      "metadata": {
        "colab": {
          "base_uri": "https://localhost:8080/"
        },
        "id": "h7PVsPOjukgB",
        "outputId": "032a236a-c572-411f-947c-ffb12fe79dcb"
      },
      "outputs": [
        {
          "output_type": "stream",
          "name": "stderr",
          "text": [
            "Processing points:  31%|███▏      | 6305/20082 [22:09<45:32,  5.04it/s]"
          ]
        }
      ],
      "source": [
        "graph = create_graph('/content/drive/MyDrive/groups_090.hdf5', 15000)"
      ]
    },
    {
      "cell_type": "code",
      "execution_count": 1,
      "metadata": {
        "colab": {
          "base_uri": "https://localhost:8080/",
          "height": 144
        },
        "id": "LLywIItfwd0D",
        "outputId": "3f4e11e9-77e9-4fa1-a812-7286cd4fd55b"
      },
      "outputs": [
        {
          "output_type": "error",
          "ename": "NameError",
          "evalue": "name 'turn_data' is not defined",
          "traceback": [
            "\u001b[0;31m---------------------------------------------------------------------------\u001b[0m",
            "\u001b[0;31mNameError\u001b[0m                                 Traceback (most recent call last)",
            "\u001b[0;32m<ipython-input-1-d18885b8d0b2>\u001b[0m in \u001b[0;36m<cell line: 1>\u001b[0;34m()\u001b[0m\n\u001b[0;32m----> 1\u001b[0;31m \u001b[0mturn_data\u001b[0m\u001b[0;34m(\u001b[0m\u001b[0mgraph\u001b[0m\u001b[0;34m)\u001b[0m\u001b[0;34m\u001b[0m\u001b[0;34m\u001b[0m\u001b[0m\n\u001b[0m",
            "\u001b[0;31mNameError\u001b[0m: name 'turn_data' is not defined"
          ]
        }
      ],
      "source": [
        "turn_data(graph)"
      ]
    }
  ],
  "metadata": {
    "colab": {
      "machine_shape": "hm",
      "provenance": [],
      "include_colab_link": true
    },
    "kernelspec": {
      "display_name": "Python 3",
      "name": "python3"
    },
    "language_info": {
      "name": "python"
    }
  },
  "nbformat": 4,
  "nbformat_minor": 0
}